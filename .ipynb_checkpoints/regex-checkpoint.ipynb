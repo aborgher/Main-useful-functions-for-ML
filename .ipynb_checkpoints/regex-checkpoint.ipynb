{
 "cells": [
  {
   "cell_type": "markdown",
   "metadata": {
    "toc": "true"
   },
   "source": [
    "# Table of Contents\n",
    " <p><div class=\"lev1 toc-item\"><a href=\"#Regular-expression\" data-toc-modified-id=\"Regular-expression-1\"><span class=\"toc-item-num\">1&nbsp;&nbsp;</span>Regular expression</a></div><div class=\"lev3 toc-item\"><a href=\"#using-regular-expression-object\" data-toc-modified-id=\"using-regular-expression-object-101\"><span class=\"toc-item-num\">1.0.1&nbsp;&nbsp;</span>using regular expression object</a></div><div class=\"lev3 toc-item\"><a href=\"#using-re-module\" data-toc-modified-id=\"using-re-module-102\"><span class=\"toc-item-num\">1.0.2&nbsp;&nbsp;</span>using re module</a></div><div class=\"lev3 toc-item\"><a href=\"#Some-useful-examples\" data-toc-modified-id=\"Some-useful-examples-103\"><span class=\"toc-item-num\">1.0.3&nbsp;&nbsp;</span>Some useful examples</a></div><div class=\"lev1 toc-item\"><a href=\"#Using-regex-in-a-pandas-dataframe\" data-toc-modified-id=\"Using-regex-in-a-pandas-dataframe-2\"><span class=\"toc-item-num\">2&nbsp;&nbsp;</span>Using regex in a pandas dataframe</a></div>"
   ]
  },
  {
   "cell_type": "markdown",
   "metadata": {},
   "source": [
    "# Regular expression\n",
    "\n",
    "- you can add two regular expression\n",
    "- standard escapes in python: \\a,\\b,\\f,\\n,\\r,\\t,\\v,\\x,\\\\ which are accepted by the re\n",
    "- Special characters (if MULTILINE mode is required different behaviour are obtained):\n",
    "- '\\' to indicate special characters, use \\\\\\ to search for normal \\ character or use raw string which is r'\\n' which search for \\ and n\n",
    "\n",
    "|      |    |\n",
    "|------|----|\n",
    "| .        | match any character expect the newline \n",
    "| ^        | match the start of the string or each  \n",
    "| $        | match the end of the string or just before the newline \n",
    "| *        | match the precedent re any times. 'ab'* match 'a', 'ab', and 'abbbbb' (any numbers of b) \n",
    "| +        | same as * but doesn't match 'a' only (any numbers of b but zero) \n",
    "| ?        | same as * but only match 1 or 0 repetition ('a' and 'ab' only) \n",
    "| *?,+?,?? | using ? after *,+,? perform the match in a minimal fashion\n",
    "| {m}  m   |copies of the previous re should be matched\n",
    "| {m,n}    | match from m to n repetitions of the previous re, default m value is zero, default n value is inf\n",
    "| {m,n}?   | same as {m,n} but in a minimal fashion (if 'aaaab' and re='a{2,4}?' it will only match the first two aa)\n",
    "| \\        | allows you to match *,?, etc..\n",
    "| []       | match a set of characters (e.g. [abc], [a-z] will match lowercase from a to z, [0-5][0-6] will match 00 or 06, to match - use \\-, special characters lose their meaning and are simple literal, character classes are accepted, when the set start with ^ a complementing match is performed [^5] match all but 5, use \\[ \\] to match [ and ] inside the set)\n",
    "| (..)     | match the re wrote in .., this form is called a group\n",
    "| (?P<name>..) |  same as (..) but give a name to the matched substring to recall it in another part of the re\n",
    "| (?P=name)|  to match the same text matched by (?P<name>..)\n",
    "| (?#..)   | comment that will not be considered\n",
    "| (?=..)   | match if .. matches next but don't consume the string\n",
    "| (?!=..)  | same as above but require the not-match\n",
    "| (?<=..)  | similar to above but check if the .. match previous. It can be used only with fixed lenght after the command (e.g. (?<=abc)def will match abcdef)\n",
    "| (?<!=..) | same as above but require not match\n",
    "| \\number  | repeat the number-th° group written (start from \\1 to \\99, e.g. '(.+) \\1' match 'the the')\n",
    "| \\A       | match only the start of the string\n",
    "| \\b       | match the empty string only at the begin or end of a word (e.g. '\\bfoo\\b match 'foo' but not '\\foo3')\n",
    "| \\B       | match the empty string but not at the begin or endb (e.g. 'py\\B' match 'python' but not 'py')\n",
    "| \\d       | match any decimal digit 0-9\n",
    "| \\D       | match any non-digit, same as [^0-9]\n",
    "| \\s       | match any whitespace character\n",
    "| \\S       | match all but whitespace character\n",
    "| \\w       | match any alphanumeric character\n",
    "| \\W       | match all but an alphanumeric character\n",
    "| \\X       | match only at the end of the string\n",
    "\n",
    "- |     A|B create a re that match the re A or the re B"
   ]
  },
  {
   "cell_type": "code",
   "execution_count": 1,
   "metadata": {
    "collapsed": true
   },
   "outputs": [],
   "source": [
    "import re"
   ]
  },
  {
   "cell_type": "code",
   "execution_count": 2,
   "metadata": {
    "collapsed": true
   },
   "outputs": [],
   "source": [
    "phrase = \"Oggi piove, ma domani al 50% non dovrebbe piovere, maaaaaaa\""
   ]
  },
  {
   "cell_type": "code",
   "execution_count": 19,
   "metadata": {
    "scrolled": true
   },
   "outputs": [
    {
     "data": {
      "text/plain": [
       "(None, <_sre.SRE_Match object; span=(12, 14), match='ma'>)"
      ]
     },
     "execution_count": 19,
     "metadata": {},
     "output_type": "execute_result"
    }
   ],
   "source": [
    "# match tries to match the entire string. Use search to have the first match, findall for everyone.\n",
    "re.match('ma', phrase), re.search('ma', phrase)"
   ]
  },
  {
   "cell_type": "markdown",
   "metadata": {},
   "source": [
    "### using regular expression object"
   ]
  },
  {
   "cell_type": "code",
   "execution_count": 3,
   "metadata": {
    "collapsed": true
   },
   "outputs": [],
   "source": [
    "# create the regular expression obtject with a certain match\n",
    "pippo = re.compile(pattern='ma*')"
   ]
  },
  {
   "cell_type": "code",
   "execution_count": 4,
   "metadata": {},
   "outputs": [
    {
     "name": "stdout",
     "output_type": "stream",
     "text": [
      "None\n"
     ]
    }
   ],
   "source": [
    "# match at the beginning of the string, return a MatchObject or None if no match are found\n",
    "print(pippo.match(string=phrase))"
   ]
  },
  {
   "cell_type": "code",
   "execution_count": 5,
   "metadata": {},
   "outputs": [
    {
     "data": {
      "text/plain": [
       "'ma'"
      ]
     },
     "execution_count": 5,
     "metadata": {},
     "output_type": "execute_result"
    }
   ],
   "source": [
    "# find the first substring that match the re, return a MatchObject or None if no match are found, \n",
    "# pos and endpos gives the position where to start and to stop the pattern search in the string\n",
    "mysearch = pippo.search(string=phrase, pos=6, endpos=40)\n",
    "mysearch.string[mysearch.start(): mysearch.end()]"
   ]
  },
  {
   "cell_type": "markdown",
   "metadata": {},
   "source": [
    "### using re module"
   ]
  },
  {
   "cell_type": "code",
   "execution_count": 6,
   "metadata": {},
   "outputs": [
    {
     "name": "stdout",
     "output_type": "stream",
     "text": [
      "RegexFlag.IGNORECASE\n",
      "True\n"
     ]
    }
   ],
   "source": [
    "# to perform case-insensitive matching\n",
    "print(re.IGNORECASE)\n",
    "re.IGNORECASE =True\n",
    "print(re.IGNORECASE)"
   ]
  },
  {
   "cell_type": "code",
   "execution_count": 7,
   "metadata": {},
   "outputs": [
    {
     "data": {
      "text/plain": [
       "<RegexFlag.MULTILINE: 8>"
      ]
     },
     "execution_count": 7,
     "metadata": {},
     "output_type": "execute_result"
    }
   ],
   "source": [
    "# perform searches in multiline mode, each \\n is consider to be a new string (only for some commands)\n",
    "re.MULTILINE"
   ]
  },
  {
   "cell_type": "code",
   "execution_count": 8,
   "metadata": {},
   "outputs": [
    {
     "data": {
      "text/plain": [
       "['Oggi',\n",
       " 'piove,',\n",
       " 'ma',\n",
       " 'domani',\n",
       " 'al',\n",
       " '50%',\n",
       " 'non',\n",
       " 'dovrebbe',\n",
       " 'piovere,',\n",
       " 'maaaaaaa']"
      ]
     },
     "execution_count": 8,
     "metadata": {},
     "output_type": "execute_result"
    }
   ],
   "source": [
    "# split the string by the occurrences of pattern or return the entire string\n",
    "re.split(pattern=' ', string=phrase)"
   ]
  },
  {
   "cell_type": "code",
   "execution_count": 9,
   "metadata": {},
   "outputs": [
    {
     "data": {
      "text/plain": [
       "['ma', 'ma', 'maaaaaaa']"
      ]
     },
     "execution_count": 9,
     "metadata": {},
     "output_type": "execute_result"
    }
   ],
   "source": [
    "# return all non-overlapping matches\n",
    "re.findall(pattern=\"ma*\", string=phrase)"
   ]
  },
  {
   "cell_type": "code",
   "execution_count": 10,
   "metadata": {},
   "outputs": [
    {
     "name": "stdout",
     "output_type": "stream",
     "text": [
      "<_sre.SRE_Match object; span=(12, 14), match='ma'>\n",
      "<_sre.SRE_Match object; span=(17, 19), match='ma'>\n",
      "<_sre.SRE_Match object; span=(51, 59), match='maaaaaaa'>\n",
      "59\n",
      "59\n",
      "0\n",
      "51\n",
      "(51, 59)\n",
      "Oggi piove, ma domani al 50% non dovrebbe piovere, maaaaaaa\n",
      "maaaaaaa\n"
     ]
    }
   ],
   "source": [
    "# return iterator yielding match pattern in string\n",
    "for i in re.finditer(pattern=\"ma*\", string=phrase):\n",
    "    print(i)\n",
    "print(\n",
    "    i.end(),\n",
    "    i.endpos,\n",
    "    i.pos,\n",
    "    i.start(),\n",
    "    i.span(),\n",
    "    i.string,\n",
    "    i.string[i.start():i.end()],\n",
    "    sep='\\n')"
   ]
  },
  {
   "cell_type": "code",
   "execution_count": 11,
   "metadata": {},
   "outputs": [
    {
     "data": {
      "text/plain": [
       "'Oggi piove, _MA_ do_MA_ni al 50% non dovrebbe piovere, _MA_'"
      ]
     },
     "execution_count": 11,
     "metadata": {},
     "output_type": "execute_result"
    }
   ],
   "source": [
    "# replace pattern with repl only for the first occurrence\n",
    "re.sub(pattern=\"ma*\", repl='_MA_', string = phrase)"
   ]
  },
  {
   "cell_type": "code",
   "execution_count": 12,
   "metadata": {},
   "outputs": [
    {
     "data": {
      "text/plain": [
       "('Oggi piove, _MA_ do_MA_ni al 50% non dovrebbe piovere, _MA_', 3)"
      ]
     },
     "execution_count": 12,
     "metadata": {},
     "output_type": "execute_result"
    }
   ],
   "source": [
    "# same as re.sub but return the number of replacements\n",
    "re.subn(pattern='ma*', repl='_MA_',string=phrase) "
   ]
  },
  {
   "cell_type": "code",
   "execution_count": 13,
   "metadata": {},
   "outputs": [
    {
     "name": "stdout",
     "output_type": "stream",
     "text": [
      "ok\n"
     ]
    }
   ],
   "source": [
    "# MatchObject always have a boolean value of True\n",
    "if mysearch:\n",
    "    print('ok')"
   ]
  },
  {
   "cell_type": "code",
   "execution_count": 14,
   "metadata": {},
   "outputs": [
    {
     "data": {
      "text/plain": [
       "'ma'"
      ]
     },
     "execution_count": 14,
     "metadata": {},
     "output_type": "execute_result"
    }
   ],
   "source": [
    "# return one or more subgroups, number of the group=0 return the entire match, \n",
    "# if the group as a name you can pass the name of the group\n",
    "mysearch.group(0)"
   ]
  },
  {
   "cell_type": "code",
   "execution_count": 15,
   "metadata": {},
   "outputs": [
    {
     "data": {
      "text/plain": [
       "{}"
      ]
     },
     "execution_count": 15,
     "metadata": {},
     "output_type": "execute_result"
    }
   ],
   "source": [
    "# return all the groups found\n",
    "mysearch.groups()\n",
    "# return all groups with name into a group\n",
    "mysearch.groupdict()"
   ]
  },
  {
   "cell_type": "code",
   "execution_count": 16,
   "metadata": {},
   "outputs": [
    {
     "data": {
      "text/plain": [
       "((12, 14), 12, 14)"
      ]
     },
     "execution_count": 16,
     "metadata": {},
     "output_type": "execute_result"
    }
   ],
   "source": [
    "# return start and end of the group number\n",
    "mysearch.span(0), mysearch.start(0), mysearch.end(0)"
   ]
  },
  {
   "cell_type": "markdown",
   "metadata": {
    "collapsed": true
   },
   "source": [
    "### Some useful examples"
   ]
  },
  {
   "cell_type": "code",
   "execution_count": 17,
   "metadata": {},
   "outputs": [
    {
     "name": "stdout",
     "output_type": "stream",
     "text": [
      "123\n"
     ]
    }
   ],
   "source": [
    "# get a number\n",
    "s = \"Your number is <b>123</b>\"\n",
    "m = re.search(r\"\\d+\", s)\n",
    "print(m.group())"
   ]
  },
  {
   "cell_type": "code",
   "execution_count": 22,
   "metadata": {},
   "outputs": [
    {
     "name": "stdout",
     "output_type": "stream",
     "text": [
      "[]\n",
      "['hello', 'w-o-r-l-d']\n",
      "['hello', 'world']\n"
     ]
    }
   ],
   "source": [
    "regex = re.compile(r'([a-z][a-z-\\']+[a-z])')\n",
    "print(regex.findall(\"HELLO W-O-R-L-D\"))  # this has uppercase\n",
    "print(regex.findall(\"HELLO W-O-R-L-D\".lower()))  # lets lowercase\n",
    "print(regex.findall(\"123hello456world789\"))"
   ]
  },
  {
   "cell_type": "code",
   "execution_count": 25,
   "metadata": {
    "collapsed": true
   },
   "outputs": [],
   "source": [
    "r = re.compile(\"Sent from my (iPhone|iPod)\")"
   ]
  },
  {
   "cell_type": "code",
   "execution_count": 27,
   "metadata": {},
   "outputs": [
    {
     "name": "stdout",
     "output_type": "stream",
     "text": [
      "None\n"
     ]
    }
   ],
   "source": [
    "print(r.match('Sent from my Ipad'))"
   ]
  },
  {
   "cell_type": "markdown",
   "metadata": {},
   "source": [
    "# Using regex in a pandas dataframe"
   ]
  },
  {
   "cell_type": "code",
   "execution_count": 1,
   "metadata": {
    "ExecuteTime": {
     "end_time": "2017-09-10T11:34:01.423072Z",
     "start_time": "2017-09-10T11:34:01.124493Z"
    },
    "collapsed": true
   },
   "outputs": [],
   "source": [
    "import pandas as pd"
   ]
  },
  {
   "cell_type": "code",
   "execution_count": null,
   "metadata": {
    "collapsed": true
   },
   "outputs": [],
   "source": [
    "pd.DataFrame"
   ]
  },
  {
   "cell_type": "code",
   "execution_count": null,
   "metadata": {
    "collapsed": true
   },
   "outputs": [],
   "source": []
  },
  {
   "cell_type": "code",
   "execution_count": null,
   "metadata": {
    "collapsed": true
   },
   "outputs": [],
   "source": []
  },
  {
   "cell_type": "code",
   "execution_count": null,
   "metadata": {
    "collapsed": true
   },
   "outputs": [],
   "source": []
  },
  {
   "cell_type": "code",
   "execution_count": null,
   "metadata": {
    "collapsed": true
   },
   "outputs": [],
   "source": []
  },
  {
   "cell_type": "code",
   "execution_count": null,
   "metadata": {
    "collapsed": true
   },
   "outputs": [],
   "source": []
  }
 ],
 "metadata": {
  "kernelspec": {
   "display_name": "Python 3",
   "language": "python",
   "name": "python3"
  },
  "language_info": {
   "codemirror_mode": {
    "name": "ipython",
    "version": 3
   },
   "file_extension": ".py",
   "mimetype": "text/x-python",
   "name": "python",
   "nbconvert_exporter": "python",
   "pygments_lexer": "ipython3",
   "version": "3.6.1"
  },
  "toc": {
   "colors": {
    "hover_highlight": "#DAA520",
    "navigate_num": "#000000",
    "navigate_text": "#333333",
    "running_highlight": "#FF0000",
    "selected_highlight": "#FFD700",
    "sidebar_border": "#EEEEEE",
    "wrapper_background": "#FFFFFF"
   },
   "moveMenuLeft": true,
   "nav_menu": {
    "height": "135px",
    "width": "252px"
   },
   "navigate_menu": true,
   "number_sections": true,
   "sideBar": true,
   "threshold": 4,
   "toc_cell": true,
   "toc_section_display": "block",
   "toc_window_display": true,
   "widenNotebook": false
  }
 },
 "nbformat": 4,
 "nbformat_minor": 2
}
