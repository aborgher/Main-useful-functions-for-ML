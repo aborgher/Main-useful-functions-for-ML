{
 "cells": [
  {
   "cell_type": "markdown",
   "metadata": {},
   "source": [
    "### Regular expression\n",
    "\n",
    "- you can add two regular expression\n",
    "- standard escapes in python: \\a,\\b,\\f,\\n,\\r,\\t,\\v,\\x,\\\\ which are accepted by the re\n",
    "- Special characters (if MULTILINE mode is required different behaviour are obtained):\n",
    "- '\\' to indicate special characters, use \\\\\\ to search for normal \\ character or use raw string which is r'\\n' which search for \\ and n\n",
    "\n",
    "|      |    |\n",
    "|------|----|\n",
    "| .        | match any character expect the newline \n",
    "| ^        | match the start of the string or each  \n",
    "| $        | match the end of the string or just before the newline \n",
    "| *        | match the precedent re any times. 'ab'* match 'a', 'ab', and 'abbbbb' (any numbers of b) \n",
    "| +        | same as * but doesn't match 'a' only (any numbers of b but zero) \n",
    "| ?        | same as * but only match 1 or 0 repetition ('a' and 'ab' only) \n",
    "| *?,+?,?? | using ? after *,+,? perform the match in a minimal fashion\n",
    "| {m}  m   |copies of the previous re should be matched\n",
    "| {m,n}    | match from m to n repetitions of the previous re, default m value is zero, default n value is inf\n",
    "| {m,n}?   | same as {m,n} but in a minimal fashion (if 'aaaab' and re='a{2,4}?' it will only match the first two aa)\n",
    "| \\        | allows you to match *,?, etc..\n",
    "| []       | match a set of characters (e.g. [abc], [a-z] will match lowercase from a to z, [0-5][0-6] will match 00 or 06, to match - use \\-, special characters lose their meaning and are simple literal, character classes are accepted, when the set start with ^ a complementing match is performed [^5] match all but 5, use \\[ \\] to match [ and ] inside the set)\n",
    "| (..)     | match the re wrote in .., this form is called a group\n",
    "| (?P<name>..) |  same as (..) but give a name to the matched substring to recall it in another part of the re\n",
    "| (?P=name)|  to match the same text matched by (?P<name>..)\n",
    "| (?#..)   | comment that will not be considered\n",
    "| (?=..)   | match if .. matches next but don't consume the string\n",
    "| (?!=..)  | same as above but require the not-match\n",
    "| (?<=..)  | similar to above but check if the .. match previous. It can be used only with fixed lenght after the command (e.g. (?<=abc)def will match abcdef)\n",
    "| (?<!=..) | same as above but require not match\n",
    "| \\number  | repeat the number-th° group written (start from \\1 to \\99, e.g. '(.+) \\1' match 'the the')\n",
    "| \\A       | match only the start of the string\n",
    "| \\b       | match the empty string only at the begin or end of a word (e.g. '\\bfoo\\b match 'foo' but not '\\foo3')\n",
    "| \\B       | match the empty string but not at the begin or endb (e.g. 'py\\B' match 'python' but not 'py')\n",
    "| \\d       | match any decimal digit 0-9\n",
    "| \\D       | match any non-digit, same as [^0-9]\n",
    "| \\s       | match any whitespace character\n",
    "| \\S       | match all but whitespace character\n",
    "| \\w       | match any alphanumeric character\n",
    "| \\W       | match all but an alphanumeric character\n",
    "| \\X       | match only at the end of the string\n",
    "\n",
    "- |     A|B create a re that match the re A or the re B"
   ]
  },
  {
   "cell_type": "code",
   "execution_count": 1,
   "metadata": {
    "collapsed": true
   },
   "outputs": [],
   "source": [
    "import re"
   ]
  },
  {
   "cell_type": "code",
   "execution_count": 2,
   "metadata": {
    "collapsed": true
   },
   "outputs": [],
   "source": [
    "phrase = \"Oggi piove, ma domani al 50% non dovrebbe piovere, maaaaaaa\""
   ]
  },
  {
   "cell_type": "code",
   "execution_count": 19,
   "metadata": {
    "scrolled": true
   },
   "outputs": [
    {
     "data": {
      "text/plain": [
       "(None, <_sre.SRE_Match object; span=(12, 14), match='ma'>)"
      ]
     },
     "execution_count": 19,
     "metadata": {},
     "output_type": "execute_result"
    }
   ],
   "source": [
    "# match tries to match the entire string. Use search to have the first match, findall for everyone.\n",
    "re.match('ma', phrase), re.search('ma', phrase)"
   ]
  },
  {
   "cell_type": "markdown",
   "metadata": {},
   "source": [
    "#### using regular expression object"
   ]
  },
  {
   "cell_type": "code",
   "execution_count": 3,
   "metadata": {
    "collapsed": true
   },
   "outputs": [],
   "source": [
    "# create the regular expression obtject with a certain match\n",
    "pippo = re.compile(pattern='ma*')"
   ]
  },
  {
   "cell_type": "code",
   "execution_count": 4,
   "metadata": {},
   "outputs": [
    {
     "name": "stdout",
     "output_type": "stream",
     "text": [
      "None\n"
     ]
    }
   ],
   "source": [
    "# match at the beginning of the string, return a MatchObject or None if no match are found\n",
    "print(pippo.match(string=phrase))"
   ]
  },
  {
   "cell_type": "code",
   "execution_count": 5,
   "metadata": {},
   "outputs": [
    {
     "data": {
      "text/plain": [
       "'ma'"
      ]
     },
     "execution_count": 5,
     "metadata": {},
     "output_type": "execute_result"
    }
   ],
   "source": [
    "# find the first substring that match the re, return a MatchObject or None if no match are found, \n",
    "# pos and endpos gives the position where to start and to stop the pattern search in the string\n",
    "mysearch = pippo.search(string=phrase, pos=6, endpos=40)\n",
    "mysearch.string[mysearch.start(): mysearch.end()]"
   ]
  },
  {
   "cell_type": "markdown",
   "metadata": {},
   "source": [
    "#### using re module"
   ]
  },
  {
   "cell_type": "code",
   "execution_count": 6,
   "metadata": {},
   "outputs": [
    {
     "name": "stdout",
     "output_type": "stream",
     "text": [
      "RegexFlag.IGNORECASE\n",
      "True\n"
     ]
    }
   ],
   "source": [
    "# to perform case-insensitive matching\n",
    "print(re.IGNORECASE)\n",
    "re.IGNORECASE =True\n",
    "print(re.IGNORECASE)"
   ]
  },
  {
   "cell_type": "code",
   "execution_count": 7,
   "metadata": {},
   "outputs": [
    {
     "data": {
      "text/plain": [
       "<RegexFlag.MULTILINE: 8>"
      ]
     },
     "execution_count": 7,
     "metadata": {},
     "output_type": "execute_result"
    }
   ],
   "source": [
    "# perform searches in multiline mode, each \\n is consider to be a new string (only for some commands)\n",
    "re.MULTILINE"
   ]
  },
  {
   "cell_type": "code",
   "execution_count": 8,
   "metadata": {},
   "outputs": [
    {
     "data": {
      "text/plain": [
       "['Oggi',\n",
       " 'piove,',\n",
       " 'ma',\n",
       " 'domani',\n",
       " 'al',\n",
       " '50%',\n",
       " 'non',\n",
       " 'dovrebbe',\n",
       " 'piovere,',\n",
       " 'maaaaaaa']"
      ]
     },
     "execution_count": 8,
     "metadata": {},
     "output_type": "execute_result"
    }
   ],
   "source": [
    "# split the string by the occurrences of pattern or return the entire string\n",
    "re.split(pattern=' ', string=phrase)"
   ]
  },
  {
   "cell_type": "code",
   "execution_count": 9,
   "metadata": {},
   "outputs": [
    {
     "data": {
      "text/plain": [
       "['ma', 'ma', 'maaaaaaa']"
      ]
     },
     "execution_count": 9,
     "metadata": {},
     "output_type": "execute_result"
    }
   ],
   "source": [
    "# return all non-overlapping matches\n",
    "re.findall(pattern=\"ma*\", string=phrase)"
   ]
  },
  {
   "cell_type": "code",
   "execution_count": 10,
   "metadata": {},
   "outputs": [
    {
     "name": "stdout",
     "output_type": "stream",
     "text": [
      "<_sre.SRE_Match object; span=(12, 14), match='ma'>\n",
      "<_sre.SRE_Match object; span=(17, 19), match='ma'>\n",
      "<_sre.SRE_Match object; span=(51, 59), match='maaaaaaa'>\n",
      "59\n",
      "59\n",
      "0\n",
      "51\n",
      "(51, 59)\n",
      "Oggi piove, ma domani al 50% non dovrebbe piovere, maaaaaaa\n",
      "maaaaaaa\n"
     ]
    }
   ],
   "source": [
    "# return iterator yielding match pattern in string\n",
    "for i in re.finditer(pattern=\"ma*\", string=phrase):\n",
    "    print(i)\n",
    "print(\n",
    "    i.end(),\n",
    "    i.endpos,\n",
    "    i.pos,\n",
    "    i.start(),\n",
    "    i.span(),\n",
    "    i.string,\n",
    "    i.string[i.start():i.end()],\n",
    "    sep='\\n')"
   ]
  },
  {
   "cell_type": "code",
   "execution_count": 11,
   "metadata": {},
   "outputs": [
    {
     "data": {
      "text/plain": [
       "'Oggi piove, _MA_ do_MA_ni al 50% non dovrebbe piovere, _MA_'"
      ]
     },
     "execution_count": 11,
     "metadata": {},
     "output_type": "execute_result"
    }
   ],
   "source": [
    "# replace pattern with repl only for the first occurrence\n",
    "re.sub(pattern=\"ma*\", repl='_MA_', string = phrase)"
   ]
  },
  {
   "cell_type": "code",
   "execution_count": 12,
   "metadata": {},
   "outputs": [
    {
     "data": {
      "text/plain": [
       "('Oggi piove, _MA_ do_MA_ni al 50% non dovrebbe piovere, _MA_', 3)"
      ]
     },
     "execution_count": 12,
     "metadata": {},
     "output_type": "execute_result"
    }
   ],
   "source": [
    "# same as re.sub but return the number of replacements\n",
    "re.subn(pattern='ma*', repl='_MA_',string=phrase) "
   ]
  },
  {
   "cell_type": "code",
   "execution_count": 13,
   "metadata": {},
   "outputs": [
    {
     "name": "stdout",
     "output_type": "stream",
     "text": [
      "ok\n"
     ]
    }
   ],
   "source": [
    "# MatchObject always have a boolean value of True\n",
    "if mysearch:\n",
    "    print('ok')"
   ]
  },
  {
   "cell_type": "code",
   "execution_count": 14,
   "metadata": {},
   "outputs": [
    {
     "data": {
      "text/plain": [
       "'ma'"
      ]
     },
     "execution_count": 14,
     "metadata": {},
     "output_type": "execute_result"
    }
   ],
   "source": [
    "# return one or more subgroups, number of the group=0 return the entire match, \n",
    "# if the group as a name you can pass the name of the group\n",
    "mysearch.group(0)"
   ]
  },
  {
   "cell_type": "code",
   "execution_count": 15,
   "metadata": {},
   "outputs": [
    {
     "data": {
      "text/plain": [
       "{}"
      ]
     },
     "execution_count": 15,
     "metadata": {},
     "output_type": "execute_result"
    }
   ],
   "source": [
    "# return all the groups found\n",
    "mysearch.groups()\n",
    "# return all groups with name into a group\n",
    "mysearch.groupdict()"
   ]
  },
  {
   "cell_type": "code",
   "execution_count": 16,
   "metadata": {},
   "outputs": [
    {
     "data": {
      "text/plain": [
       "((12, 14), 12, 14)"
      ]
     },
     "execution_count": 16,
     "metadata": {},
     "output_type": "execute_result"
    }
   ],
   "source": [
    "# return start and end of the group number\n",
    "mysearch.span(0), mysearch.start(0), mysearch.end(0)"
   ]
  },
  {
   "cell_type": "markdown",
   "metadata": {
    "collapsed": true
   },
   "source": [
    "#### Some useful examples"
   ]
  },
  {
   "cell_type": "code",
   "execution_count": 17,
   "metadata": {},
   "outputs": [
    {
     "name": "stdout",
     "output_type": "stream",
     "text": [
      "123\n"
     ]
    }
   ],
   "source": [
    "# get a number\n",
    "s = \"Your number is <b>123</b>\"\n",
    "m = re.search(r\"\\d+\", s)\n",
    "print(m.group())"
   ]
  },
  {
   "cell_type": "code",
   "execution_count": 22,
   "metadata": {},
   "outputs": [
    {
     "name": "stdout",
     "output_type": "stream",
     "text": [
      "[]\n",
      "['hello', 'w-o-r-l-d']\n",
      "['hello', 'world']\n"
     ]
    }
   ],
   "source": [
    "regex = re.compile(r'([a-z][a-z-\\']+[a-z])')\n",
    "print(regex.findall(\"HELLO W-O-R-L-D\"))  # this has uppercase\n",
    "print(regex.findall(\"HELLO W-O-R-L-D\".lower()))  # lets lowercase\n",
    "print(regex.findall(\"123hello456world789\"))"
   ]
  },
  {
   "cell_type": "code",
   "execution_count": 25,
   "metadata": {
    "collapsed": true
   },
   "outputs": [],
   "source": [
    "r = re.compile(\"Sent from my (iPhone|iPod)\")"
   ]
  },
  {
   "cell_type": "code",
   "execution_count": 27,
   "metadata": {},
   "outputs": [
    {
     "name": "stdout",
     "output_type": "stream",
     "text": [
      "None\n"
     ]
    }
   ],
   "source": [
    "print(r.match('Sent from my Ipad'))"
   ]
  },
  {
   "cell_type": "markdown",
   "metadata": {
    "collapsed": true
   },
   "source": [
    "### Translate using google translate\n",
    "- https://github.com/ssut/py-googletrans\n",
    "- should be free and unlimted, interned connection required"
   ]
  },
  {
   "cell_type": "code",
   "execution_count": 6,
   "metadata": {
    "collapsed": true
   },
   "outputs": [],
   "source": [
    "from googletrans import Translator"
   ]
  },
  {
   "cell_type": "code",
   "execution_count": 7,
   "metadata": {
    "collapsed": true
   },
   "outputs": [],
   "source": [
    "o = open(\"../AliceNelPaeseDelleMeraviglie.txt\")\n",
    "all = ''\n",
    "for l in o: all += l"
   ]
  },
  {
   "cell_type": "code",
   "execution_count": 8,
   "metadata": {
    "collapsed": true
   },
   "outputs": [],
   "source": [
    "translator = Translator()"
   ]
  },
  {
   "cell_type": "code",
   "execution_count": 9,
   "metadata": {},
   "outputs": [
    {
     "name": "stdout",
     "output_type": "stream",
     "text": [
      " ranuncolo e facendosi vento con\n",
      "una delle sue foglie. - Oh, avrei voluto insegnargli dei giuochi se... se fossi stata d'una statura adatta!\n",
      "Poveretta me! avevo dimenticato che avevo bisogno di crescere ancora! Vediamo, come debbo fare?\n",
      "Forse dovrei mangiare o bere qualche cosa; ma che cosa?\n",
      "Il problema era questo: che cosa? Alice guardò intorno fra i fiori e i fili d'erba; ma non poté veder\n",
      "nulla che le sembrasse adatto a mangiare o a bere per l'occasione. C'era però un grosso fungo vicino\n",
      "a lei, press'a poco alto quanto lei; e dopo che l'ebbe esaminato di sotto, ai lati e di dietro, le parve\n",
      "cosa naturale di vedere che ci fosse di sopra. \n",
      "Alzandosi in punta dei piedi, si affacciò all'orlo del fungo, e gli occhi suoi s'incontrarono con quelli\n",
      "d'un grosso Bruco turchino che se ne stava seduto nel centro con le braccia conserte, fumando\n",
      "tranquillamente una lunga pipa, e non facendo la minima attenzione ne a lei, né ad altro.\n",
      "\n",
      "\n",
      "\n",
      "\n",
      "CONSIGLI DEL BRUCO\n",
      "Il Bruco e Alice si guardarono a vicend\n",
      "\n",
      "Ranch and getting wind with\n",
      "One of her leaves. - Oh, I would like to teach him some jokes if ... if I were of a suitable stature!\n",
      "Poverty me! I had forgotten that I needed to grow again! Let's see how do I do it?\n",
      "Maybe I should eat or drink something; but what?\n",
      "The problem was this: what? Alice looked around among the flowers and the wires of grass; But could not see it\n",
      "Nothing that seems fit to eat or drink for the occasion. There was, however, a big fungus near\n",
      "To her, she pressed as high as her; And after he had examined it below, at the sides and behind, he seemed to be\n",
      "Natural thing to see that it was above.\n",
      "Standing to the tip of his feet, he sprang to the brim of the fungus, and his eyes met with those\n",
      "Of a big turquoise Bruco sitting in the center with his arms folded, smoking\n",
      "Quietly a long pipe, and not paying the least attention to her, or to anything else.\n",
      "\n",
      "\n",
      "\n",
      "\n",
      "BRUCO RECOMMENDATIONS\n",
      "Bruco and Alice looked at each other\n"
     ]
    }
   ],
   "source": [
    "for i in range(42, 43, 1):\n",
    "    print(all[i * 1000:i * 1000 + 1000], end='\\n\\n')\n",
    "    print(translator.translate(all[i * 1000:i * 1000 + 1000], dest='en').text)"
   ]
  },
  {
   "cell_type": "code",
   "execution_count": 19,
   "metadata": {},
   "outputs": [
    {
     "name": "stdout",
     "output_type": "stream",
     "text": [
      "Languge: it  with confidence: 0.21400356\n"
     ]
    }
   ],
   "source": [
    "## if language is not passed it is guessed, so it can detect a language\n",
    "frase = \"Ciao Giulia, ti va un gelato?\"\n",
    "det = translator.detect(frase)\n",
    "print(\"Languge:\", det.lang, \" with confidence:\", det.confidence)"
   ]
  },
  {
   "cell_type": "code",
   "execution_count": 22,
   "metadata": {},
   "outputs": [
    {
     "name": "stdout",
     "output_type": "stream",
     "text": [
      "Traceback (most recent call last):\r\n",
      "  File \"/home/ale/anaconda3/bin/translate\", line 5, in <module>\r\n",
      "    from googletrans import translator\r\n",
      "ImportError: cannot import name 'translator'\r\n"
     ]
    }
   ],
   "source": [
    "# command line usage, but it seems to don't work to me\n",
    "!translate \"veritas lux mea\" -s la -d en"
   ]
  },
  {
   "cell_type": "code",
   "execution_count": 36,
   "metadata": {},
   "outputs": [
    {
     "name": "stdout",
     "output_type": "stream",
     "text": [
      "The quick brown fox  ->  빠른 갈색 여우\n",
      "jumps over  ->  점프하다\n",
      "the lazy dog  ->  게으른 개\n"
     ]
    }
   ],
   "source": [
    "translations = translator.translate(\n",
    "    ['The quick brown fox', 'jumps over', 'the lazy dog'], dest='ko')\n",
    "for translation in translations:\n",
    "    print(translation.origin, ' -> ', translation.text)"
   ]
  },
  {
   "cell_type": "code",
   "execution_count": 51,
   "metadata": {},
   "outputs": [
    {
     "data": {
      "text/plain": [
       "('Ciao Giulia, ti va un gelato?',\n",
       " 'Hi Giulia, do you have an ice cream?',\n",
       " 'it',\n",
       " 'Hi Giulia, do you have an ice cream?',\n",
       " 'en')"
      ]
     },
     "execution_count": 51,
     "metadata": {},
     "output_type": "execute_result"
    }
   ],
   "source": [
    "phrase = translator.translate(frase, 'en')\n",
    "phrase.origin, phrase.text, phrase.src, phrase.pronunciation, phrase.dest"
   ]
  },
  {
   "cell_type": "markdown",
   "metadata": {},
   "source": [
    "### TreeTagger usage to tag an italian (or other languages) sentence\n",
    "How To install:\n",
    "- nltk need to be already installed and working\n",
    "- follow the instruction from http://www.cis.uni-muenchen.de/~schmid/tools/TreeTagger/ \n",
    "- run TreeTagger on terminal (echo 'Ciao Giulia come stai?' | tree-tagger-italian) to see if everything is working\n",
    "- download the github to get the python support from: https://github.com/miotto/treetagger-python\n",
    "- run /home/ale/anaconda3/bin/python setup.py install and everything should work (note that you need to specify which python you want, the default is python2)\n",
    "\n",
    "Infos:\n",
    "- The maximum character limit on a single text is 15k.\n",
    "- this API does not guarantee that the library would work properly at all times\n",
    "- for a more stability API use the non-free https://cloud.google.com/translate/docs/\n",
    "- If you get HTTP 5xx error or errors like #6, it's probably because Google has banned your client IP address"
   ]
  },
  {
   "cell_type": "code",
   "execution_count": 1,
   "metadata": {
    "scrolled": true
   },
   "outputs": [
    {
     "data": {
      "text/plain": [
       "[['What', 'WP', 'what'],\n",
       " ['is', 'VBZ', 'be'],\n",
       " ['the', 'DT', 'the'],\n",
       " ['airspeed', 'NN', 'airspeed'],\n",
       " ['of', 'IN', 'of'],\n",
       " ['an', 'DT', 'an'],\n",
       " ['unladen', 'JJ', '<unknown>'],\n",
       " ['swallow', 'NN', 'swallow'],\n",
       " ['?', 'SENT', '?']]"
      ]
     },
     "execution_count": 1,
     "metadata": {},
     "output_type": "execute_result"
    }
   ],
   "source": [
    "from treetagger import TreeTagger\n",
    "tt = TreeTagger(language='english')\n",
    "tt.tag('What is the airspeed of an unladen swallow?')"
   ]
  },
  {
   "cell_type": "code",
   "execution_count": 4,
   "metadata": {},
   "outputs": [
    {
     "data": {
      "text/plain": [
       "[['Proviamo', 'VER:pres', 'provare'],\n",
       " ['a', 'PRE', 'a'],\n",
       " ['vedere', 'VER:infi', 'vedere'],\n",
       " ['un', 'DET:indef', 'un'],\n",
       " ['pò', 'ADV', 'pò'],\n",
       " ['se', 'PRO:refl', 'se'],\n",
       " ['funziona', 'VER:pres', 'funzionare'],\n",
       " ['bene', 'ADV', 'bene'],\n",
       " ['questo', 'PRO:demo', 'questo'],\n",
       " ['tagger', 'VER:infi', '<unknown>']]"
      ]
     },
     "execution_count": 4,
     "metadata": {},
     "output_type": "execute_result"
    }
   ],
   "source": [
    "tt = TreeTagger(language='italian')\n",
    "tt.tag('Proviamo a vedere un pò se funziona bene questo tagger')"
   ]
  },
  {
   "cell_type": "code",
   "execution_count": null,
   "metadata": {
    "collapsed": true
   },
   "outputs": [],
   "source": []
  },
  {
   "cell_type": "code",
   "execution_count": null,
   "metadata": {
    "collapsed": true
   },
   "outputs": [],
   "source": []
  },
  {
   "cell_type": "code",
   "execution_count": null,
   "metadata": {
    "collapsed": true
   },
   "outputs": [],
   "source": []
  },
  {
   "cell_type": "code",
   "execution_count": null,
   "metadata": {
    "collapsed": true
   },
   "outputs": [],
   "source": []
  }
 ],
 "metadata": {
  "kernelspec": {
   "display_name": "Python 3",
   "language": "python",
   "name": "python3"
  },
  "language_info": {
   "codemirror_mode": {
    "name": "ipython",
    "version": 3
   },
   "file_extension": ".py",
   "mimetype": "text/x-python",
   "name": "python",
   "nbconvert_exporter": "python",
   "pygments_lexer": "ipython3",
   "version": "3.6.1"
  }
 },
 "nbformat": 4,
 "nbformat_minor": 2
}
