{
 "cells": [
  {
   "cell_type": "markdown",
   "metadata": {
    "toc": "true"
   },
   "source": [
    "# Table of Contents\n",
    " <p><div class=\"lev3 toc-item\"><a href=\"#Useful-Shortcuts-for-Jupyter-Notebook\" data-toc-modified-id=\"Useful-Shortcuts-for-Jupyter-Notebook-001\"><span class=\"toc-item-num\">0.0.1&nbsp;&nbsp;</span>Useful Shortcuts for Jupyter Notebook</a></div><div class=\"lev3 toc-item\"><a href=\"#Useful-Magic-for-jupyter-notebook\" data-toc-modified-id=\"Useful-Magic-for-jupyter-notebook-002\"><span class=\"toc-item-num\">0.0.2&nbsp;&nbsp;</span>Useful Magic for jupyter notebook</a></div><div class=\"lev3 toc-item\"><a href=\"#Other-usefuls:\" data-toc-modified-id=\"Other-usefuls:-003\"><span class=\"toc-item-num\">0.0.3&nbsp;&nbsp;</span>Other usefuls:</a></div><div class=\"lev3 toc-item\"><a href=\"#latex-formula\" data-toc-modified-id=\"latex-formula-004\"><span class=\"toc-item-num\">0.0.4&nbsp;&nbsp;</span>latex formula</a></div><div class=\"lev3 toc-item\"><a href=\"#Manage-packages-in-anaconda\" data-toc-modified-id=\"Manage-packages-in-anaconda-005\"><span class=\"toc-item-num\">0.0.5&nbsp;&nbsp;</span>Manage packages in anaconda</a></div><div class=\"lev3 toc-item\"><a href=\"#change-jupyter-theme\" data-toc-modified-id=\"change-jupyter-theme-006\"><span class=\"toc-item-num\">0.0.6&nbsp;&nbsp;</span>change jupyter-theme</a></div>"
   ]
  },
  {
   "cell_type": "markdown",
   "metadata": {},
   "source": [
    "### Useful Shortcuts for Jupyter Notebook"
   ]
  },
  {
   "cell_type": "markdown",
   "metadata": {},
   "source": [
    "esc mode: \n",
    "- create cell above and below (a, b)\n",
    "- convert cell code to text and vice versa (y, m)\n",
    "- merge cells (shift + M)\n",
    "- split cells (ctrl + shift + - )\n",
    "- cut, copy, paste, undo cell (x, c, v, z)\n",
    "- delete cell (d+d)\n",
    "- close output (o)\n",
    "- find and replace (f)\n",
    "- add the line number to the cell (l)\n",
    "\n",
    "cell mode: \n",
    "- comment (ctrl + ù)\n",
    "- run cell/go next cell (ctrl/shift + enter)"
   ]
  },
  {
   "cell_type": "markdown",
   "metadata": {},
   "source": [
    "### Useful Magic for jupyter notebook"
   ]
  },
  {
   "cell_type": "code",
   "execution_count": 1,
   "metadata": {
    "collapsed": true
   },
   "outputs": [],
   "source": [
    "# Check the magic help\n",
    "%magic"
   ]
  },
  {
   "cell_type": "code",
   "execution_count": 2,
   "metadata": {},
   "outputs": [
    {
     "data": {
      "application/json": {
       "cell": {
        "!": "OSMagics",
        "HTML": "Other",
        "SVG": "Other",
        "bash": "Other",
        "capture": "ExecutionMagics",
        "debug": "ExecutionMagics",
        "file": "Other",
        "html": "DisplayMagics",
        "javascript": "DisplayMagics",
        "js": "DisplayMagics",
        "latex": "DisplayMagics",
        "perl": "Other",
        "prun": "ExecutionMagics",
        "pypy": "Other",
        "python": "Other",
        "python2": "Other",
        "python3": "Other",
        "ruby": "Other",
        "script": "ScriptMagics",
        "sh": "Other",
        "svg": "DisplayMagics",
        "sx": "OSMagics",
        "system": "OSMagics",
        "time": "ExecutionMagics",
        "timeit": "ExecutionMagics",
        "writefile": "OSMagics"
       },
       "line": {
        "alias": "OSMagics",
        "alias_magic": "BasicMagics",
        "autocall": "AutoMagics",
        "automagic": "AutoMagics",
        "autosave": "KernelMagics",
        "bookmark": "OSMagics",
        "cat": "Other",
        "cd": "OSMagics",
        "clear": "KernelMagics",
        "colors": "BasicMagics",
        "config": "ConfigMagics",
        "connect_info": "KernelMagics",
        "cp": "Other",
        "debug": "ExecutionMagics",
        "dhist": "OSMagics",
        "dirs": "OSMagics",
        "doctest_mode": "BasicMagics",
        "ed": "Other",
        "edit": "KernelMagics",
        "env": "OSMagics",
        "gui": "BasicMagics",
        "hist": "Other",
        "history": "HistoryMagics",
        "killbgscripts": "ScriptMagics",
        "ldir": "Other",
        "less": "KernelMagics",
        "lf": "Other",
        "lk": "Other",
        "ll": "Other",
        "load": "CodeMagics",
        "load_ext": "ExtensionMagics",
        "loadpy": "CodeMagics",
        "logoff": "LoggingMagics",
        "logon": "LoggingMagics",
        "logstart": "LoggingMagics",
        "logstate": "LoggingMagics",
        "logstop": "LoggingMagics",
        "ls": "Other",
        "lsmagic": "BasicMagics",
        "lx": "Other",
        "macro": "ExecutionMagics",
        "magic": "BasicMagics",
        "man": "KernelMagics",
        "matplotlib": "PylabMagics",
        "mkdir": "Other",
        "more": "KernelMagics",
        "mv": "Other",
        "notebook": "BasicMagics",
        "page": "BasicMagics",
        "pastebin": "CodeMagics",
        "pdb": "ExecutionMagics",
        "pdef": "NamespaceMagics",
        "pdoc": "NamespaceMagics",
        "pfile": "NamespaceMagics",
        "pinfo": "NamespaceMagics",
        "pinfo2": "NamespaceMagics",
        "popd": "OSMagics",
        "pprint": "BasicMagics",
        "precision": "BasicMagics",
        "profile": "BasicMagics",
        "prun": "ExecutionMagics",
        "psearch": "NamespaceMagics",
        "psource": "NamespaceMagics",
        "pushd": "OSMagics",
        "pwd": "OSMagics",
        "pycat": "OSMagics",
        "pylab": "PylabMagics",
        "qtconsole": "KernelMagics",
        "quickref": "BasicMagics",
        "recall": "HistoryMagics",
        "rehashx": "OSMagics",
        "reload_ext": "ExtensionMagics",
        "rep": "Other",
        "rerun": "HistoryMagics",
        "reset": "NamespaceMagics",
        "reset_selective": "NamespaceMagics",
        "rm": "Other",
        "rmdir": "Other",
        "run": "ExecutionMagics",
        "save": "CodeMagics",
        "sc": "OSMagics",
        "set_env": "OSMagics",
        "store": "StoreMagics",
        "sx": "OSMagics",
        "system": "OSMagics",
        "tb": "ExecutionMagics",
        "time": "ExecutionMagics",
        "timeit": "ExecutionMagics",
        "unalias": "OSMagics",
        "unload_ext": "ExtensionMagics",
        "who": "NamespaceMagics",
        "who_ls": "NamespaceMagics",
        "whos": "NamespaceMagics",
        "xdel": "NamespaceMagics",
        "xmode": "BasicMagics"
       }
      },
      "text/plain": [
       "Available line magics:\n",
       "%alias  %alias_magic  %autocall  %automagic  %autosave  %bookmark  %cat  %cd  %clear  %colors  %config  %connect_info  %cp  %debug  %dhist  %dirs  %doctest_mode  %ed  %edit  %env  %gui  %hist  %history  %killbgscripts  %ldir  %less  %lf  %lk  %ll  %load  %load_ext  %loadpy  %logoff  %logon  %logstart  %logstate  %logstop  %ls  %lsmagic  %lx  %macro  %magic  %man  %matplotlib  %mkdir  %more  %mv  %notebook  %page  %pastebin  %pdb  %pdef  %pdoc  %pfile  %pinfo  %pinfo2  %popd  %pprint  %precision  %profile  %prun  %psearch  %psource  %pushd  %pwd  %pycat  %pylab  %qtconsole  %quickref  %recall  %rehashx  %reload_ext  %rep  %rerun  %reset  %reset_selective  %rm  %rmdir  %run  %save  %sc  %set_env  %store  %sx  %system  %tb  %time  %timeit  %unalias  %unload_ext  %who  %who_ls  %whos  %xdel  %xmode\n",
       "\n",
       "Available cell magics:\n",
       "%%!  %%HTML  %%SVG  %%bash  %%capture  %%debug  %%file  %%html  %%javascript  %%js  %%latex  %%perl  %%prun  %%pypy  %%python  %%python2  %%python3  %%ruby  %%script  %%sh  %%svg  %%sx  %%system  %%time  %%timeit  %%writefile\n",
       "\n",
       "Automagic is ON, % prefix IS NOT needed for line magics."
      ]
     },
     "execution_count": 2,
     "metadata": {},
     "output_type": "execute_result"
    }
   ],
   "source": [
    "# list of all magics\n",
    "%lsmagic"
   ]
  },
  {
   "cell_type": "code",
   "execution_count": 4,
   "metadata": {},
   "outputs": [
    {
     "name": "stdout",
     "output_type": "stream",
     "text": [
      "Total number of aliases: 12\n"
     ]
    },
    {
     "data": {
      "text/plain": [
       "[('cat', 'cat'),\n",
       " ('cp', 'cp'),\n",
       " ('ldir', 'ls -F -o --color %l | grep /$'),\n",
       " ('lf', 'ls -F -o --color %l | grep ^-'),\n",
       " ('lk', 'ls -F -o --color %l | grep ^l'),\n",
       " ('ll', 'ls -F -o --color'),\n",
       " ('ls', 'ls -F --color'),\n",
       " ('lx', 'ls -F -o --color %l | grep ^-..x'),\n",
       " ('mkdir', 'mkdir'),\n",
       " ('mv', 'mv'),\n",
       " ('rm', 'rm'),\n",
       " ('rmdir', 'rmdir')]"
      ]
     },
     "execution_count": 4,
     "metadata": {},
     "output_type": "execute_result"
    }
   ],
   "source": [
    "# show the alias present in your notebook (you can even define your own via the same alias magic)\n",
    "%alias"
   ]
  },
  {
   "cell_type": "code",
   "execution_count": 5,
   "metadata": {},
   "outputs": [
    {
     "name": "stdout",
     "output_type": "stream",
     "text": [
      "Automatic calling is: Smart\n"
     ]
    }
   ],
   "source": [
    "# you can call the function without parenthesis (three mode: smart(1), off(0), on(1))\n",
    "%autocall"
   ]
  },
  {
   "cell_type": "code",
   "execution_count": 5,
   "metadata": {},
   "outputs": [
    {
     "data": {
      "application/javascript": [
       "IPython.notebook.set_autosave_interval(60000)"
      ]
     },
     "metadata": {},
     "output_type": "display_data"
    },
    {
     "name": "stdout",
     "output_type": "stream",
     "text": [
      "Autosaving every 60 seconds\n"
     ]
    }
   ],
   "source": [
    "# set the autosave interval of the notebook in secods (0 to disable)\n",
    "%autosave 60"
   ]
  },
  {
   "cell_type": "code",
   "execution_count": 6,
   "metadata": {},
   "outputs": [
    {
     "name": "stdout",
     "output_type": "stream",
     "text": [
      "^C\n",
      "cp: missing file operand\n",
      "Try 'cp --help' for more information.\n"
     ]
    }
   ],
   "source": [
    "# alias for !cat and !cp\n",
    "%cat\n",
    "%cp"
   ]
  },
  {
   "cell_type": "code",
   "execution_count": 7,
   "metadata": {},
   "outputs": [
    {
     "name": "stdout",
     "output_type": "stream",
     "text": [
      "Directory history (kept in _dh)\n",
      "0: /home/ale/Documents/myDataScience/notebook\n"
     ]
    }
   ],
   "source": [
    "# Print your history of visited directories.\n",
    "%dhist"
   ]
  },
  {
   "cell_type": "code",
   "execution_count": null,
   "metadata": {
    "collapsed": true
   },
   "outputs": [],
   "source": [
    "%edit # edit a and run it (it requires some settings)"
   ]
  },
  {
   "cell_type": "code",
   "execution_count": null,
   "metadata": {
    "collapsed": true,
    "scrolled": true
   },
   "outputs": [],
   "source": [
    "%env # see the env variables, check the value of a particular one and change a value with linux syntax"
   ]
  },
  {
   "cell_type": "code",
   "execution_count": null,
   "metadata": {
    "collapsed": true
   },
   "outputs": [],
   "source": [
    "%hist # history of the command send, with -n x y you can specify an x-y range "
   ]
  },
  {
   "cell_type": "code",
   "execution_count": null,
   "metadata": {
    "collapsed": true
   },
   "outputs": [],
   "source": [
    "%less fileaname # see the filename on the helper below"
   ]
  },
  {
   "cell_type": "code",
   "execution_count": null,
   "metadata": {
    "collapsed": true
   },
   "outputs": [],
   "source": [
    "%load mypythoncode.py # loade a python code (which means put the entire file into the cell)"
   ]
  },
  {
   "cell_type": "code",
   "execution_count": null,
   "metadata": {
    "collapsed": true
   },
   "outputs": [],
   "source": [
    "%macro mymacro 45-47 49 49 # create a macro using the number of the past history,use mymacro to run the macro"
   ]
  },
  {
   "cell_type": "code",
   "execution_count": null,
   "metadata": {
    "collapsed": true
   },
   "outputs": [],
   "source": [
    "%mkdir"
   ]
  },
  {
   "cell_type": "code",
   "execution_count": null,
   "metadata": {
    "collapsed": true
   },
   "outputs": [],
   "source": [
    "%more # show file in the helper"
   ]
  },
  {
   "cell_type": "code",
   "execution_count": null,
   "metadata": {
    "collapsed": true
   },
   "outputs": [],
   "source": [
    "%notebook -e file.py (oppure .ipynb) # export the history of this notebook to a python file or another notebook"
   ]
  },
  {
   "cell_type": "code",
   "execution_count": null,
   "metadata": {
    "collapsed": true
   },
   "outputs": [],
   "source": [
    "%precision 5 # set the precision to print the float number (such as %.5f)"
   ]
  },
  {
   "cell_type": "code",
   "execution_count": null,
   "metadata": {
    "collapsed": true
   },
   "outputs": [],
   "source": [
    "%pycat # same as cat but highlith the python synyax of the file"
   ]
  },
  {
   "cell_type": "code",
   "execution_count": null,
   "metadata": {
    "collapsed": true
   },
   "outputs": [],
   "source": [
    "%recall # repeat a command (from the history)"
   ]
  },
  {
   "cell_type": "code",
   "execution_count": null,
   "metadata": {
    "collapsed": true
   },
   "outputs": [],
   "source": [
    "# this will execute and show the output from\n",
    "# all code cells of the specified notebook\n",
    "%run ./your_favorite_notebook.ipynb"
   ]
  },
  {
   "cell_type": "code",
   "execution_count": null,
   "metadata": {
    "collapsed": true
   },
   "outputs": [],
   "source": [
    "%save fileaname n1-n2 ... # save the history into a filename"
   ]
  },
  {
   "cell_type": "code",
   "execution_count": null,
   "metadata": {
    "collapsed": true
   },
   "outputs": [],
   "source": [
    "%set_env # to set the env variable"
   ]
  },
  {
   "cell_type": "code",
   "execution_count": null,
   "metadata": {
    "collapsed": true
   },
   "outputs": [],
   "source": [
    "## to pass variables between two notebook:\n",
    "# 1) in the first notebook\n",
    "data = 'this is the string I want to pass to different notebook'\n",
    "%store data\n",
    "del data # This has deleted the variable but shouldn't be necessary\n",
    "# 2) in another notebook\n",
    "%store -r data\n",
    "print(data)"
   ]
  },
  {
   "cell_type": "code",
   "execution_count": null,
   "metadata": {
    "collapsed": true
   },
   "outputs": [],
   "source": [
    "%time # execution time of a python statement"
   ]
  },
  {
   "cell_type": "code",
   "execution_count": 7,
   "metadata": {},
   "outputs": [
    {
     "name": "stdout",
     "output_type": "stream",
     "text": [
      "The slowest run took 9.03 times longer than the fastest. This could mean that an intermediate result is being cached.\n",
      "1000000 loops, best of 3: 1.06 µs per loop\n"
     ]
    }
   ],
   "source": [
    "# check the performance of a statements, remember that it will repeat the command many times to have a more measure\n",
    "%timeit for i in range(0,10): i+1"
   ]
  },
  {
   "cell_type": "code",
   "execution_count": 8,
   "metadata": {},
   "outputs": [
    {
     "name": "stdout",
     "output_type": "stream",
     "text": [
      "Interactive namespace is empty.\n"
     ]
    }
   ],
   "source": [
    "%who # print the variables in the workspace (to gen only a certain class use %who str for examplepèpy)\n",
    "%who_ls # same but return a list\n",
    "%whos # gives some extra infos"
   ]
  },
  {
   "cell_type": "code",
   "execution_count": null,
   "metadata": {
    "collapsed": true
   },
   "outputs": [],
   "source": [
    "%%bash script # run bash script as subprocess"
   ]
  },
  {
   "cell_type": "code",
   "execution_count": null,
   "metadata": {
    "collapsed": true
   },
   "outputs": [],
   "source": [
    "%%writefile filename # save the cell to a file"
   ]
  },
  {
   "cell_type": "markdown",
   "metadata": {
    "collapsed": true
   },
   "source": [
    "### Other usefuls:\n",
    "- Nice shortcuts for jupyter notebook: https://www.dataquest.io/blog/jupyter-notebook-tips-tricks-shortcuts/"
   ]
  },
  {
   "cell_type": "code",
   "execution_count": 9,
   "metadata": {
    "collapsed": true
   },
   "outputs": [],
   "source": [
    "## allow to reload the module when the module is modified (useful to debug your own imported scripts)\n",
    "%load_ext autoreload \n",
    "%autoreload 2"
   ]
  },
  {
   "cell_type": "code",
   "execution_count": 10,
   "metadata": {},
   "outputs": [
    {
     "data": {
      "text/plain": [
       "['accelerations.csv',\n",
       " 'AleUsefulFunctions.py',\n",
       " 'AleUsefulFunctions.py~',\n",
       " 'Clustering_summary_skit_learn.ipynb',\n",
       " 'Dimensionality_reduction.ipynb',\n",
       " 'HiddenMarkovChain.ipynb',\n",
       " 'iris.csv',\n",
       " 'Magic_notebook.ipynb',\n",
       " 'myFunctions.ipynb',\n",
       " 'Pandas_Numpy_python.ipynb',\n",
       " 'Parallel_Coordinates_plot.ipynb',\n",
       " 'parcoords-advanced.html',\n",
       " 'parcoords_data.csv',\n",
       " 'plot_cluster_comparison.py',\n",
       " 'plot_cluster_comparison.py~',\n",
       " 'prova_CANCELLAMI.html',\n",
       " 'PUT_IN_ML.txt',\n",
       " 'regex.ipynb',\n",
       " 'regexp.txt',\n",
       " 'Seaborn_tutorial.ipynb',\n",
       " 'tutorial-scikit-learn']"
      ]
     },
     "execution_count": 10,
     "metadata": {},
     "output_type": "execute_result"
    }
   ],
   "source": [
    "# magic and bash call return python variables\n",
    "names = !ls\n",
    "names"
   ]
  },
  {
   "cell_type": "code",
   "execution_count": 11,
   "metadata": {},
   "outputs": [
    {
     "ename": "ModuleNotFoundError",
     "evalue": "No module named 'pydataset'",
     "output_type": "error",
     "traceback": [
      "\u001b[0;31m---------------------------------------------------------------------------\u001b[0m",
      "\u001b[0;31mModuleNotFoundError\u001b[0m                       Traceback (most recent call last)",
      "\u001b[0;32m<ipython-input-11-e6f9d737e10e>\u001b[0m in \u001b[0;36m<module>\u001b[0;34m()\u001b[0m\n\u001b[1;32m      3\u001b[0m \u001b[0mInteractiveShell\u001b[0m\u001b[0;34m.\u001b[0m\u001b[0mast_node_interactivity\u001b[0m \u001b[0;34m=\u001b[0m \u001b[0;34m\"all\"\u001b[0m\u001b[0;34m\u001b[0m\u001b[0m\n\u001b[1;32m      4\u001b[0m \u001b[0;34m\u001b[0m\u001b[0m\n\u001b[0;32m----> 5\u001b[0;31m \u001b[0;32mfrom\u001b[0m \u001b[0mpydataset\u001b[0m \u001b[0;32mimport\u001b[0m \u001b[0mdata\u001b[0m\u001b[0;34m\u001b[0m\u001b[0m\n\u001b[0m\u001b[1;32m      6\u001b[0m \u001b[0mquakes\u001b[0m \u001b[0;34m=\u001b[0m \u001b[0mdata\u001b[0m\u001b[0;34m(\u001b[0m\u001b[0;34m'quakes'\u001b[0m\u001b[0;34m)\u001b[0m\u001b[0;34m\u001b[0m\u001b[0m\n\u001b[1;32m      7\u001b[0m \u001b[0mquakes\u001b[0m\u001b[0;34m.\u001b[0m\u001b[0mhead\u001b[0m\u001b[0;34m(\u001b[0m\u001b[0;34m)\u001b[0m\u001b[0;34m\u001b[0m\u001b[0m\n",
      "\u001b[0;31mModuleNotFoundError\u001b[0m: No module named 'pydataset'"
     ]
    }
   ],
   "source": [
    "# print all statements as if they would have been the last one\n",
    "from IPython.core.interactiveshell import InteractiveShell\n",
    "InteractiveShell.ast_node_interactivity = \"all\"\n",
    "\n",
    "from pydataset import data\n",
    "quakes = data('quakes')\n",
    "quakes.head()\n",
    "quakes.tail()"
   ]
  },
  {
   "cell_type": "code",
   "execution_count": 12,
   "metadata": {},
   "outputs": [
    {
     "data": {
      "text/plain": [
       "(array([ 216.,  126.,  106.,   95.,   87.,   81.,   77.,   73.,   71.,   68.]),\n",
       " array([ 0. ,  0.1,  0.2,  0.3,  0.4,  0.5,  0.6,  0.7,  0.8,  0.9,  1. ]),\n",
       " <a list of 10 Patch objects>)"
      ]
     },
     "execution_count": 12,
     "metadata": {},
     "output_type": "execute_result"
    },
    {
     "data": {
      "image/png": "[encoded data removed]",
      "text/plain": [
       "<matplotlib.figure.Figure at 0x7f2418ec6128>"
      ]
     },
     "metadata": {},
     "output_type": "display_data"
    }
   ],
   "source": [
    "# By adding a semicolon at the end, the output is suppressed.\n",
    "%matplotlib inline\n",
    "from matplotlib import pyplot as plt\n",
    "import numpy\n",
    "x = numpy.linspace(0, 1, 1000)**1.5\n",
    "plt.hist(x)"
   ]
  },
  {
   "cell_type": "code",
   "execution_count": 13,
   "metadata": {},
   "outputs": [
    {
     "data": {
      "image/png": "[encoded data removed]",
      "text/plain": [
       "<matplotlib.figure.Figure at 0x7f24345a4cc0>"
      ]
     },
     "metadata": {},
     "output_type": "display_data"
    }
   ],
   "source": [
    "plt.hist(x); # <<<<< semicolumn here"
   ]
  },
  {
   "cell_type": "markdown",
   "metadata": {},
   "source": [
    "### latex formula\n",
    "$$ P(A \\mid B) = \\frac{P(B \\mid A) \\, P(A)}{P(B)} $$"
   ]
  },
  {
   "cell_type": "code",
   "execution_count": 14,
   "metadata": {},
   "outputs": [
    {
     "name": "stdout",
     "output_type": "stream",
     "text": [
      "i is 1\n",
      "i is 2\n",
      "i is 3\n",
      "i is 4\n",
      "i is 5\n"
     ]
    }
   ],
   "source": [
    "%%bash\n",
    "## use %%bash, %%python3, %%python2, %%perl, %%HTML to run code of that languages (%R requires the cells below)\n",
    "for i in {1..5}\n",
    "do\n",
    "   echo \"i is $i\"\n",
    "done"
   ]
  },
  {
   "cell_type": "code",
   "execution_count": 15,
   "metadata": {},
   "outputs": [
    {
     "name": "stdout",
     "output_type": "stream",
     "text": [
      "ciao\n"
     ]
    }
   ],
   "source": [
    "%%python2\n",
    "print \"ciao\""
   ]
  },
  {
   "cell_type": "code",
   "execution_count": 6,
   "metadata": {
    "collapsed": true
   },
   "outputs": [
    {
     "name": "stdout",
     "output_type": "stream",
     "text": [
      "Fetching package metadata ...........\n",
      "Solving package specifications: .\n",
      "\n",
      "Package plan for installation in environment /home/ale/anaconda3:\n",
      "\n",
      "The following NEW packages will be INSTALLED:\n",
      "\n",
      "    bzip2:          1.0.6-3             \n",
      "    gmp:            6.1.0-0             \n",
      "    gsl:            2.2.1-0             \n",
      "    ncurses:        5.9-10              \n",
      "    pandoc:         1.15.0.6-0          \n",
      "    r-assertthat:   0.1-r3.3.2_4       r\n",
      "    r-backports:    1.0.4-r3.3.2_0     r\n",
      "    r-base:         3.3.2-1            r\n",
      "    r-base64enc:    0.1_3-r3.3.2_0     r\n",
      "    r-bh:           1.62.0_1-r3.3.2_0  r\n",
      "    r-bitops:       1.0_6-r3.3.2_2     r\n",
      "    r-boot:         1.3_18-r3.3.2_0    r\n",
      "    r-broom:        0.4.1-r3.3.2_0     r\n",
      "    r-car:          2.1_4-r3.3.2_0     r\n",
      "    r-caret:        6.0_73-r3.3.2_0    r\n",
      "    r-catools:      1.17.1-r3.3.2_2    r\n",
      "    r-class:        7.3_14-r3.3.2_0    r\n",
      "    r-cluster:      2.0.5-r3.3.2_0     r\n",
      "    r-codetools:    0.2_15-r3.3.2_0    r\n",
      "    r-colorspace:   1.3_1-r3.3.2_0     r\n",
      "    r-crayon:       1.3.2-r3.3.2_0     r\n",
      "    r-curl:         2.3-r3.3.2_0       r\n",
      "    r-data.table:   1.10.0-r3.3.2_0    r\n",
      "    r-dbi:          0.5_1-r3.3.2_0     r\n",
      "    r-dichromat:    2.0_0-r3.3.2_2     r\n",
      "    r-digest:       0.6.10-r3.3.2_0    r\n",
      "    r-dplyr:        0.5.0-r3.3.2_0     r\n",
      "    r-essentials:   1.5.2-r3.3.2_0     r\n",
      "    r-evaluate:     0.10-r3.3.2_0      r\n",
      "    r-forcats:      0.1.1-r3.3.2_0     r\n",
      "    r-foreach:      1.4.3-r3.3.2_0     r\n",
      "    r-foreign:      0.8_67-r3.3.2_0    r\n",
      "    r-formatr:      1.4-r3.3.2_0       r\n",
      "    r-ggplot2:      2.2.0-r3.3.2_0     r\n",
      "    r-gistr:        0.3.6-r3.3.2_0     r\n",
      "    r-glmnet:       2.0_5-r3.3.2_0     r\n",
      "    r-gtable:       0.2.0-r3.3.2_0     r\n",
      "    r-haven:        1.0.0-r3.3.2_0     r\n",
      "    r-hexbin:       1.27.1-r3.3.2_0    r\n",
      "    r-highr:        0.6-r3.3.2_0       r\n",
      "    r-hms:          0.3-r3.3.2_0       r\n",
      "    r-htmltools:    0.3.5-r3.3.2_0     r\n",
      "    r-htmlwidgets:  0.8-r3.3.2_0       r\n",
      "    r-httpuv:       1.3.3-r3.3.2_0     r\n",
      "    r-httr:         1.2.1-r3.3.2_0     r\n",
      "    r-irdisplay:    0.4.4-r3.3.2_0     r\n",
      "    r-irkernel:     0.7.1-r3.3.2_0     r\n",
      "    r-iterators:    1.0.8-r3.3.2_0     r\n",
      "    r-jsonlite:     1.1-r3.3.2_0       r\n",
      "    r-kernsmooth:   2.23_15-r3.3.2_0   r\n",
      "    r-knitr:        1.15.1-r3.3.2_0    r\n",
      "    r-labeling:     0.3-r3.3.2_2       r\n",
      "    r-lattice:      0.20_34-r3.3.2_0   r\n",
      "    r-lazyeval:     0.2.0-r3.3.2_0     r\n",
      "    r-lme4:         1.1_12-r3.3.2_0    r\n",
      "    r-lubridate:    1.6.0-r3.3.2_0     r\n",
      "    r-magrittr:     1.5-r3.3.2_2       r\n",
      "    r-maps:         3.1.1-r3.3.2_0     r\n",
      "    r-markdown:     0.7.7-r3.3.2_2     r\n",
      "    r-mass:         7.3_45-r3.3.2_0    r\n",
      "    r-matrix:       1.2_7.1-r3.3.2_0   r\n",
      "    r-matrixmodels: 0.4_1-r3.3.2_0     r\n",
      "    r-mgcv:         1.8_16-r3.3.2_0    r\n",
      "    r-mime:         0.5-r3.3.2_0       r\n",
      "    r-minqa:        1.2.4-r3.3.2_2     r\n",
      "    r-mnormt:       1.5_5-r3.3.2_0     r\n",
      "    r-modelmetrics: 1.1.0-r3.3.2_0     r\n",
      "    r-modelr:       0.1.0-r3.3.2_0     r\n",
      "    r-munsell:      0.4.3-r3.3.2_0     r\n",
      "    r-nlme:         3.1_128-r3.3.2_0   r\n",
      "    r-nloptr:       1.0.4-r3.3.2_2     r\n",
      "    r-nnet:         7.3_12-r3.3.2_0    r\n",
      "    r-openssl:      0.9.5-r3.3.2_0     r\n",
      "    r-pbdzmq:       0.2_4-r3.3.2_0     r\n",
      "    r-pbkrtest:     0.4_6-r3.3.2_0     r\n",
      "    r-plyr:         1.8.4-r3.3.2_0     r\n",
      "    r-pryr:         0.1.2-r3.3.2_0     r\n",
      "    r-psych:        1.6.9-r3.3.2_0     r\n",
      "    r-purrr:        0.2.2-r3.3.2_0     r\n",
      "    r-quantmod:     0.4_7-r3.3.2_0     r\n",
      "    r-quantreg:     5.29-r3.3.2_0      r\n",
      "    r-r6:           2.2.0-r3.3.2_0     r\n",
      "    r-randomforest: 4.6_12-r3.3.2_0    r\n",
      "    r-rbokeh:       0.5.0-r3.3.2_0     r\n",
      "    r-rcolorbrewer: 1.1_2-r3.3.2_3     r\n",
      "    r-rcpp:         0.12.8-r3.3.2_0    r\n",
      "    r-rcppeigen:    0.3.2.9.0-r3.3.2_0 r\n",
      "    r-readr:        1.0.0-r3.3.2_0     r\n",
      "    r-readxl:       0.1.1-r3.3.2_0     r\n",
      "    r-recommended:  3.3.2-r3.3.2_0     r\n",
      "    r-repr:         0.10-r3.3.2_0      r\n",
      "    r-reshape2:     1.4.2-r3.3.2_0     r\n",
      "    r-rmarkdown:    1.3-r3.3.2_0       r\n",
      "    r-rpart:        4.1_10-r3.3.2_0    r\n",
      "    r-rprojroot:    1.1-r3.3.2_0       r\n",
      "    r-rvest:        0.3.2-r3.3.2_0     r\n",
      "    r-scales:       0.4.1-r3.3.2_0     r\n",
      "    r-selectr:      0.3_0-r3.3.2_0     r\n",
      "    r-shiny:        0.14.2-r3.3.2_0    r\n",
      "    r-sourcetools:  0.1.5-r3.3.2_0     r\n",
      "    r-sparsem:      1.74-r3.3.2_0      r\n",
      "    r-spatial:      7.3_11-r3.3.2_0    r\n",
      "    r-stringi:      1.1.2-r3.3.2_0     r\n",
      "    r-stringr:      1.1.0-r3.3.2_0     r\n",
      "    r-survival:     2.40_1-r3.3.2_0    r\n",
      "    r-tibble:       1.2-r3.3.2_0       r\n",
      "    r-tidyr:        0.6.0-r3.3.2_0     r\n",
      "    r-tidyverse:    1.0.0-r3.3.2_0     r\n",
      "    r-ttr:          0.23_1-r3.3.2_0    r\n",
      "    r-uuid:         0.1_2-r3.3.2_0     r\n",
      "    r-xml2:         1.0.0-r3.3.2_0     r\n",
      "    r-xtable:       1.8_2-r3.3.2_0     r\n",
      "    r-xts:          0.9_7-r3.3.2_2     r\n",
      "    r-yaml:         2.1.14-r3.3.2_0    r\n",
      "    r-zoo:          1.7_13-r3.3.2_0    r\n",
      "\n",
      "Proceed ([y]/n)? "
     ]
    }
   ],
   "source": [
    "# get R work on your environment (type on terminal the line below)\n",
    "!conda install -c r r-essentials"
   ]
  },
  {
   "cell_type": "code",
   "execution_count": 8,
   "metadata": {
    "scrolled": true
   },
   "outputs": [
    {
     "name": "stdout",
     "output_type": "stream",
     "text": [
      "Fetching package metadata .........\n",
      "Solving package specifications: .\n",
      "\n",
      "Package plan for installation in environment /home/ale/anaconda3:\n",
      "\n",
      "The following NEW packages will be INSTALLED:\n",
      "\n",
      "    r:    3.3.2-r3.3.2_0    \n",
      "    rpy2: 2.8.5-py36r3.3.2_2\n",
      "\n",
      "Proceed ([y]/n)? ^C\n"
     ]
    }
   ],
   "source": [
    "# to make R run in the same jupyter notebook of python\n",
    "!conda install rpy2"
   ]
  },
  {
   "cell_type": "code",
   "execution_count": 13,
   "metadata": {},
   "outputs": [
    {
     "name": "stdout",
     "output_type": "stream",
     "text": [
      "The rpy2.ipython extension is already loaded. To reload it, use:\n",
      "  %reload_ext rpy2.ipython\n"
     ]
    }
   ],
   "source": [
    "%load_ext rpy2.ipython"
   ]
  },
  {
   "cell_type": "code",
   "execution_count": 14,
   "metadata": {
    "scrolled": true
   },
   "outputs": [
    {
     "data": {
      "text/plain": [
       "array([1], dtype=int32)"
      ]
     },
     "execution_count": 14,
     "metadata": {},
     "output_type": "execute_result"
    }
   ],
   "source": [
    "%R require(ggplot2)"
   ]
  },
  {
   "cell_type": "code",
   "execution_count": 15,
   "metadata": {
    "collapsed": true
   },
   "outputs": [],
   "source": [
    "import pandas as pd\n",
    "df = pd.DataFrame({\n",
    "        'Letter': ['a', 'a', 'a', 'b', 'b', 'b', 'c', 'c', 'c'],\n",
    "        'X': [4, 3, 5, 2, 1, 7, 7, 5, 9],\n",
    "        'Y': [0, 4, 3, 6, 7, 10, 11, 9, 13],\n",
    "        'Z': [1, 2, 3, 1, 2, 3, 1, 2, 3]\n",
    "    })"
   ]
  },
  {
   "cell_type": "code",
   "execution_count": 16,
   "metadata": {},
   "outputs": [
    {
     "data": {
      "image/png": "[encoded data removed]"
     },
     "metadata": {},
     "output_type": "display_data"
    }
   ],
   "source": [
    "%%R -i df\n",
    "ggplot(data = df) + geom_point(aes(x = X, y= Y, color = Letter, size = Z))"
   ]
  },
  {
   "cell_type": "code",
   "execution_count": 7,
   "metadata": {
    "code_folding": [],
    "scrolled": true
   },
   "outputs": [
    {
     "name": "stdout",
     "output_type": "stream",
     "text": [
      "Collecting https://github.com/ipython-contrib/jupyter_contrib_nbextensions/tarball/master\n",
      "  Downloading https://github.com/ipython-contrib/jupyter_contrib_nbextensions/tarball/master\n",
      "\u001b[K     \\ 20.3MB 483kB/sss     - 17.0MB 450kB/s\n",
      "Requirement already satisfied: ipython_genutils in /home/ale/anaconda3/lib/python3.6/site-packages (from jupyter-contrib-nbextensions==0.2.8)\n",
      "Collecting jupyter_contrib_core>=0.3 (from jupyter-contrib-nbextensions==0.2.8)\n",
      "  Downloading jupyter_contrib_core-0.3.1-py2.py3-none-any.whl\n",
      "Requirement already satisfied: jupyter_core in /home/ale/anaconda3/lib/python3.6/site-packages (from jupyter-contrib-nbextensions==0.2.8)\n",
      "Collecting jupyter_highlight_selected_word>=0.0.10 (from jupyter-contrib-nbextensions==0.2.8)\n",
      "  Downloading jupyter_highlight_selected_word-0.0.11-py2.py3-none-any.whl\n",
      "Collecting jupyter_latex_envs>=1.3.8 (from jupyter-contrib-nbextensions==0.2.8)\n",
      "  Downloading jupyter_latex_envs-1.3.8.4.tar.gz (792kB)\n",
      "\u001b[K    100% |████████████████████████████████| 798kB 285kB/s ta 0:00:01\n",
      "\u001b[?25hCollecting jupyter_nbextensions_configurator>=0.2.4 (from jupyter-contrib-nbextensions==0.2.8)\n",
      "  Downloading jupyter_nbextensions_configurator-0.2.5-py2.py3-none-any.whl (464kB)\n",
      "\u001b[K    100% |████████████████████████████████| 471kB 330kB/s ta 0:00:01\n",
      "\u001b[?25hRequirement already satisfied: nbconvert>=4.2 in /home/ale/anaconda3/lib/python3.6/site-packages (from jupyter-contrib-nbextensions==0.2.8)\n",
      "Requirement already satisfied: notebook>=4.0 in /home/ale/anaconda3/lib/python3.6/site-packages (from jupyter-contrib-nbextensions==0.2.8)\n",
      "Requirement already satisfied: psutil>=2.2.1 in /home/ale/anaconda3/lib/python3.6/site-packages (from jupyter-contrib-nbextensions==0.2.8)\n",
      "Requirement already satisfied: pyyaml in /home/ale/anaconda3/lib/python3.6/site-packages (from jupyter-contrib-nbextensions==0.2.8)\n",
      "Requirement already satisfied: tornado in /home/ale/anaconda3/lib/python3.6/site-packages (from jupyter-contrib-nbextensions==0.2.8)\n",
      "Requirement already satisfied: traitlets>=4.1 in /home/ale/anaconda3/lib/python3.6/site-packages (from jupyter-contrib-nbextensions==0.2.8)\n",
      "Requirement already satisfied: setuptools in /home/ale/anaconda3/lib/python3.6/site-packages/setuptools-27.2.0-py3.6.egg (from jupyter_contrib_core>=0.3->jupyter-contrib-nbextensions==0.2.8)\n",
      "Requirement already satisfied: ipython in /home/ale/anaconda3/lib/python3.6/site-packages (from jupyter_latex_envs>=1.3.8->jupyter-contrib-nbextensions==0.2.8)\n",
      "Requirement already satisfied: mistune!=0.6 in /home/ale/anaconda3/lib/python3.6/site-packages (from nbconvert>=4.2->jupyter-contrib-nbextensions==0.2.8)\n",
      "Requirement already satisfied: jinja2 in /home/ale/anaconda3/lib/python3.6/site-packages (from nbconvert>=4.2->jupyter-contrib-nbextensions==0.2.8)\n",
      "Requirement already satisfied: pygments in /home/ale/anaconda3/lib/python3.6/site-packages (from nbconvert>=4.2->jupyter-contrib-nbextensions==0.2.8)\n",
      "Requirement already satisfied: nbformat in /home/ale/anaconda3/lib/python3.6/site-packages (from nbconvert>=4.2->jupyter-contrib-nbextensions==0.2.8)\n",
      "Requirement already satisfied: entrypoints>=0.2.2 in /home/ale/anaconda3/lib/python3.6/site-packages (from nbconvert>=4.2->jupyter-contrib-nbextensions==0.2.8)\n",
      "Requirement already satisfied: bleach in /home/ale/anaconda3/lib/python3.6/site-packages (from nbconvert>=4.2->jupyter-contrib-nbextensions==0.2.8)\n",
      "Requirement already satisfied: pandocfilters>=1.4.1 in /home/ale/anaconda3/lib/python3.6/site-packages (from nbconvert>=4.2->jupyter-contrib-nbextensions==0.2.8)\n",
      "Requirement already satisfied: testpath in /home/ale/anaconda3/lib/python3.6/site-packages (from nbconvert>=4.2->jupyter-contrib-nbextensions==0.2.8)\n",
      "Requirement already satisfied: MarkupSafe>=0.23 in /home/ale/anaconda3/lib/python3.6/site-packages (from jinja2->nbconvert>=4.2->jupyter-contrib-nbextensions==0.2.8)\n",
      "Requirement already satisfied: six in /home/ale/anaconda3/lib/python3.6/site-packages (from bleach->nbconvert>=4.2->jupyter-contrib-nbextensions==0.2.8)\n",
      "Requirement already satisfied: html5lib!=0.9999,!=0.99999,<0.99999999,>=0.999 in /home/ale/anaconda3/lib/python3.6/site-packages (from bleach->nbconvert>=4.2->jupyter-contrib-nbextensions==0.2.8)\n",
      "Building wheels for collected packages: jupyter-latex-envs\n",
      "  Running setup.py bdist_wheel for jupyter-latex-envs ... \u001b[?25ldone\n",
      "\u001b[?25h  Stored in directory: /home/ale/.cache/pip/wheels/16/ce/bb/c4baea43e79912edf809c78df79adfbd316fc13b73c6587b41\n",
      "Successfully built jupyter-latex-envs\n",
      "Installing collected packages: jupyter-contrib-core, jupyter-highlight-selected-word, jupyter-latex-envs, jupyter-nbextensions-configurator, jupyter-contrib-nbextensions\n",
      "  Running setup.py install for jupyter-contrib-nbextensions ... \u001b[?25ldone\n",
      "\u001b[?25hSuccessfully installed jupyter-contrib-core-0.3.1 jupyter-contrib-nbextensions-0.2.8 jupyter-highlight-selected-word-0.0.11 jupyter-latex-envs-1.3.8.4 jupyter-nbextensions-configurator-0.2.5\n",
      "Requirement already satisfied: jupyter_nbextensions_configurator in /home/ale/anaconda3/lib/python3.6/site-packages\n",
      "Requirement already satisfied: tornado in /home/ale/anaconda3/lib/python3.6/site-packages (from jupyter_nbextensions_configurator)\n",
      "Requirement already satisfied: notebook>=4.0 in /home/ale/anaconda3/lib/python3.6/site-packages (from jupyter_nbextensions_configurator)\n",
      "Requirement already satisfied: pyyaml in /home/ale/anaconda3/lib/python3.6/site-packages (from jupyter_nbextensions_configurator)\n",
      "Requirement already satisfied: traitlets in /home/ale/anaconda3/lib/python3.6/site-packages (from jupyter_nbextensions_configurator)\n",
      "Requirement already satisfied: jupyter-contrib-core>=0.2 in /home/ale/anaconda3/lib/python3.6/site-packages (from jupyter_nbextensions_configurator)\n",
      "Requirement already satisfied: jupyter-core in /home/ale/anaconda3/lib/python3.6/site-packages (from jupyter_nbextensions_configurator)\n",
      "Requirement already satisfied: setuptools in /home/ale/anaconda3/lib/python3.6/site-packages/setuptools-27.2.0-py3.6.egg (from jupyter-contrib-core>=0.2->jupyter_nbextensions_configurator)\n"
     ]
    }
   ],
   "source": [
    "# jupyter extensions: https://github.com/ipython-contrib/jupyter_contrib_nbextensions\n",
    "# example are jupyter spell-checker and code-formatter\n",
    "!pip install https://github.com/ipython-contrib/jupyter_contrib_nbextensions/tarball/master\n",
    "!pip install jupyter_nbextensions_configurator"
   ]
  },
  {
   "cell_type": "markdown",
   "metadata": {},
   "source": [
    "To use an nbextension, you'll also need to enable it, which tells the notebook interface to load it. To do this, you can use a Jupyter subcommand:\n",
    "- jupyter nbextension enable <nbextension require path>\n",
    "\n",
    "for example,\n",
    "- jupyter nbextension enable codefolding/main\n",
    "\n",
    "To disable the extension again, use\n",
    "- jupyter nbextension disable <nbextension require path>\n",
    "\n",
    "Alternatively, and more conveniently, you can use the jupyter_nbextensions_configurator server extension, which is installed as a dependency of this repo, and can be used to enable and disable the individual nbextensions, as well as configure their options. You can then open the nbextensions tab on the tree (dashboard/file browser) notebook page to configure nbextensions. You will have access there to a dashboard where extensions can be enabled/disabled via checkboxes. Additionally a short documentation for each extension is displayed, and configuration options are presented."
   ]
  },
  {
   "cell_type": "code",
   "execution_count": 8,
   "metadata": {
    "code_folding": []
   },
   "outputs": [
    {
     "name": "stdout",
     "output_type": "stream",
     "text": [
      "\u001b[32m[I 12:36:22 InstallContribNbextensionsApp]\u001b[m jupyter contrib nbextension install --user\r\n",
      "\u001b[32m[I 12:36:22 InstallContribNbextensionsApp]\u001b[m Installing jupyter_contrib_nbextensions nbextension files to jupyter data directory\r\n",
      "\u001b[32m[I 12:36:22 InstallContribNbextensionsApp]\u001b[m Installing /home/ale/anaconda3/lib/python3.6/site-packages/jupyter_contrib_nbextensions/nbextensions/autoscroll -> autoscroll\r\n",
      "\u001b[32m[I 12:36:22 InstallContribNbextensionsApp]\u001b[m Making directory: /home/ale/.local/share/jupyter/nbextensions/autoscroll/\r\n",
      "\u001b[32m[I 12:36:22 InstallContribNbextensionsApp]\u001b[m Copying: /home/ale/anaconda3/lib/python3.6/site-packages/jupyter_contrib_nbextensions/nbextensions/autoscroll/README.md -> /home/ale/.local/share/jupyter/nbextensions/autoscroll/README.md\r\n",
      "\u001b[32m[I 12:36:22 InstallContribNbextensionsApp]\u001b[m Copying: /home/ale/anaconda3/lib/python3.6/site-packages/jupyter_contrib_nbextensions/nbextensions/autoscroll/icon.png -> /home/ale/.local/share/jupyter/nbextensions/autoscroll/icon.png\r\n",
      "\u001b[32m[I 12:36:22 InstallContribNbextensionsApp]\u001b[m Copying: /home/ale/anaconda3/lib/python3.6/site-packages/jupyter_contrib_nbextensions/nbextensions/autoscroll/autoscroll.yaml -> /home/ale/.local/share/jupyter/nbextensions/autoscroll/autoscroll.yaml\r\n",
      "\u001b[32m[I 12:36:22 InstallContribNbextensionsApp]\u001b[m Copying: /home/ale/anaconda3/lib/python3.6/site-packages/jupyter_contrib_nbextensions/nbextensions/autoscroll/main.js -> /home/ale/.local/share/jupyter/nbextensions/autoscroll/main.js\r\n",
      "\u001b[32m[I 12:36:22 InstallContribNbextensionsApp]\u001b[m - Validating: \u001b[32mOK\u001b[0m\r\n",
      "\u001b[32m[I 12:36:22 InstallContribNbextensionsApp]\u001b[m Installing /home/ale/anaconda3/lib/python3.6/site-packages/jupyter_contrib_nbextensions/nbextensions/exercise -> exercise\r\n",
      "\u001b[32m[I 12:36:22 InstallContribNbextensionsApp]\u001b[m Making directory: /home/ale/.local/share/jupyter/nbextensions/exercise/\r\n",
      "\u001b[32m[I 12:36:22 InstallContribNbextensionsApp]\u001b[m Copying: /home/ale/anaconda3/lib/python3.6/site-packages/jupyter_contrib_nbextensions/nbextensions/exercise/readme.md -> /home/ale/.local/share/jupyter/nbextensions/exercise/readme.md\r\n",
      "\u001b[32m[I 12:36:22 InstallContribNbextensionsApp]\u001b[m Copying: /home/ale/anaconda3/lib/python3.6/site-packages/jupyter_contrib_nbextensions/nbextensions/exercise/image.gif -> /home/ale/.local/share/jupyter/nbextensions/exercise/image.gif\r\n",
      "\u001b[32m[I 12:36:22 InstallContribNbextensionsApp]\u001b[m Copying: /home/ale/anaconda3/lib/python3.6/site-packages/jupyter_contrib_nbextensions/nbextensions/exercise/exercise.yaml -> /home/ale/.local/share/jupyter/nbextensions/exercise/exercise.yaml\r\n",
      "\u001b[32m[I 12:36:22 InstallContribNbextensionsApp]\u001b[m Copying: /home/ale/anaconda3/lib/python3.6/site-packages/jupyter_contrib_nbextensions/nbextensions/exercise/history.md -> /home/ale/.local/share/jupyter/nbextensions/exercise/history.md\r\n",
      "\u001b[32m[I 12:36:22 InstallContribNbextensionsApp]\u001b[m Copying: /home/ale/anaconda3/lib/python3.6/site-packages/jupyter_contrib_nbextensions/nbextensions/exercise/icon.png -> /home/ale/.local/share/jupyter/nbextensions/exercise/icon.png\r\n",
      "\u001b[32m[I 12:36:22 InstallContribNbextensionsApp]\u001b[m Copying: /home/ale/anaconda3/lib/python3.6/site-packages/jupyter_contrib_nbextensions/nbextensions/exercise/main.js -> /home/ale/.local/share/jupyter/nbextensions/exercise/main.js\r\n",
      "\u001b[32m[I 12:36:22 InstallContribNbextensionsApp]\u001b[m Copying: /home/ale/anaconda3/lib/python3.6/site-packages/jupyter_contrib_nbextensions/nbextensions/exercise/main.css -> /home/ale/.local/share/jupyter/nbextensions/exercise/main.css\r\n",
      "\u001b[32m[I 12:36:22 InstallContribNbextensionsApp]\u001b[m - Validating: \u001b[32mOK\u001b[0m\r\n",
      "\u001b[32m[I 12:36:22 InstallContribNbextensionsApp]\u001b[m Installing /home/ale/anaconda3/lib/python3.6/site-packages/jupyter_contrib_nbextensions/nbextensions/spellchecker -> spellchecker\r\n",
      "\u001b[32m[I 12:36:22 InstallContribNbextensionsApp]\u001b[m Making directory: /home/ale/.local/share/jupyter/nbextensions/spellchecker/\r\n",
      "\u001b[32m[I 12:36:22 InstallContribNbextensionsApp]\u001b[m Copying: /home/ale/anaconda3/lib/python3.6/site-packages/jupyter_contrib_nbextensions/nbextensions/spellchecker/screenshot.png -> /home/ale/.local/share/jupyter/nbextensions/spellchecker/screenshot.png\r\n",
      "\u001b[32m[I 12:36:22 InstallContribNbextensionsApp]\u001b[m Copying: /home/ale/anaconda3/lib/python3.6/site-packages/jupyter_contrib_nbextensions/nbextensions/spellchecker/README.md -> /home/ale/.local/share/jupyter/nbextensions/spellchecker/README.md\r\n",
      "\u001b[32m[I 12:36:22 InstallContribNbextensionsApp]\u001b[m Copying: /home/ale/anaconda3/lib/python3.6/site-packages/jupyter_contrib_nbextensions/nbextensions/spellchecker/config.yaml -> /home/ale/.local/share/jupyter/nbextensions/spellchecker/config.yaml\r\n",
      "\u001b[32m[I 12:36:22 InstallContribNbextensionsApp]\u001b[m Copying: /home/ale/anaconda3/lib/python3.6/site-packages/jupyter_contrib_nbextensions/nbextensions/spellchecker/main.js -> /home/ale/.local/share/jupyter/nbextensions/spellchecker/main.js\r\n",
      "\u001b[32m[I 12:36:22 InstallContribNbextensionsApp]\u001b[m Copying: /home/ale/anaconda3/lib/python3.6/site-packages/jupyter_contrib_nbextensions/nbextensions/spellchecker/download_new_dict.py -> /home/ale/.local/share/jupyter/nbextensions/spellchecker/download_new_dict.py\r\n",
      "\u001b[32m[I 12:36:22 InstallContribNbextensionsApp]\u001b[m Copying: /home/ale/anaconda3/lib/python3.6/site-packages/jupyter_contrib_nbextensions/nbextensions/spellchecker/main.css -> /home/ale/.local/share/jupyter/nbextensions/spellchecker/main.css\r\n",
      "\u001b[32m[I 12:36:22 InstallContribNbextensionsApp]\u001b[m Making directory: /home/ale/.local/share/jupyter/nbextensions/spellchecker/__pycache__\r\n",
      "\u001b[32m[I 12:36:22 InstallContribNbextensionsApp]\u001b[m Copying: /home/ale/anaconda3/lib/python3.6/site-packages/jupyter_contrib_nbextensions/nbextensions/spellchecker/__pycache__/download_new_dict.cpython-36.pyc -> /home/ale/.local/share/jupyter/nbextensions/spellchecker/__pycache__/download_new_dict.cpython-36.pyc\r\n",
      "\u001b[32m[I 12:36:22 InstallContribNbextensionsApp]\u001b[m Making directory: /home/ale/.local/share/jupyter/nbextensions/spellchecker/typo\r\n",
      "\u001b[32m[I 12:36:22 InstallContribNbextensionsApp]\u001b[m Copying: /home/ale/anaconda3/lib/python3.6/site-packages/jupyter_contrib_nbextensions/nbextensions/spellchecker/typo/typo.js -> /home/ale/.local/share/jupyter/nbextensions/spellchecker/typo/typo.js\r\n",
      "\u001b[32m[I 12:36:22 InstallContribNbextensionsApp]\u001b[m Copying: /home/ale/anaconda3/lib/python3.6/site-packages/jupyter_contrib_nbextensions/nbextensions/spellchecker/typo/LICENSE.txt -> /home/ale/.local/share/jupyter/nbextensions/spellchecker/typo/LICENSE.txt\r\n",
      "\u001b[32m[I 12:36:22 InstallContribNbextensionsApp]\u001b[m - Validating: \u001b[32mOK\u001b[0m\r\n",
      "\u001b[32m[I 12:36:22 InstallContribNbextensionsApp]\u001b[m Installing /home/ale/anaconda3/lib/python3.6/site-packages/jupyter_contrib_nbextensions/nbextensions/code_font_size -> code_font_size\r\n",
      "\u001b[32m[I 12:36:22 InstallContribNbextensionsApp]\u001b[m Making directory: /home/ale/.local/share/jupyter/nbextensions/code_font_size/\r\n",
      "\u001b[32m[I 12:36:22 InstallContribNbextensionsApp]\u001b[m Copying: /home/ale/anaconda3/lib/python3.6/site-packages/jupyter_contrib_nbextensions/nbextensions/code_font_size/README.md -> /home/ale/.local/share/jupyter/nbextensions/code_font_size/README.md\r\n",
      "\u001b[32m[I 12:36:22 InstallContribNbextensionsApp]\u001b[m Copying: /home/ale/anaconda3/lib/python3.6/site-packages/jupyter_contrib_nbextensions/nbextensions/code_font_size/code_font_size.js -> /home/ale/.local/share/jupyter/nbextensions/code_font_size/code_font_size.js\r\n",
      "\u001b[32m[I 12:36:22 InstallContribNbextensionsApp]\u001b[m Copying: /home/ale/anaconda3/lib/python3.6/site-packages/jupyter_contrib_nbextensions/nbextensions/code_font_size/code_font_size.yaml -> /home/ale/.local/share/jupyter/nbextensions/code_font_size/code_font_size.yaml\r\n",
      "\u001b[32m[I 12:36:22 InstallContribNbextensionsApp]\u001b[m - Validating: \u001b[32mOK\u001b[0m\r\n",
      "\u001b[32m[I 12:36:22 InstallContribNbextensionsApp]\u001b[m Installing /home/ale/anaconda3/lib/python3.6/site-packages/jupyter_contrib_nbextensions/nbextensions/snippets -> snippets\r\n",
      "\u001b[32m[I 12:36:22 InstallContribNbextensionsApp]\u001b[m Making directory: /home/ale/.local/share/jupyter/nbextensions/snippets/\r\n",
      "\u001b[32m[I 12:36:22 InstallContribNbextensionsApp]\u001b[m Copying: /home/ale/anaconda3/lib/python3.6/site-packages/jupyter_contrib_nbextensions/nbextensions/snippets/README.md -> /home/ale/.local/share/jupyter/nbextensions/snippets/README.md\r\n"
     ]
    },
    {
     "name": "stdout",
     "output_type": "stream",
     "text": [
      "\u001b[32m[I 12:36:22 InstallContribNbextensionsApp]\u001b[m Copying: /home/ale/anaconda3/lib/python3.6/site-packages/jupyter_contrib_nbextensions/nbextensions/snippets/snippets.yaml -> /home/ale/.local/share/jupyter/nbextensions/snippets/snippets.yaml\r\n",
      "\u001b[32m[I 12:36:22 InstallContribNbextensionsApp]\u001b[m Copying: /home/ale/anaconda3/lib/python3.6/site-packages/jupyter_contrib_nbextensions/nbextensions/snippets/snippets.json -> /home/ale/.local/share/jupyter/nbextensions/snippets/snippets.json\r\n",
      "\u001b[32m[I 12:36:22 InstallContribNbextensionsApp]\u001b[m Copying: /home/ale/anaconda3/lib/python3.6/site-packages/jupyter_contrib_nbextensions/nbextensions/snippets/snippets-demo.gif -> /home/ale/.local/share/jupyter/nbextensions/snippets/snippets-demo.gif\r\n",
      "\u001b[32m[I 12:36:22 InstallContribNbextensionsApp]\u001b[m Copying: /home/ale/anaconda3/lib/python3.6/site-packages/jupyter_contrib_nbextensions/nbextensions/snippets/main.js -> /home/ale/.local/share/jupyter/nbextensions/snippets/main.js\r\n",
      "\u001b[32m[I 12:36:22 InstallContribNbextensionsApp]\u001b[m - Validating: \u001b[32mOK\u001b[0m\r\n",
      "\u001b[32m[I 12:36:22 InstallContribNbextensionsApp]\u001b[m Installing /home/ale/anaconda3/lib/python3.6/site-packages/jupyter_contrib_nbextensions/nbextensions/skip-traceback -> skip-traceback\r\n",
      "\u001b[32m[I 12:36:22 InstallContribNbextensionsApp]\u001b[m Making directory: /home/ale/.local/share/jupyter/nbextensions/skip-traceback/\r\n",
      "\u001b[32m[I 12:36:22 InstallContribNbextensionsApp]\u001b[m Copying: /home/ale/anaconda3/lib/python3.6/site-packages/jupyter_contrib_nbextensions/nbextensions/skip-traceback/readme.md -> /home/ale/.local/share/jupyter/nbextensions/skip-traceback/readme.md\r\n",
      "\u001b[32m[I 12:36:22 InstallContribNbextensionsApp]\u001b[m Copying: /home/ale/anaconda3/lib/python3.6/site-packages/jupyter_contrib_nbextensions/nbextensions/skip-traceback/skip-traceback.yaml -> /home/ale/.local/share/jupyter/nbextensions/skip-traceback/skip-traceback.yaml\r\n",
      "\u001b[32m[I 12:36:22 InstallContribNbextensionsApp]\u001b[m Copying: /home/ale/anaconda3/lib/python3.6/site-packages/jupyter_contrib_nbextensions/nbextensions/skip-traceback/traceback.png -> /home/ale/.local/share/jupyter/nbextensions/skip-traceback/traceback.png\r\n",
      "\u001b[32m[I 12:36:22 InstallContribNbextensionsApp]\u001b[m Copying: /home/ale/anaconda3/lib/python3.6/site-packages/jupyter_contrib_nbextensions/nbextensions/skip-traceback/icon.png -> /home/ale/.local/share/jupyter/nbextensions/skip-traceback/icon.png\r\n",
      "\u001b[32m[I 12:36:22 InstallContribNbextensionsApp]\u001b[m Copying: /home/ale/anaconda3/lib/python3.6/site-packages/jupyter_contrib_nbextensions/nbextensions/skip-traceback/main.js -> /home/ale/.local/share/jupyter/nbextensions/skip-traceback/main.js\r\n",
      "\u001b[32m[I 12:36:22 InstallContribNbextensionsApp]\u001b[m Copying: /home/ale/anaconda3/lib/python3.6/site-packages/jupyter_contrib_nbextensions/nbextensions/skip-traceback/skip-traceback.png -> /home/ale/.local/share/jupyter/nbextensions/skip-traceback/skip-traceback.png\r\n",
      "\u001b[32m[I 12:36:22 InstallContribNbextensionsApp]\u001b[m - Validating: \u001b[32mOK\u001b[0m\r\n",
      "\u001b[32m[I 12:36:22 InstallContribNbextensionsApp]\u001b[m Installing /home/ale/anaconda3/lib/python3.6/site-packages/jupyter_contrib_nbextensions/nbextensions/freeze -> freeze\r\n",
      "\u001b[32m[I 12:36:22 InstallContribNbextensionsApp]\u001b[m Making directory: /home/ale/.local/share/jupyter/nbextensions/freeze/\r\n",
      "\u001b[32m[I 12:36:22 InstallContribNbextensionsApp]\u001b[m Copying: /home/ale/anaconda3/lib/python3.6/site-packages/jupyter_contrib_nbextensions/nbextensions/freeze/readme.md -> /home/ale/.local/share/jupyter/nbextensions/freeze/readme.md\r\n",
      "\u001b[32m[I 12:36:22 InstallContribNbextensionsApp]\u001b[m Copying: /home/ale/anaconda3/lib/python3.6/site-packages/jupyter_contrib_nbextensions/nbextensions/freeze/config.yaml -> /home/ale/.local/share/jupyter/nbextensions/freeze/config.yaml\r\n",
      "\u001b[32m[I 12:36:22 InstallContribNbextensionsApp]\u001b[m Copying: /home/ale/anaconda3/lib/python3.6/site-packages/jupyter_contrib_nbextensions/nbextensions/freeze/icon.png -> /home/ale/.local/share/jupyter/nbextensions/freeze/icon.png\r\n",
      "\u001b[32m[I 12:36:22 InstallContribNbextensionsApp]\u001b[m Copying: /home/ale/anaconda3/lib/python3.6/site-packages/jupyter_contrib_nbextensions/nbextensions/freeze/main.js -> /home/ale/.local/share/jupyter/nbextensions/freeze/main.js\r\n",
      "\u001b[32m[I 12:36:22 InstallContribNbextensionsApp]\u001b[m - Validating: \u001b[32mOK\u001b[0m\r\n",
      "\u001b[32m[I 12:36:22 InstallContribNbextensionsApp]\u001b[m Installing /home/ale/anaconda3/lib/python3.6/site-packages/jupyter_contrib_nbextensions/nbextensions/dragdrop -> dragdrop\r\n",
      "\u001b[32m[I 12:36:22 InstallContribNbextensionsApp]\u001b[m Making directory: /home/ale/.local/share/jupyter/nbextensions/dragdrop/\r\n",
      "\u001b[32m[I 12:36:22 InstallContribNbextensionsApp]\u001b[m Copying: /home/ale/anaconda3/lib/python3.6/site-packages/jupyter_contrib_nbextensions/nbextensions/dragdrop/readme.md -> /home/ale/.local/share/jupyter/nbextensions/dragdrop/readme.md\r\n",
      "\u001b[32m[I 12:36:22 InstallContribNbextensionsApp]\u001b[m Copying: /home/ale/anaconda3/lib/python3.6/site-packages/jupyter_contrib_nbextensions/nbextensions/dragdrop/dragdrop.yaml -> /home/ale/.local/share/jupyter/nbextensions/dragdrop/dragdrop.yaml\r\n",
      "\u001b[32m[I 12:36:22 InstallContribNbextensionsApp]\u001b[m Copying: /home/ale/anaconda3/lib/python3.6/site-packages/jupyter_contrib_nbextensions/nbextensions/dragdrop/icon.png -> /home/ale/.local/share/jupyter/nbextensions/dragdrop/icon.png\r\n",
      "\u001b[32m[I 12:36:22 InstallContribNbextensionsApp]\u001b[m Copying: /home/ale/anaconda3/lib/python3.6/site-packages/jupyter_contrib_nbextensions/nbextensions/dragdrop/main.js -> /home/ale/.local/share/jupyter/nbextensions/dragdrop/main.js\r\n",
      "\u001b[32m[I 12:36:22 InstallContribNbextensionsApp]\u001b[m - Validating: \u001b[32mOK\u001b[0m\r\n",
      "\u001b[32m[I 12:36:22 InstallContribNbextensionsApp]\u001b[m Installing /home/ale/anaconda3/lib/python3.6/site-packages/jupyter_contrib_nbextensions/nbextensions/hide_input_all -> hide_input_all\r\n",
      "\u001b[32m[I 12:36:22 InstallContribNbextensionsApp]\u001b[m Making directory: /home/ale/.local/share/jupyter/nbextensions/hide_input_all/\r\n",
      "\u001b[32m[I 12:36:22 InstallContribNbextensionsApp]\u001b[m Copying: /home/ale/anaconda3/lib/python3.6/site-packages/jupyter_contrib_nbextensions/nbextensions/hide_input_all/readme.md -> /home/ale/.local/share/jupyter/nbextensions/hide_input_all/readme.md\r\n",
      "\u001b[32m[I 12:36:22 InstallContribNbextensionsApp]\u001b[m Copying: /home/ale/anaconda3/lib/python3.6/site-packages/jupyter_contrib_nbextensions/nbextensions/hide_input_all/hide_input_all.yaml -> /home/ale/.local/share/jupyter/nbextensions/hide_input_all/hide_input_all.yaml\r\n",
      "\u001b[32m[I 12:36:22 InstallContribNbextensionsApp]\u001b[m Copying: /home/ale/anaconda3/lib/python3.6/site-packages/jupyter_contrib_nbextensions/nbextensions/hide_input_all/icon.png -> /home/ale/.local/share/jupyter/nbextensions/hide_input_all/icon.png\r\n",
      "\u001b[32m[I 12:36:22 InstallContribNbextensionsApp]\u001b[m Copying: /home/ale/anaconda3/lib/python3.6/site-packages/jupyter_contrib_nbextensions/nbextensions/hide_input_all/hide_input_all_show.png -> /home/ale/.local/share/jupyter/nbextensions/hide_input_all/hide_input_all_show.png\r\n",
      "\u001b[32m[I 12:36:22 InstallContribNbextensionsApp]\u001b[m Copying: /home/ale/anaconda3/lib/python3.6/site-packages/jupyter_contrib_nbextensions/nbextensions/hide_input_all/main.js -> /home/ale/.local/share/jupyter/nbextensions/hide_input_all/main.js\r\n",
      "\u001b[32m[I 12:36:22 InstallContribNbextensionsApp]\u001b[m Copying: /home/ale/anaconda3/lib/python3.6/site-packages/jupyter_contrib_nbextensions/nbextensions/hide_input_all/hide_input_all_hide.png -> /home/ale/.local/share/jupyter/nbextensions/hide_input_all/hide_input_all_hide.png\r\n",
      "\u001b[32m[I 12:36:22 InstallContribNbextensionsApp]\u001b[m - Validating: \u001b[32mOK\u001b[0m\r\n",
      "\u001b[32m[I 12:36:22 InstallContribNbextensionsApp]\u001b[m Installing /home/ale/anaconda3/lib/python3.6/site-packages/jupyter_contrib_nbextensions/nbextensions/collapsible_headings -> collapsible_headings\r\n",
      "\u001b[32m[I 12:36:22 InstallContribNbextensionsApp]\u001b[m Making directory: /home/ale/.local/share/jupyter/nbextensions/collapsible_headings/\r\n",
      "\u001b[32m[I 12:36:22 InstallContribNbextensionsApp]\u001b[m Copying: /home/ale/anaconda3/lib/python3.6/site-packages/jupyter_contrib_nbextensions/nbextensions/collapsible_headings/screenshot.png -> /home/ale/.local/share/jupyter/nbextensions/collapsible_headings/screenshot.png\r\n",
      "\u001b[32m[I 12:36:22 InstallContribNbextensionsApp]\u001b[m Copying: /home/ale/anaconda3/lib/python3.6/site-packages/jupyter_contrib_nbextensions/nbextensions/collapsible_headings/collapsible_headings.yaml -> /home/ale/.local/share/jupyter/nbextensions/collapsible_headings/collapsible_headings.yaml\r\n",
      "\u001b[32m[I 12:36:22 InstallContribNbextensionsApp]\u001b[m Copying: /home/ale/anaconda3/lib/python3.6/site-packages/jupyter_contrib_nbextensions/nbextensions/collapsible_headings/readme.md -> /home/ale/.local/share/jupyter/nbextensions/collapsible_headings/readme.md\r\n",
      "\u001b[32m[I 12:36:22 InstallContribNbextensionsApp]\u001b[m Copying: /home/ale/anaconda3/lib/python3.6/site-packages/jupyter_contrib_nbextensions/nbextensions/collapsible_headings/icon.png -> /home/ale/.local/share/jupyter/nbextensions/collapsible_headings/icon.png\r\n",
      "\u001b[32m[I 12:36:22 InstallContribNbextensionsApp]\u001b[m Copying: /home/ale/anaconda3/lib/python3.6/site-packages/jupyter_contrib_nbextensions/nbextensions/collapsible_headings/main.js -> /home/ale/.local/share/jupyter/nbextensions/collapsible_headings/main.js\r\n",
      "\u001b[32m[I 12:36:22 InstallContribNbextensionsApp]\u001b[m Copying: /home/ale/anaconda3/lib/python3.6/site-packages/jupyter_contrib_nbextensions/nbextensions/collapsible_headings/main.css -> /home/ale/.local/share/jupyter/nbextensions/collapsible_headings/main.css\r\n",
      "\u001b[32m[I 12:36:22 InstallContribNbextensionsApp]\u001b[m - Validating: \u001b[32mOK\u001b[0m\r\n",
      "\u001b[32m[I 12:36:22 InstallContribNbextensionsApp]\u001b[m Installing /home/ale/anaconda3/lib/python3.6/site-packages/jupyter_contrib_nbextensions/nbextensions/skill -> skill\r\n",
      "\u001b[32m[I 12:36:22 InstallContribNbextensionsApp]\u001b[m Making directory: /home/ale/.local/share/jupyter/nbextensions/skill/\r\n",
      "\u001b[32m[I 12:36:22 InstallContribNbextensionsApp]\u001b[m Copying: /home/ale/anaconda3/lib/python3.6/site-packages/jupyter_contrib_nbextensions/nbextensions/skill/README.md -> /home/ale/.local/share/jupyter/nbextensions/skill/README.md\r\n",
      "\u001b[32m[I 12:36:22 InstallContribNbextensionsApp]\u001b[m Copying: /home/ale/anaconda3/lib/python3.6/site-packages/jupyter_contrib_nbextensions/nbextensions/skill/skill.yaml -> /home/ale/.local/share/jupyter/nbextensions/skill/skill.yaml\r\n",
      "\u001b[32m[I 12:36:22 InstallContribNbextensionsApp]\u001b[m Copying: /home/ale/anaconda3/lib/python3.6/site-packages/jupyter_contrib_nbextensions/nbextensions/skill/skill.js -> /home/ale/.local/share/jupyter/nbextensions/skill/skill.js\r\n",
      "\u001b[32m[I 12:36:22 InstallContribNbextensionsApp]\u001b[m Copying: /home/ale/anaconda3/lib/python3.6/site-packages/jupyter_contrib_nbextensions/nbextensions/skill/main.js -> /home/ale/.local/share/jupyter/nbextensions/skill/main.js\r\n",
      "\u001b[32m[I 12:36:22 InstallContribNbextensionsApp]\u001b[m - Validating: \u001b[32mOK\u001b[0m\r\n",
      "\u001b[32m[I 12:36:22 InstallContribNbextensionsApp]\u001b[m Installing /home/ale/anaconda3/lib/python3.6/site-packages/jupyter_contrib_nbextensions/nbextensions/datestamper -> datestamper\r\n",
      "\u001b[32m[I 12:36:22 InstallContribNbextensionsApp]\u001b[m Making directory: /home/ale/.local/share/jupyter/nbextensions/datestamper/\r\n",
      "\u001b[32m[I 12:36:22 InstallContribNbextensionsApp]\u001b[m Copying: /home/ale/anaconda3/lib/python3.6/site-packages/jupyter_contrib_nbextensions/nbextensions/datestamper/readme.md -> /home/ale/.local/share/jupyter/nbextensions/datestamper/readme.md\r\n",
      "\u001b[32m[I 12:36:22 InstallContribNbextensionsApp]\u001b[m Copying: /home/ale/anaconda3/lib/python3.6/site-packages/jupyter_contrib_nbextensions/nbextensions/datestamper/main.yaml -> /home/ale/.local/share/jupyter/nbextensions/datestamper/main.yaml\r\n",
      "\u001b[32m[I 12:36:22 InstallContribNbextensionsApp]\u001b[m Copying: /home/ale/anaconda3/lib/python3.6/site-packages/jupyter_contrib_nbextensions/nbextensions/datestamper/icon.png -> /home/ale/.local/share/jupyter/nbextensions/datestamper/icon.png\r\n",
      "\u001b[32m[I 12:36:22 InstallContribNbextensionsApp]\u001b[m Copying: /home/ale/anaconda3/lib/python3.6/site-packages/jupyter_contrib_nbextensions/nbextensions/datestamper/main.js -> /home/ale/.local/share/jupyter/nbextensions/datestamper/main.js\r\n",
      "\u001b[32m[I 12:36:22 InstallContribNbextensionsApp]\u001b[m - Validating: \u001b[32mOK\u001b[0m\r\n",
      "\u001b[32m[I 12:36:22 InstallContribNbextensionsApp]\u001b[m Installing /home/ale/anaconda3/lib/python3.6/site-packages/jupyter_contrib_nbextensions/nbextensions/nbTranslate -> nbTranslate\r\n",
      "\u001b[32m[I 12:36:22 InstallContribNbextensionsApp]\u001b[m Making directory: /home/ale/.local/share/jupyter/nbextensions/nbTranslate/\r\n",
      "\u001b[32m[I 12:36:22 InstallContribNbextensionsApp]\u001b[m Copying: /home/ale/anaconda3/lib/python3.6/site-packages/jupyter_contrib_nbextensions/nbextensions/nbTranslate/README.md -> /home/ale/.local/share/jupyter/nbextensions/nbTranslate/README.md\r\n",
      "\u001b[32m[I 12:36:22 InstallContribNbextensionsApp]\u001b[m Copying: /home/ale/anaconda3/lib/python3.6/site-packages/jupyter_contrib_nbextensions/nbextensions/nbTranslate/nbTranslate.js -> /home/ale/.local/share/jupyter/nbextensions/nbTranslate/nbTranslate.js\r\n",
      "\u001b[32m[I 12:36:22 InstallContribNbextensionsApp]\u001b[m Copying: /home/ale/anaconda3/lib/python3.6/site-packages/jupyter_contrib_nbextensions/nbextensions/nbTranslate/demo2.gif -> /home/ale/.local/share/jupyter/nbextensions/nbTranslate/demo2.gif\r\n",
      "\u001b[32m[I 12:36:22 InstallContribNbextensionsApp]\u001b[m Copying: /home/ale/anaconda3/lib/python3.6/site-packages/jupyter_contrib_nbextensions/nbextensions/nbTranslate/mutils.js -> /home/ale/.local/share/jupyter/nbextensions/nbTranslate/mutils.js\r\n",
      "\u001b[32m[I 12:36:22 InstallContribNbextensionsApp]\u001b[m Copying: /home/ale/anaconda3/lib/python3.6/site-packages/jupyter_contrib_nbextensions/nbextensions/nbTranslate/languages.js -> /home/ale/.local/share/jupyter/nbextensions/nbTranslate/languages.js\r\n",
      "\u001b[32m[I 12:36:22 InstallContribNbextensionsApp]\u001b[m Copying: /home/ale/anaconda3/lib/python3.6/site-packages/jupyter_contrib_nbextensions/nbextensions/nbTranslate/main.js -> /home/ale/.local/share/jupyter/nbextensions/nbTranslate/main.js\r\n",
      "\u001b[32m[I 12:36:22 InstallContribNbextensionsApp]\u001b[m Copying: /home/ale/anaconda3/lib/python3.6/site-packages/jupyter_contrib_nbextensions/nbextensions/nbTranslate/nbTranslate.yaml -> /home/ale/.local/share/jupyter/nbextensions/nbTranslate/nbTranslate.yaml\r\n",
      "\u001b[32m[I 12:36:22 InstallContribNbextensionsApp]\u001b[m Copying: /home/ale/anaconda3/lib/python3.6/site-packages/jupyter_contrib_nbextensions/nbextensions/nbTranslate/demo1.gif -> /home/ale/.local/share/jupyter/nbextensions/nbTranslate/demo1.gif\r\n",
      "\u001b[32m[I 12:36:22 InstallContribNbextensionsApp]\u001b[m - Validating: \u001b[32mOK\u001b[0m\r\n",
      "\u001b[32m[I 12:36:22 InstallContribNbextensionsApp]\u001b[m Installing /home/ale/anaconda3/lib/python3.6/site-packages/jupyter_contrib_nbextensions/nbextensions/autosavetime -> autosavetime\r\n",
      "\u001b[32m[I 12:36:22 InstallContribNbextensionsApp]\u001b[m Making directory: /home/ale/.local/share/jupyter/nbextensions/autosavetime/\r\n",
      "\u001b[32m[I 12:36:22 InstallContribNbextensionsApp]\u001b[m Copying: /home/ale/anaconda3/lib/python3.6/site-packages/jupyter_contrib_nbextensions/nbextensions/autosavetime/README.md -> /home/ale/.local/share/jupyter/nbextensions/autosavetime/README.md\r\n",
      "\u001b[32m[I 12:36:22 InstallContribNbextensionsApp]\u001b[m Copying: /home/ale/anaconda3/lib/python3.6/site-packages/jupyter_contrib_nbextensions/nbextensions/autosavetime/autosavetime.yaml -> /home/ale/.local/share/jupyter/nbextensions/autosavetime/autosavetime.yaml\r\n",
      "\u001b[32m[I 12:36:22 InstallContribNbextensionsApp]\u001b[m Copying: /home/ale/anaconda3/lib/python3.6/site-packages/jupyter_contrib_nbextensions/nbextensions/autosavetime/icon.png -> /home/ale/.local/share/jupyter/nbextensions/autosavetime/icon.png\r\n",
      "\u001b[32m[I 12:36:22 InstallContribNbextensionsApp]\u001b[m Copying: /home/ale/anaconda3/lib/python3.6/site-packages/jupyter_contrib_nbextensions/nbextensions/autosavetime/main.js -> /home/ale/.local/share/jupyter/nbextensions/autosavetime/main.js\r\n",
      "\u001b[32m[I 12:36:22 InstallContribNbextensionsApp]\u001b[m - Validating: \u001b[32mOK\u001b[0m\r\n",
      "\u001b[32m[I 12:36:22 InstallContribNbextensionsApp]\u001b[m Installing /home/ale/anaconda3/lib/python3.6/site-packages/jupyter_contrib_nbextensions/nbextensions/hide_input -> hide_input\r\n",
      "\u001b[32m[I 12:36:22 InstallContribNbextensionsApp]\u001b[m Making directory: /home/ale/.local/share/jupyter/nbextensions/hide_input/\r\n",
      "\u001b[32m[I 12:36:22 InstallContribNbextensionsApp]\u001b[m Copying: /home/ale/anaconda3/lib/python3.6/site-packages/jupyter_contrib_nbextensions/nbextensions/hide_input/readme.md -> /home/ale/.local/share/jupyter/nbextensions/hide_input/readme.md\r\n",
      "\u001b[32m[I 12:36:22 InstallContribNbextensionsApp]\u001b[m Copying: /home/ale/anaconda3/lib/python3.6/site-packages/jupyter_contrib_nbextensions/nbextensions/hide_input/hide-input.yaml -> /home/ale/.local/share/jupyter/nbextensions/hide_input/hide-input.yaml\r\n",
      "\u001b[32m[I 12:36:22 InstallContribNbextensionsApp]\u001b[m Copying: /home/ale/anaconda3/lib/python3.6/site-packages/jupyter_contrib_nbextensions/nbextensions/hide_input/icon.png -> /home/ale/.local/share/jupyter/nbextensions/hide_input/icon.png\r\n",
      "\u001b[32m[I 12:36:22 InstallContribNbextensionsApp]\u001b[m Copying: /home/ale/anaconda3/lib/python3.6/site-packages/jupyter_contrib_nbextensions/nbextensions/hide_input/main.js -> /home/ale/.local/share/jupyter/nbextensions/hide_input/main.js\r\n",
      "\u001b[32m[I 12:36:22 InstallContribNbextensionsApp]\u001b[m - Validating: \u001b[32mOK\u001b[0m\r\n",
      "\u001b[32m[I 12:36:22 InstallContribNbextensionsApp]\u001b[m Installing /home/ale/anaconda3/lib/python3.6/site-packages/jupyter_contrib_nbextensions/nbextensions/contrib_nbextensions_help_item -> contrib_nbextensions_help_item\r\n",
      "\u001b[32m[I 12:36:22 InstallContribNbextensionsApp]\u001b[m Making directory: /home/ale/.local/share/jupyter/nbextensions/contrib_nbextensions_help_item/\r\n",
      "\u001b[32m[I 12:36:22 InstallContribNbextensionsApp]\u001b[m Copying: /home/ale/anaconda3/lib/python3.6/site-packages/jupyter_contrib_nbextensions/nbextensions/contrib_nbextensions_help_item/README.md -> /home/ale/.local/share/jupyter/nbextensions/contrib_nbextensions_help_item/README.md\r\n",
      "\u001b[32m[I 12:36:22 InstallContribNbextensionsApp]\u001b[m Copying: /home/ale/anaconda3/lib/python3.6/site-packages/jupyter_contrib_nbextensions/nbextensions/contrib_nbextensions_help_item/contrib_nbextensions_help_item.yaml -> /home/ale/.local/share/jupyter/nbextensions/contrib_nbextensions_help_item/contrib_nbextensions_help_item.yaml\r\n",
      "\u001b[32m[I 12:36:22 InstallContribNbextensionsApp]\u001b[m Copying: /home/ale/anaconda3/lib/python3.6/site-packages/jupyter_contrib_nbextensions/nbextensions/contrib_nbextensions_help_item/main.js -> /home/ale/.local/share/jupyter/nbextensions/contrib_nbextensions_help_item/main.js\r\n",
      "\u001b[32m[I 12:36:22 InstallContribNbextensionsApp]\u001b[m - Validating: \u001b[32mOK\u001b[0m\r\n",
      "\u001b[32m[I 12:36:22 InstallContribNbextensionsApp]\u001b[m Installing /home/ale/anaconda3/lib/python3.6/site-packages/jupyter_contrib_nbextensions/nbextensions/toggle_all_line_numbers -> toggle_all_line_numbers\r\n",
      "\u001b[32m[I 12:36:22 InstallContribNbextensionsApp]\u001b[m Making directory: /home/ale/.local/share/jupyter/nbextensions/toggle_all_line_numbers/\r\n",
      "\u001b[32m[I 12:36:22 InstallContribNbextensionsApp]\u001b[m Copying: /home/ale/anaconda3/lib/python3.6/site-packages/jupyter_contrib_nbextensions/nbextensions/toggle_all_line_numbers/readme.md -> /home/ale/.local/share/jupyter/nbextensions/toggle_all_line_numbers/readme.md\r\n",
      "\u001b[32m[I 12:36:22 InstallContribNbextensionsApp]\u001b[m Copying: /home/ale/anaconda3/lib/python3.6/site-packages/jupyter_contrib_nbextensions/nbextensions/toggle_all_line_numbers/main.yaml -> /home/ale/.local/share/jupyter/nbextensions/toggle_all_line_numbers/main.yaml\r\n",
      "\u001b[32m[I 12:36:22 InstallContribNbextensionsApp]\u001b[m Copying: /home/ale/anaconda3/lib/python3.6/site-packages/jupyter_contrib_nbextensions/nbextensions/toggle_all_line_numbers/icon.png -> /home/ale/.local/share/jupyter/nbextensions/toggle_all_line_numbers/icon.png\r\n",
      "\u001b[32m[I 12:36:22 InstallContribNbextensionsApp]\u001b[m Copying: /home/ale/anaconda3/lib/python3.6/site-packages/jupyter_contrib_nbextensions/nbextensions/toggle_all_line_numbers/main.js -> /home/ale/.local/share/jupyter/nbextensions/toggle_all_line_numbers/main.js\r\n",
      "\u001b[32m[I 12:36:22 InstallContribNbextensionsApp]\u001b[m - Validating: \u001b[32mOK\u001b[0m\r\n",
      "\u001b[32m[I 12:36:22 InstallContribNbextensionsApp]\u001b[m Installing /home/ale/anaconda3/lib/python3.6/site-packages/jupyter_contrib_nbextensions/nbextensions/toc2 -> toc2\r\n",
      "\u001b[32m[I 12:36:22 InstallContribNbextensionsApp]\u001b[m Making directory: /home/ale/.local/share/jupyter/nbextensions/toc2/\r\n",
      "\u001b[32m[I 12:36:22 InstallContribNbextensionsApp]\u001b[m Copying: /home/ale/anaconda3/lib/python3.6/site-packages/jupyter_contrib_nbextensions/nbextensions/toc2/README.md -> /home/ale/.local/share/jupyter/nbextensions/toc2/README.md\r\n",
      "\u001b[32m[I 12:36:22 InstallContribNbextensionsApp]\u001b[m Copying: /home/ale/anaconda3/lib/python3.6/site-packages/jupyter_contrib_nbextensions/nbextensions/toc2/demo_dark.png -> /home/ale/.local/share/jupyter/nbextensions/toc2/demo_dark.png\r\n",
      "\u001b[32m[I 12:36:22 InstallContribNbextensionsApp]\u001b[m Copying: /home/ale/anaconda3/lib/python3.6/site-packages/jupyter_contrib_nbextensions/nbextensions/toc2/demo3.gif -> /home/ale/.local/share/jupyter/nbextensions/toc2/demo3.gif\r\n",
      "\u001b[32m[I 12:36:22 InstallContribNbextensionsApp]\u001b[m Copying: /home/ale/anaconda3/lib/python3.6/site-packages/jupyter_contrib_nbextensions/nbextensions/toc2/image.png -> /home/ale/.local/share/jupyter/nbextensions/toc2/image.png\r\n",
      "\u001b[32m[I 12:36:22 InstallContribNbextensionsApp]\u001b[m Copying: /home/ale/anaconda3/lib/python3.6/site-packages/jupyter_contrib_nbextensions/nbextensions/toc2/demo.gif -> /home/ale/.local/share/jupyter/nbextensions/toc2/demo.gif\r\n",
      "\u001b[32m[I 12:36:22 InstallContribNbextensionsApp]\u001b[m Copying: /home/ale/anaconda3/lib/python3.6/site-packages/jupyter_contrib_nbextensions/nbextensions/toc2/demo2.gif -> /home/ale/.local/share/jupyter/nbextensions/toc2/demo2.gif\r\n",
      "\u001b[32m[I 12:36:22 InstallContribNbextensionsApp]\u001b[m Copying: /home/ale/anaconda3/lib/python3.6/site-packages/jupyter_contrib_nbextensions/nbextensions/toc2/icon.png -> /home/ale/.local/share/jupyter/nbextensions/toc2/icon.png\r\n",
      "\u001b[32m[I 12:36:22 InstallContribNbextensionsApp]\u001b[m Copying: /home/ale/anaconda3/lib/python3.6/site-packages/jupyter_contrib_nbextensions/nbextensions/toc2/toc2.js -> /home/ale/.local/share/jupyter/nbextensions/toc2/toc2.js\r\n",
      "\u001b[32m[I 12:36:22 InstallContribNbextensionsApp]\u001b[m Copying: /home/ale/anaconda3/lib/python3.6/site-packages/jupyter_contrib_nbextensions/nbextensions/toc2/main.js -> /home/ale/.local/share/jupyter/nbextensions/toc2/main.js\r\n",
      "\u001b[32m[I 12:36:22 InstallContribNbextensionsApp]\u001b[m Copying: /home/ale/anaconda3/lib/python3.6/site-packages/jupyter_contrib_nbextensions/nbextensions/toc2/toc2.yaml -> /home/ale/.local/share/jupyter/nbextensions/toc2/toc2.yaml\r\n",
      "\u001b[32m[I 12:36:22 InstallContribNbextensionsApp]\u001b[m Copying: /home/ale/anaconda3/lib/python3.6/site-packages/jupyter_contrib_nbextensions/nbextensions/toc2/main.css -> /home/ale/.local/share/jupyter/nbextensions/toc2/main.css\r\n",
      "\u001b[32m[I 12:36:22 InstallContribNbextensionsApp]\u001b[m - Validating: \u001b[32mOK\u001b[0m\r\n",
      "\u001b[32m[I 12:36:22 InstallContribNbextensionsApp]\u001b[m Installing /home/ale/anaconda3/lib/python3.6/site-packages/jupyter_contrib_nbextensions/nbextensions/hide_header -> hide_header\r\n",
      "\u001b[32m[I 12:36:22 InstallContribNbextensionsApp]\u001b[m Making directory: /home/ale/.local/share/jupyter/nbextensions/hide_header/\r\n",
      "\u001b[32m[I 12:36:22 InstallContribNbextensionsApp]\u001b[m Copying: /home/ale/anaconda3/lib/python3.6/site-packages/jupyter_contrib_nbextensions/nbextensions/hide_header/README.md -> /home/ale/.local/share/jupyter/nbextensions/hide_header/README.md\r\n",
      "\u001b[32m[I 12:36:22 InstallContribNbextensionsApp]\u001b[m Copying: /home/ale/anaconda3/lib/python3.6/site-packages/jupyter_contrib_nbextensions/nbextensions/hide_header/hide_header.yaml -> /home/ale/.local/share/jupyter/nbextensions/hide_header/hide_header.yaml\r\n",
      "\u001b[32m[I 12:36:22 InstallContribNbextensionsApp]\u001b[m Copying: /home/ale/anaconda3/lib/python3.6/site-packages/jupyter_contrib_nbextensions/nbextensions/hide_header/main.js -> /home/ale/.local/share/jupyter/nbextensions/hide_header/main.js\r\n",
      "\u001b[32m[I 12:36:22 InstallContribNbextensionsApp]\u001b[m - Validating: \u001b[32mOK\u001b[0m\r\n",
      "\u001b[32m[I 12:36:22 InstallContribNbextensionsApp]\u001b[m Installing /home/ale/anaconda3/lib/python3.6/site-packages/jupyter_contrib_nbextensions/nbextensions/table_beautifier -> table_beautifier\r\n",
      "\u001b[32m[I 12:36:22 InstallContribNbextensionsApp]\u001b[m Making directory: /home/ale/.local/share/jupyter/nbextensions/table_beautifier/\r\n",
      "\u001b[32m[I 12:36:22 InstallContribNbextensionsApp]\u001b[m Copying: /home/ale/anaconda3/lib/python3.6/site-packages/jupyter_contrib_nbextensions/nbextensions/table_beautifier/README.md -> /home/ale/.local/share/jupyter/nbextensions/table_beautifier/README.md\r\n",
      "\u001b[32m[I 12:36:22 InstallContribNbextensionsApp]\u001b[m Copying: /home/ale/anaconda3/lib/python3.6/site-packages/jupyter_contrib_nbextensions/nbextensions/table_beautifier/table_beautifier.yaml -> /home/ale/.local/share/jupyter/nbextensions/table_beautifier/table_beautifier.yaml\r\n",
      "\u001b[32m[I 12:36:22 InstallContribNbextensionsApp]\u001b[m Copying: /home/ale/anaconda3/lib/python3.6/site-packages/jupyter_contrib_nbextensions/nbextensions/table_beautifier/main.js -> /home/ale/.local/share/jupyter/nbextensions/table_beautifier/main.js\r\n",
      "\u001b[32m[I 12:36:22 InstallContribNbextensionsApp]\u001b[m Copying: /home/ale/anaconda3/lib/python3.6/site-packages/jupyter_contrib_nbextensions/nbextensions/table_beautifier/main.css -> /home/ale/.local/share/jupyter/nbextensions/table_beautifier/main.css\r\n",
      "\u001b[32m[I 12:36:22 InstallContribNbextensionsApp]\u001b[m - Validating: \u001b[32mOK\u001b[0m\r\n",
      "\u001b[32m[I 12:36:22 InstallContribNbextensionsApp]\u001b[m Installing /home/ale/anaconda3/lib/python3.6/site-packages/jupyter_contrib_nbextensions/nbextensions/highlighter -> highlighter\r\n",
      "\u001b[32m[I 12:36:22 InstallContribNbextensionsApp]\u001b[m Making directory: /home/ale/.local/share/jupyter/nbextensions/highlighter/\r\n",
      "\u001b[32m[I 12:36:22 InstallContribNbextensionsApp]\u001b[m Copying: /home/ale/anaconda3/lib/python3.6/site-packages/jupyter_contrib_nbextensions/nbextensions/highlighter/tst_highlights.html -> /home/ale/.local/share/jupyter/nbextensions/highlighter/tst_highlights.html\r\n",
      "\u001b[32m[I 12:36:22 InstallContribNbextensionsApp]\u001b[m Copying: /home/ale/anaconda3/lib/python3.6/site-packages/jupyter_contrib_nbextensions/nbextensions/highlighter/export_highlights.pdf -> /home/ale/.local/share/jupyter/nbextensions/highlighter/export_highlights.pdf\r\n",
      "\u001b[32m[I 12:36:22 InstallContribNbextensionsApp]\u001b[m Copying: /home/ale/anaconda3/lib/python3.6/site-packages/jupyter_contrib_nbextensions/nbextensions/highlighter/readme.md -> /home/ale/.local/share/jupyter/nbextensions/highlighter/readme.md\r\n",
      "\u001b[32m[I 12:36:22 InstallContribNbextensionsApp]\u001b[m Copying: /home/ale/anaconda3/lib/python3.6/site-packages/jupyter_contrib_nbextensions/nbextensions/highlighter/export_highlights.tex -> /home/ale/.local/share/jupyter/nbextensions/highlighter/export_highlights.tex\r\n",
      "\u001b[32m[I 12:36:22 InstallContribNbextensionsApp]\u001b[m Copying: /home/ale/anaconda3/lib/python3.6/site-packages/jupyter_contrib_nbextensions/nbextensions/highlighter/tst_highlights.pdf -> /home/ale/.local/share/jupyter/nbextensions/highlighter/tst_highlights.pdf\r\n",
      "\u001b[32m[I 12:36:22 InstallContribNbextensionsApp]\u001b[m Copying: /home/ale/anaconda3/lib/python3.6/site-packages/jupyter_contrib_nbextensions/nbextensions/highlighter/demo_highlighter.html -> /home/ale/.local/share/jupyter/nbextensions/highlighter/demo_highlighter.html\r\n",
      "\u001b[32m[I 12:36:22 InstallContribNbextensionsApp]\u001b[m Copying: /home/ale/anaconda3/lib/python3.6/site-packages/jupyter_contrib_nbextensions/nbextensions/highlighter/highlighter.css -> /home/ale/.local/share/jupyter/nbextensions/highlighter/highlighter.css\r\n",
      "\u001b[32m[I 12:36:22 InstallContribNbextensionsApp]\u001b[m Copying: /home/ale/anaconda3/lib/python3.6/site-packages/jupyter_contrib_nbextensions/nbextensions/highlighter/highlighter.js -> /home/ale/.local/share/jupyter/nbextensions/highlighter/highlighter.js\r\n",
      "\u001b[32m[I 12:36:22 InstallContribNbextensionsApp]\u001b[m Copying: /home/ale/anaconda3/lib/python3.6/site-packages/jupyter_contrib_nbextensions/nbextensions/highlighter/image.gif -> /home/ale/.local/share/jupyter/nbextensions/highlighter/image.gif\r\n",
      "\u001b[32m[I 12:36:22 InstallContribNbextensionsApp]\u001b[m Copying: /home/ale/anaconda3/lib/python3.6/site-packages/jupyter_contrib_nbextensions/nbextensions/highlighter/export_highlights.html -> /home/ale/.local/share/jupyter/nbextensions/highlighter/export_highlights.html\r\n",
      "\u001b[32m[I 12:36:22 InstallContribNbextensionsApp]\u001b[m Copying: /home/ale/anaconda3/lib/python3.6/site-packages/jupyter_contrib_nbextensions/nbextensions/highlighter/highlighter.yaml -> /home/ale/.local/share/jupyter/nbextensions/highlighter/highlighter.yaml\r\n",
      "\u001b[32m[I 12:36:22 InstallContribNbextensionsApp]\u001b[m Copying: /home/ale/anaconda3/lib/python3.6/site-packages/jupyter_contrib_nbextensions/nbextensions/highlighter/icon.png -> /home/ale/.local/share/jupyter/nbextensions/highlighter/icon.png\r\n",
      "\u001b[32m[I 12:36:22 InstallContribNbextensionsApp]\u001b[m Copying: /home/ale/anaconda3/lib/python3.6/site-packages/jupyter_contrib_nbextensions/nbextensions/highlighter/tst_highlights.tex -> /home/ale/.local/share/jupyter/nbextensions/highlighter/tst_highlights.tex\r\n",
      "\u001b[32m[I 12:36:22 InstallContribNbextensionsApp]\u001b[m Copying: /home/ale/anaconda3/lib/python3.6/site-packages/jupyter_contrib_nbextensions/nbextensions/highlighter/demo_highlighter.ipynb -> /home/ale/.local/share/jupyter/nbextensions/highlighter/demo_highlighter.ipynb\r\n",
      "\u001b[32m[I 12:36:22 InstallContribNbextensionsApp]\u001b[m Copying: /home/ale/anaconda3/lib/python3.6/site-packages/jupyter_contrib_nbextensions/nbextensions/highlighter/export_highlights.ipynb -> /home/ale/.local/share/jupyter/nbextensions/highlighter/export_highlights.ipynb\r\n",
      "\u001b[32m[I 12:36:22 InstallContribNbextensionsApp]\u001b[m Copying: /home/ale/anaconda3/lib/python3.6/site-packages/jupyter_contrib_nbextensions/nbextensions/highlighter/tst_highlights.ipynb -> /home/ale/.local/share/jupyter/nbextensions/highlighter/tst_highlights.ipynb\r\n",
      "\u001b[32m[I 12:36:22 InstallContribNbextensionsApp]\u001b[m - Validating: \u001b[32mOK\u001b[0m\r\n",
      "\u001b[32m[I 12:36:22 InstallContribNbextensionsApp]\u001b[m Installing /home/ale/anaconda3/lib/python3.6/site-packages/jupyter_contrib_nbextensions/nbextensions/varInspector -> varInspector\r\n",
      "\u001b[32m[I 12:36:22 InstallContribNbextensionsApp]\u001b[m Making directory: /home/ale/.local/share/jupyter/nbextensions/varInspector/\r\n",
      "\u001b[32m[I 12:36:22 InstallContribNbextensionsApp]\u001b[m Copying: /home/ale/anaconda3/lib/python3.6/site-packages/jupyter_contrib_nbextensions/nbextensions/varInspector/README.md -> /home/ale/.local/share/jupyter/nbextensions/varInspector/README.md\r\n",
      "\u001b[32m[I 12:36:22 InstallContribNbextensionsApp]\u001b[m Copying: /home/ale/anaconda3/lib/python3.6/site-packages/jupyter_contrib_nbextensions/nbextensions/varInspector/jquery.tablesorter.min.js -> /home/ale/.local/share/jupyter/nbextensions/varInspector/jquery.tablesorter.min.js\r\n",
      "\u001b[32m[I 12:36:22 InstallContribNbextensionsApp]\u001b[m Copying: /home/ale/anaconda3/lib/python3.6/site-packages/jupyter_contrib_nbextensions/nbextensions/varInspector/varInspector.yaml -> /home/ale/.local/share/jupyter/nbextensions/varInspector/varInspector.yaml\r\n",
      "\u001b[32m[I 12:36:22 InstallContribNbextensionsApp]\u001b[m Copying: /home/ale/anaconda3/lib/python3.6/site-packages/jupyter_contrib_nbextensions/nbextensions/varInspector/tablesorter_LICENSE.txt -> /home/ale/.local/share/jupyter/nbextensions/varInspector/tablesorter_LICENSE.txt\r\n",
      "\u001b[32m[I 12:36:22 InstallContribNbextensionsApp]\u001b[m Copying: /home/ale/anaconda3/lib/python3.6/site-packages/jupyter_contrib_nbextensions/nbextensions/varInspector/demo.gif -> /home/ale/.local/share/jupyter/nbextensions/varInspector/demo.gif\r\n",
      "\u001b[32m[I 12:36:22 InstallContribNbextensionsApp]\u001b[m Copying: /home/ale/anaconda3/lib/python3.6/site-packages/jupyter_contrib_nbextensions/nbextensions/varInspector/var_list.py -> /home/ale/.local/share/jupyter/nbextensions/varInspector/var_list.py\r\n",
      "\u001b[32m[I 12:36:22 InstallContribNbextensionsApp]\u001b[m Copying: /home/ale/anaconda3/lib/python3.6/site-packages/jupyter_contrib_nbextensions/nbextensions/varInspector/var_list.r -> /home/ale/.local/share/jupyter/nbextensions/varInspector/var_list.r\r\n",
      "\u001b[32m[I 12:36:22 InstallContribNbextensionsApp]\u001b[m Copying: /home/ale/anaconda3/lib/python3.6/site-packages/jupyter_contrib_nbextensions/nbextensions/varInspector/icon.png -> /home/ale/.local/share/jupyter/nbextensions/varInspector/icon.png\r\n",
      "\u001b[32m[I 12:36:22 InstallContribNbextensionsApp]\u001b[m Copying: /home/ale/anaconda3/lib/python3.6/site-packages/jupyter_contrib_nbextensions/nbextensions/varInspector/main.js -> /home/ale/.local/share/jupyter/nbextensions/varInspector/main.js\r\n",
      "\u001b[32m[I 12:36:22 InstallContribNbextensionsApp]\u001b[m Copying: /home/ale/anaconda3/lib/python3.6/site-packages/jupyter_contrib_nbextensions/nbextensions/varInspector/main.css -> /home/ale/.local/share/jupyter/nbextensions/varInspector/main.css\r\n",
      "\u001b[32m[I 12:36:22 InstallContribNbextensionsApp]\u001b[m Making directory: /home/ale/.local/share/jupyter/nbextensions/varInspector/__pycache__\r\n",
      "\u001b[32m[I 12:36:22 InstallContribNbextensionsApp]\u001b[m Copying: /home/ale/anaconda3/lib/python3.6/site-packages/jupyter_contrib_nbextensions/nbextensions/varInspector/__pycache__/var_list.cpython-36.pyc -> /home/ale/.local/share/jupyter/nbextensions/varInspector/__pycache__/var_list.cpython-36.pyc\r\n",
      "\u001b[32m[I 12:36:22 InstallContribNbextensionsApp]\u001b[m - Validating: \u001b[32mOK\u001b[0m\r\n",
      "\u001b[32m[I 12:36:22 InstallContribNbextensionsApp]\u001b[m Installing /home/ale/anaconda3/lib/python3.6/site-packages/jupyter_contrib_nbextensions/nbextensions/codefolding -> codefolding\r\n",
      "\u001b[32m[I 12:36:22 InstallContribNbextensionsApp]\u001b[m Making directory: /home/ale/.local/share/jupyter/nbextensions/codefolding/\r\n",
      "\u001b[32m[I 12:36:22 InstallContribNbextensionsApp]\u001b[m Copying: /home/ale/anaconda3/lib/python3.6/site-packages/jupyter_contrib_nbextensions/nbextensions/codefolding/magic-fold.js -> /home/ale/.local/share/jupyter/nbextensions/codefolding/magic-fold.js\r\n",
      "\u001b[32m[I 12:36:22 InstallContribNbextensionsApp]\u001b[m Copying: /home/ale/anaconda3/lib/python3.6/site-packages/jupyter_contrib_nbextensions/nbextensions/codefolding/codefolding_indent_unfolded.png -> /home/ale/.local/share/jupyter/nbextensions/codefolding/codefolding_indent_unfolded.png\r\n",
      "\u001b[32m[I 12:36:22 InstallContribNbextensionsApp]\u001b[m Copying: /home/ale/anaconda3/lib/python3.6/site-packages/jupyter_contrib_nbextensions/nbextensions/codefolding/readme.md -> /home/ale/.local/share/jupyter/nbextensions/codefolding/readme.md\r\n",
      "\u001b[32m[I 12:36:22 InstallContribNbextensionsApp]\u001b[m Copying: /home/ale/anaconda3/lib/python3.6/site-packages/jupyter_contrib_nbextensions/nbextensions/codefolding/codefolding_editor.png -> /home/ale/.local/share/jupyter/nbextensions/codefolding/codefolding_editor.png\r\n",
      "\u001b[32m[I 12:36:22 InstallContribNbextensionsApp]\u001b[m Copying: /home/ale/anaconda3/lib/python3.6/site-packages/jupyter_contrib_nbextensions/nbextensions/codefolding/edit.js -> /home/ale/.local/share/jupyter/nbextensions/codefolding/edit.js\r\n",
      "\u001b[32m[I 12:36:22 InstallContribNbextensionsApp]\u001b[m Copying: /home/ale/anaconda3/lib/python3.6/site-packages/jupyter_contrib_nbextensions/nbextensions/codefolding/codefolding_indent_folded_1.png -> /home/ale/.local/share/jupyter/nbextensions/codefolding/codefolding_indent_folded_1.png\r\n",
      "\u001b[32m[I 12:36:22 InstallContribNbextensionsApp]\u001b[m Copying: /home/ale/anaconda3/lib/python3.6/site-packages/jupyter_contrib_nbextensions/nbextensions/codefolding/codefolding.yaml -> /home/ale/.local/share/jupyter/nbextensions/codefolding/codefolding.yaml\r\n",
      "\u001b[32m[I 12:36:22 InstallContribNbextensionsApp]\u001b[m Copying: /home/ale/anaconda3/lib/python3.6/site-packages/jupyter_contrib_nbextensions/nbextensions/codefolding/codefolding_indent_folded_2.png -> /home/ale/.local/share/jupyter/nbextensions/codefolding/codefolding_indent_folded_2.png\r\n",
      "\u001b[32m[I 12:36:22 InstallContribNbextensionsApp]\u001b[m Copying: /home/ale/anaconda3/lib/python3.6/site-packages/jupyter_contrib_nbextensions/nbextensions/codefolding/magic-folded.png -> /home/ale/.local/share/jupyter/nbextensions/codefolding/magic-folded.png\r\n",
      "\u001b[32m[I 12:36:22 InstallContribNbextensionsApp]\u001b[m Copying: /home/ale/anaconda3/lib/python3.6/site-packages/jupyter_contrib_nbextensions/nbextensions/codefolding/magic-unfolded.png -> /home/ale/.local/share/jupyter/nbextensions/codefolding/magic-unfolded.png\r\n",
      "\u001b[32m[I 12:36:22 InstallContribNbextensionsApp]\u001b[m Copying: /home/ale/anaconda3/lib/python3.6/site-packages/jupyter_contrib_nbextensions/nbextensions/codefolding/icon.png -> /home/ale/.local/share/jupyter/nbextensions/codefolding/icon.png\r\n",
      "\u001b[32m[I 12:36:22 InstallContribNbextensionsApp]\u001b[m Copying: /home/ale/anaconda3/lib/python3.6/site-packages/jupyter_contrib_nbextensions/nbextensions/codefolding/codefolding_firstline_unfolded.png -> /home/ale/.local/share/jupyter/nbextensions/codefolding/codefolding_firstline_unfolded.png\r\n",
      "\u001b[32m[I 12:36:22 InstallContribNbextensionsApp]\u001b[m Copying: /home/ale/anaconda3/lib/python3.6/site-packages/jupyter_contrib_nbextensions/nbextensions/codefolding/main.js -> /home/ale/.local/share/jupyter/nbextensions/codefolding/main.js\r\n",
      "\u001b[32m[I 12:36:22 InstallContribNbextensionsApp]\u001b[m Copying: /home/ale/anaconda3/lib/python3.6/site-packages/jupyter_contrib_nbextensions/nbextensions/codefolding/codefolding_firstline_folded.png -> /home/ale/.local/share/jupyter/nbextensions/codefolding/codefolding_firstline_folded.png\r\n",
      "\u001b[32m[I 12:36:22 InstallContribNbextensionsApp]\u001b[m Copying: /home/ale/anaconda3/lib/python3.6/site-packages/jupyter_contrib_nbextensions/nbextensions/codefolding/foldgutter.css -> /home/ale/.local/share/jupyter/nbextensions/codefolding/foldgutter.css\r\n",
      "\u001b[32m[I 12:36:22 InstallContribNbextensionsApp]\u001b[m Copying: /home/ale/anaconda3/lib/python3.6/site-packages/jupyter_contrib_nbextensions/nbextensions/codefolding/firstline-fold.js -> /home/ale/.local/share/jupyter/nbextensions/codefolding/firstline-fold.js\r\n",
      "\u001b[32m[I 12:36:22 InstallContribNbextensionsApp]\u001b[m Copying: /home/ale/anaconda3/lib/python3.6/site-packages/jupyter_contrib_nbextensions/nbextensions/codefolding/codefolding_editor.yaml -> /home/ale/.local/share/jupyter/nbextensions/codefolding/codefolding_editor.yaml\r\n",
      "\u001b[32m[I 12:36:22 InstallContribNbextensionsApp]\u001b[m - Validating: \u001b[32mOK\u001b[0m\r\n",
      "\u001b[32m[I 12:36:22 InstallContribNbextensionsApp]\u001b[m Installing /home/ale/anaconda3/lib/python3.6/site-packages/jupyter_contrib_nbextensions/nbextensions/codefolding -> codefolding\r\n",
      "\u001b[32m[I 12:36:22 InstallContribNbextensionsApp]\u001b[m Up to date: /home/ale/.local/share/jupyter/nbextensions/codefolding/magic-fold.js\r\n",
      "\u001b[32m[I 12:36:22 InstallContribNbextensionsApp]\u001b[m Up to date: /home/ale/.local/share/jupyter/nbextensions/codefolding/codefolding_indent_unfolded.png\r\n",
      "\u001b[32m[I 12:36:22 InstallContribNbextensionsApp]\u001b[m Up to date: /home/ale/.local/share/jupyter/nbextensions/codefolding/readme.md\r\n",
      "\u001b[32m[I 12:36:22 InstallContribNbextensionsApp]\u001b[m Up to date: /home/ale/.local/share/jupyter/nbextensions/codefolding/codefolding_editor.png\r\n",
      "\u001b[32m[I 12:36:22 InstallContribNbextensionsApp]\u001b[m Up to date: /home/ale/.local/share/jupyter/nbextensions/codefolding/edit.js\r\n",
      "\u001b[32m[I 12:36:22 InstallContribNbextensionsApp]\u001b[m Up to date: /home/ale/.local/share/jupyter/nbextensions/codefolding/codefolding_indent_folded_1.png\r\n",
      "\u001b[32m[I 12:36:22 InstallContribNbextensionsApp]\u001b[m Up to date: /home/ale/.local/share/jupyter/nbextensions/codefolding/codefolding.yaml\r\n",
      "\u001b[32m[I 12:36:22 InstallContribNbextensionsApp]\u001b[m Up to date: /home/ale/.local/share/jupyter/nbextensions/codefolding/codefolding_indent_folded_2.png\r\n",
      "\u001b[32m[I 12:36:22 InstallContribNbextensionsApp]\u001b[m Up to date: /home/ale/.local/share/jupyter/nbextensions/codefolding/magic-folded.png\r\n",
      "\u001b[32m[I 12:36:22 InstallContribNbextensionsApp]\u001b[m Up to date: /home/ale/.local/share/jupyter/nbextensions/codefolding/magic-unfolded.png\r\n",
      "\u001b[32m[I 12:36:22 InstallContribNbextensionsApp]\u001b[m Up to date: /home/ale/.local/share/jupyter/nbextensions/codefolding/icon.png\r\n",
      "\u001b[32m[I 12:36:22 InstallContribNbextensionsApp]\u001b[m Up to date: /home/ale/.local/share/jupyter/nbextensions/codefolding/codefolding_firstline_unfolded.png\r\n",
      "\u001b[32m[I 12:36:22 InstallContribNbextensionsApp]\u001b[m Up to date: /home/ale/.local/share/jupyter/nbextensions/codefolding/main.js\r\n",
      "\u001b[32m[I 12:36:22 InstallContribNbextensionsApp]\u001b[m Up to date: /home/ale/.local/share/jupyter/nbextensions/codefolding/codefolding_firstline_folded.png\r\n",
      "\u001b[32m[I 12:36:22 InstallContribNbextensionsApp]\u001b[m Up to date: /home/ale/.local/share/jupyter/nbextensions/codefolding/foldgutter.css\r\n",
      "\u001b[32m[I 12:36:22 InstallContribNbextensionsApp]\u001b[m Up to date: /home/ale/.local/share/jupyter/nbextensions/codefolding/firstline-fold.js\r\n",
      "\u001b[32m[I 12:36:22 InstallContribNbextensionsApp]\u001b[m Up to date: /home/ale/.local/share/jupyter/nbextensions/codefolding/codefolding_editor.yaml\r\n",
      "\u001b[32m[I 12:36:22 InstallContribNbextensionsApp]\u001b[m - Validating: \u001b[32mOK\u001b[0m\r\n",
      "\u001b[32m[I 12:36:22 InstallContribNbextensionsApp]\u001b[m Installing /home/ale/anaconda3/lib/python3.6/site-packages/jupyter_contrib_nbextensions/nbextensions/keyboard_shortcut_editor -> keyboard_shortcut_editor\r\n",
      "\u001b[32m[I 12:36:22 InstallContribNbextensionsApp]\u001b[m Making directory: /home/ale/.local/share/jupyter/nbextensions/keyboard_shortcut_editor/\r\n",
      "\u001b[32m[I 12:36:22 InstallContribNbextensionsApp]\u001b[m Copying: /home/ale/anaconda3/lib/python3.6/site-packages/jupyter_contrib_nbextensions/nbextensions/keyboard_shortcut_editor/readme_undefined_key.png -> /home/ale/.local/share/jupyter/nbextensions/keyboard_shortcut_editor/readme_undefined_key.png\r\n",
      "\u001b[32m[I 12:36:22 InstallContribNbextensionsApp]\u001b[m Copying: /home/ale/anaconda3/lib/python3.6/site-packages/jupyter_contrib_nbextensions/nbextensions/keyboard_shortcut_editor/README.md -> /home/ale/.local/share/jupyter/nbextensions/keyboard_shortcut_editor/README.md\r\n",
      "\u001b[32m[I 12:36:22 InstallContribNbextensionsApp]\u001b[m Copying: /home/ale/anaconda3/lib/python3.6/site-packages/jupyter_contrib_nbextensions/nbextensions/keyboard_shortcut_editor/readme_comma.png -> /home/ale/.local/share/jupyter/nbextensions/keyboard_shortcut_editor/readme_comma.png\r\n",
      "\u001b[32m[I 12:36:22 InstallContribNbextensionsApp]\u001b[m Copying: /home/ale/anaconda3/lib/python3.6/site-packages/jupyter_contrib_nbextensions/nbextensions/keyboard_shortcut_editor/readme_add_new_select_action.png -> /home/ale/.local/share/jupyter/nbextensions/keyboard_shortcut_editor/readme_add_new_select_action.png\r\n",
      "\u001b[32m[I 12:36:22 InstallContribNbextensionsApp]\u001b[m Copying: /home/ale/anaconda3/lib/python3.6/site-packages/jupyter_contrib_nbextensions/nbextensions/keyboard_shortcut_editor/readme_shortcut_editor_success.png -> /home/ale/.local/share/jupyter/nbextensions/keyboard_shortcut_editor/readme_shortcut_editor_success.png\r\n",
      "\u001b[32m[I 12:36:22 InstallContribNbextensionsApp]\u001b[m Copying: /home/ale/anaconda3/lib/python3.6/site-packages/jupyter_contrib_nbextensions/nbextensions/keyboard_shortcut_editor/readme_conflict.png -> /home/ale/.local/share/jupyter/nbextensions/keyboard_shortcut_editor/readme_conflict.png\r\n",
      "\u001b[32m[I 12:36:22 InstallContribNbextensionsApp]\u001b[m Copying: /home/ale/anaconda3/lib/python3.6/site-packages/jupyter_contrib_nbextensions/nbextensions/keyboard_shortcut_editor/quickhelp_shim.js -> /home/ale/.local/share/jupyter/nbextensions/keyboard_shortcut_editor/quickhelp_shim.js\r\n",
      "\u001b[32m[I 12:36:22 InstallContribNbextensionsApp]\u001b[m Copying: /home/ale/anaconda3/lib/python3.6/site-packages/jupyter_contrib_nbextensions/nbextensions/keyboard_shortcut_editor/readme_dropdown.png -> /home/ale/.local/share/jupyter/nbextensions/keyboard_shortcut_editor/readme_dropdown.png\r\n",
      "\u001b[32m[I 12:36:22 InstallContribNbextensionsApp]\u001b[m Copying: /home/ale/anaconda3/lib/python3.6/site-packages/jupyter_contrib_nbextensions/nbextensions/keyboard_shortcut_editor/readme_add_new_link.png -> /home/ale/.local/share/jupyter/nbextensions/keyboard_shortcut_editor/readme_add_new_link.png\r\n",
      "\u001b[32m[I 12:36:22 InstallContribNbextensionsApp]\u001b[m Copying: /home/ale/anaconda3/lib/python3.6/site-packages/jupyter_contrib_nbextensions/nbextensions/keyboard_shortcut_editor/keyboard_shortcut_editor.yaml -> /home/ale/.local/share/jupyter/nbextensions/keyboard_shortcut_editor/keyboard_shortcut_editor.yaml\r\n",
      "\u001b[32m[I 12:36:22 InstallContribNbextensionsApp]\u001b[m Copying: /home/ale/anaconda3/lib/python3.6/site-packages/jupyter_contrib_nbextensions/nbextensions/keyboard_shortcut_editor/kse_components.js -> /home/ale/.local/share/jupyter/nbextensions/keyboard_shortcut_editor/kse_components.js\r\n",
      "\u001b[32m[I 12:36:22 InstallContribNbextensionsApp]\u001b[m Copying: /home/ale/anaconda3/lib/python3.6/site-packages/jupyter_contrib_nbextensions/nbextensions/keyboard_shortcut_editor/icon.png -> /home/ale/.local/share/jupyter/nbextensions/keyboard_shortcut_editor/icon.png\r\n",
      "\u001b[32m[I 12:36:22 InstallContribNbextensionsApp]\u001b[m Copying: /home/ale/anaconda3/lib/python3.6/site-packages/jupyter_contrib_nbextensions/nbextensions/keyboard_shortcut_editor/readme_reset_disabled.png -> /home/ale/.local/share/jupyter/nbextensions/keyboard_shortcut_editor/readme_reset_disabled.png\r\n",
      "\u001b[32m[I 12:36:22 InstallContribNbextensionsApp]\u001b[m Copying: /home/ale/anaconda3/lib/python3.6/site-packages/jupyter_contrib_nbextensions/nbextensions/keyboard_shortcut_editor/main.js -> /home/ale/.local/share/jupyter/nbextensions/keyboard_shortcut_editor/main.js\r\n",
      "\u001b[32m[I 12:36:22 InstallContribNbextensionsApp]\u001b[m Copying: /home/ale/anaconda3/lib/python3.6/site-packages/jupyter_contrib_nbextensions/nbextensions/keyboard_shortcut_editor/readme_menu_item.png -> /home/ale/.local/share/jupyter/nbextensions/keyboard_shortcut_editor/readme_menu_item.png\r\n",
      "\u001b[32m[I 12:36:22 InstallContribNbextensionsApp]\u001b[m Copying: /home/ale/anaconda3/lib/python3.6/site-packages/jupyter_contrib_nbextensions/nbextensions/keyboard_shortcut_editor/readme_shortcut_editor_blank.png -> /home/ale/.local/share/jupyter/nbextensions/keyboard_shortcut_editor/readme_shortcut_editor_blank.png\r\n",
      "\u001b[32m[I 12:36:22 InstallContribNbextensionsApp]\u001b[m Copying: /home/ale/anaconda3/lib/python3.6/site-packages/jupyter_contrib_nbextensions/nbextensions/keyboard_shortcut_editor/main.css -> /home/ale/.local/share/jupyter/nbextensions/keyboard_shortcut_editor/main.css\r\n",
      "\u001b[32m[I 12:36:22 InstallContribNbextensionsApp]\u001b[m - Validating: \u001b[32mOK\u001b[0m\r\n",
      "\u001b[32m[I 12:36:22 InstallContribNbextensionsApp]\u001b[m Installing /home/ale/anaconda3/lib/python3.6/site-packages/jupyter_contrib_nbextensions/nbextensions/qtconsole -> qtconsole\r\n",
      "\u001b[32m[I 12:36:22 InstallContribNbextensionsApp]\u001b[m Making directory: /home/ale/.local/share/jupyter/nbextensions/qtconsole/\r\n",
      "\u001b[32m[I 12:36:22 InstallContribNbextensionsApp]\u001b[m Copying: /home/ale/anaconda3/lib/python3.6/site-packages/jupyter_contrib_nbextensions/nbextensions/qtconsole/README.md -> /home/ale/.local/share/jupyter/nbextensions/qtconsole/README.md\r\n",
      "\u001b[32m[I 12:36:22 InstallContribNbextensionsApp]\u001b[m Copying: /home/ale/anaconda3/lib/python3.6/site-packages/jupyter_contrib_nbextensions/nbextensions/qtconsole/qtconsole.js -> /home/ale/.local/share/jupyter/nbextensions/qtconsole/qtconsole.js\r\n",
      "\u001b[32m[I 12:36:22 InstallContribNbextensionsApp]\u001b[m Copying: /home/ale/anaconda3/lib/python3.6/site-packages/jupyter_contrib_nbextensions/nbextensions/qtconsole/qtconsole.yaml -> /home/ale/.local/share/jupyter/nbextensions/qtconsole/qtconsole.yaml\r\n",
      "\u001b[32m[I 12:36:22 InstallContribNbextensionsApp]\u001b[m - Validating: \u001b[32mOK\u001b[0m\r\n",
      "\u001b[32m[I 12:36:22 InstallContribNbextensionsApp]\u001b[m Installing /home/ale/anaconda3/lib/python3.6/site-packages/jupyter_contrib_nbextensions/nbextensions/move_selected_cells -> move_selected_cells\r\n",
      "\u001b[32m[I 12:36:22 InstallContribNbextensionsApp]\u001b[m Making directory: /home/ale/.local/share/jupyter/nbextensions/move_selected_cells/\r\n",
      "\u001b[32m[I 12:36:22 InstallContribNbextensionsApp]\u001b[m Copying: /home/ale/anaconda3/lib/python3.6/site-packages/jupyter_contrib_nbextensions/nbextensions/move_selected_cells/README.md -> /home/ale/.local/share/jupyter/nbextensions/move_selected_cells/README.md\r\n",
      "\u001b[32m[I 12:36:22 InstallContribNbextensionsApp]\u001b[m Copying: /home/ale/anaconda3/lib/python3.6/site-packages/jupyter_contrib_nbextensions/nbextensions/move_selected_cells/move_selected_cells.yaml -> /home/ale/.local/share/jupyter/nbextensions/move_selected_cells/move_selected_cells.yaml\r\n",
      "\u001b[32m[I 12:36:22 InstallContribNbextensionsApp]\u001b[m Copying: /home/ale/anaconda3/lib/python3.6/site-packages/jupyter_contrib_nbextensions/nbextensions/move_selected_cells/main.js -> /home/ale/.local/share/jupyter/nbextensions/move_selected_cells/main.js\r\n",
      "\u001b[32m[I 12:36:22 InstallContribNbextensionsApp]\u001b[m - Validating: \u001b[32mOK\u001b[0m\r\n",
      "\u001b[32m[I 12:36:22 InstallContribNbextensionsApp]\u001b[m Installing /home/ale/anaconda3/lib/python3.6/site-packages/jupyter_contrib_nbextensions/nbextensions/tree-filter -> tree-filter\r\n",
      "\u001b[32m[I 12:36:22 InstallContribNbextensionsApp]\u001b[m Making directory: /home/ale/.local/share/jupyter/nbextensions/tree-filter/\r\n",
      "\u001b[32m[I 12:36:22 InstallContribNbextensionsApp]\u001b[m Copying: /home/ale/anaconda3/lib/python3.6/site-packages/jupyter_contrib_nbextensions/nbextensions/tree-filter/readme.md -> /home/ale/.local/share/jupyter/nbextensions/tree-filter/readme.md\r\n",
      "\u001b[32m[I 12:36:22 InstallContribNbextensionsApp]\u001b[m Copying: /home/ale/anaconda3/lib/python3.6/site-packages/jupyter_contrib_nbextensions/nbextensions/tree-filter/demo.gif -> /home/ale/.local/share/jupyter/nbextensions/tree-filter/demo.gif\r\n",
      "\u001b[32m[I 12:36:22 InstallContribNbextensionsApp]\u001b[m Copying: /home/ale/anaconda3/lib/python3.6/site-packages/jupyter_contrib_nbextensions/nbextensions/tree-filter/tree-filter.yaml -> /home/ale/.local/share/jupyter/nbextensions/tree-filter/tree-filter.yaml\r\n",
      "\u001b[32m[I 12:36:22 InstallContribNbextensionsApp]\u001b[m Copying: /home/ale/anaconda3/lib/python3.6/site-packages/jupyter_contrib_nbextensions/nbextensions/tree-filter/index.js -> /home/ale/.local/share/jupyter/nbextensions/tree-filter/index.js\r\n",
      "\u001b[32m[I 12:36:22 InstallContribNbextensionsApp]\u001b[m - Validating: \u001b[32mOK\u001b[0m\r\n",
      "\u001b[32m[I 12:36:22 InstallContribNbextensionsApp]\u001b[m Installing /home/ale/anaconda3/lib/python3.6/site-packages/jupyter_contrib_nbextensions/nbextensions/exercise2 -> exercise2\r\n",
      "\u001b[32m[I 12:36:22 InstallContribNbextensionsApp]\u001b[m Making directory: /home/ale/.local/share/jupyter/nbextensions/exercise2/\r\n",
      "\u001b[32m[I 12:36:22 InstallContribNbextensionsApp]\u001b[m Copying: /home/ale/anaconda3/lib/python3.6/site-packages/jupyter_contrib_nbextensions/nbextensions/exercise2/readme.md -> /home/ale/.local/share/jupyter/nbextensions/exercise2/readme.md\r\n",
      "\u001b[32m[I 12:36:22 InstallContribNbextensionsApp]\u001b[m Copying: /home/ale/anaconda3/lib/python3.6/site-packages/jupyter_contrib_nbextensions/nbextensions/exercise2/image.gif -> /home/ale/.local/share/jupyter/nbextensions/exercise2/image.gif\r\n",
      "\u001b[32m[I 12:36:22 InstallContribNbextensionsApp]\u001b[m Copying: /home/ale/anaconda3/lib/python3.6/site-packages/jupyter_contrib_nbextensions/nbextensions/exercise2/exercise2.yaml -> /home/ale/.local/share/jupyter/nbextensions/exercise2/exercise2.yaml\r\n",
      "\u001b[32m[I 12:36:22 InstallContribNbextensionsApp]\u001b[m Copying: /home/ale/anaconda3/lib/python3.6/site-packages/jupyter_contrib_nbextensions/nbextensions/exercise2/icon.png -> /home/ale/.local/share/jupyter/nbextensions/exercise2/icon.png\r\n",
      "\u001b[32m[I 12:36:22 InstallContribNbextensionsApp]\u001b[m Copying: /home/ale/anaconda3/lib/python3.6/site-packages/jupyter_contrib_nbextensions/nbextensions/exercise2/main.js -> /home/ale/.local/share/jupyter/nbextensions/exercise2/main.js\r\n",
      "\u001b[32m[I 12:36:22 InstallContribNbextensionsApp]\u001b[m Copying: /home/ale/anaconda3/lib/python3.6/site-packages/jupyter_contrib_nbextensions/nbextensions/exercise2/main.css -> /home/ale/.local/share/jupyter/nbextensions/exercise2/main.css\r\n",
      "\u001b[32m[I 12:36:22 InstallContribNbextensionsApp]\u001b[m - Validating: \u001b[32mOK\u001b[0m\r\n",
      "\u001b[32m[I 12:36:22 InstallContribNbextensionsApp]\u001b[m Installing /home/ale/anaconda3/lib/python3.6/site-packages/jupyter_contrib_nbextensions/nbextensions/splitcell -> splitcell\r\n",
      "\u001b[32m[I 12:36:22 InstallContribNbextensionsApp]\u001b[m Making directory: /home/ale/.local/share/jupyter/nbextensions/splitcell/\r\n",
      "\u001b[32m[I 12:36:22 InstallContribNbextensionsApp]\u001b[m Copying: /home/ale/anaconda3/lib/python3.6/site-packages/jupyter_contrib_nbextensions/nbextensions/splitcell/readme.md -> /home/ale/.local/share/jupyter/nbextensions/splitcell/readme.md\r\n",
      "\u001b[32m[I 12:36:22 InstallContribNbextensionsApp]\u001b[m Copying: /home/ale/anaconda3/lib/python3.6/site-packages/jupyter_contrib_nbextensions/nbextensions/splitcell/splitcell.js -> /home/ale/.local/share/jupyter/nbextensions/splitcell/splitcell.js\r\n",
      "\u001b[32m[I 12:36:22 InstallContribNbextensionsApp]\u001b[m Copying: /home/ale/anaconda3/lib/python3.6/site-packages/jupyter_contrib_nbextensions/nbextensions/splitcell/icon.png -> /home/ale/.local/share/jupyter/nbextensions/splitcell/icon.png\r\n",
      "\u001b[32m[I 12:36:22 InstallContribNbextensionsApp]\u001b[m Copying: /home/ale/anaconda3/lib/python3.6/site-packages/jupyter_contrib_nbextensions/nbextensions/splitcell/splitcell.yaml -> /home/ale/.local/share/jupyter/nbextensions/splitcell/splitcell.yaml\r\n",
      "\u001b[32m[I 12:36:22 InstallContribNbextensionsApp]\u001b[m - Validating: \u001b[32mOK\u001b[0m\r\n",
      "\u001b[32m[I 12:36:22 InstallContribNbextensionsApp]\u001b[m Installing /home/ale/anaconda3/lib/python3.6/site-packages/jupyter_contrib_nbextensions/nbextensions/zenmode -> zenmode\r\n",
      "\u001b[32m[I 12:36:22 InstallContribNbextensionsApp]\u001b[m Making directory: /home/ale/.local/share/jupyter/nbextensions/zenmode/\r\n",
      "\u001b[32m[I 12:36:22 InstallContribNbextensionsApp]\u001b[m Copying: /home/ale/anaconda3/lib/python3.6/site-packages/jupyter_contrib_nbextensions/nbextensions/zenmode/README.md -> /home/ale/.local/share/jupyter/nbextensions/zenmode/README.md\r\n",
      "\u001b[32m[I 12:36:22 InstallContribNbextensionsApp]\u001b[m Copying: /home/ale/anaconda3/lib/python3.6/site-packages/jupyter_contrib_nbextensions/nbextensions/zenmode/zenmode.yaml -> /home/ale/.local/share/jupyter/nbextensions/zenmode/zenmode.yaml\r\n",
      "\u001b[32m[I 12:36:22 InstallContribNbextensionsApp]\u001b[m Copying: /home/ale/anaconda3/lib/python3.6/site-packages/jupyter_contrib_nbextensions/nbextensions/zenmode/main.js -> /home/ale/.local/share/jupyter/nbextensions/zenmode/main.js\r\n",
      "\u001b[32m[I 12:36:22 InstallContribNbextensionsApp]\u001b[m Copying: /home/ale/anaconda3/lib/python3.6/site-packages/jupyter_contrib_nbextensions/nbextensions/zenmode/main.css -> /home/ale/.local/share/jupyter/nbextensions/zenmode/main.css\r\n",
      "\u001b[32m[I 12:36:22 InstallContribNbextensionsApp]\u001b[m Making directory: /home/ale/.local/share/jupyter/nbextensions/zenmode/images\r\n",
      "\u001b[32m[I 12:36:22 InstallContribNbextensionsApp]\u001b[m Copying: /home/ale/anaconda3/lib/python3.6/site-packages/jupyter_contrib_nbextensions/nbextensions/zenmode/images/ipynblogo1.png -> /home/ale/.local/share/jupyter/nbextensions/zenmode/images/ipynblogo1.png\r\n",
      "\u001b[32m[I 12:36:22 InstallContribNbextensionsApp]\u001b[m Copying: /home/ale/anaconda3/lib/python3.6/site-packages/jupyter_contrib_nbextensions/nbextensions/zenmode/images/back22.jpg -> /home/ale/.local/share/jupyter/nbextensions/zenmode/images/back22.jpg\r\n",
      "\u001b[32m[I 12:36:22 InstallContribNbextensionsApp]\u001b[m Copying: /home/ale/anaconda3/lib/python3.6/site-packages/jupyter_contrib_nbextensions/nbextensions/zenmode/images/ipynblogo0.png -> /home/ale/.local/share/jupyter/nbextensions/zenmode/images/ipynblogo0.png\r\n",
      "\u001b[32m[I 12:36:22 InstallContribNbextensionsApp]\u001b[m Copying: /home/ale/anaconda3/lib/python3.6/site-packages/jupyter_contrib_nbextensions/nbextensions/zenmode/images/back3.jpg -> /home/ale/.local/share/jupyter/nbextensions/zenmode/images/back3.jpg\r\n",
      "\u001b[32m[I 12:36:22 InstallContribNbextensionsApp]\u001b[m Copying: /home/ale/anaconda3/lib/python3.6/site-packages/jupyter_contrib_nbextensions/nbextensions/zenmode/images/back1.jpg -> /home/ale/.local/share/jupyter/nbextensions/zenmode/images/back1.jpg\r\n",
      "\u001b[32m[I 12:36:22 InstallContribNbextensionsApp]\u001b[m Copying: /home/ale/anaconda3/lib/python3.6/site-packages/jupyter_contrib_nbextensions/nbextensions/zenmode/images/back12.jpg -> /home/ale/.local/share/jupyter/nbextensions/zenmode/images/back12.jpg\r\n",
      "\u001b[32m[I 12:36:22 InstallContribNbextensionsApp]\u001b[m Copying: /home/ale/anaconda3/lib/python3.6/site-packages/jupyter_contrib_nbextensions/nbextensions/zenmode/images/back11.jpg -> /home/ale/.local/share/jupyter/nbextensions/zenmode/images/back11.jpg\r\n",
      "\u001b[32m[I 12:36:22 InstallContribNbextensionsApp]\u001b[m Copying: /home/ale/anaconda3/lib/python3.6/site-packages/jupyter_contrib_nbextensions/nbextensions/zenmode/images/back2.jpg -> /home/ale/.local/share/jupyter/nbextensions/zenmode/images/back2.jpg\r\n",
      "\u001b[32m[I 12:36:22 InstallContribNbextensionsApp]\u001b[m Copying: /home/ale/anaconda3/lib/python3.6/site-packages/jupyter_contrib_nbextensions/nbextensions/zenmode/images/back21.jpg -> /home/ale/.local/share/jupyter/nbextensions/zenmode/images/back21.jpg\r\n",
      "\u001b[32m[I 12:36:22 InstallContribNbextensionsApp]\u001b[m - Validating: \u001b[32mOK\u001b[0m\r\n",
      "\u001b[32m[I 12:36:22 InstallContribNbextensionsApp]\u001b[m Installing /home/ale/anaconda3/lib/python3.6/site-packages/jupyter_contrib_nbextensions/nbextensions/navigation-hotkeys -> navigation-hotkeys\r\n",
      "\u001b[32m[I 12:36:22 InstallContribNbextensionsApp]\u001b[m Making directory: /home/ale/.local/share/jupyter/nbextensions/navigation-hotkeys/\r\n",
      "\u001b[32m[I 12:36:22 InstallContribNbextensionsApp]\u001b[m Copying: /home/ale/anaconda3/lib/python3.6/site-packages/jupyter_contrib_nbextensions/nbextensions/navigation-hotkeys/readme.md -> /home/ale/.local/share/jupyter/nbextensions/navigation-hotkeys/readme.md\r\n",
      "\u001b[32m[I 12:36:22 InstallContribNbextensionsApp]\u001b[m Copying: /home/ale/anaconda3/lib/python3.6/site-packages/jupyter_contrib_nbextensions/nbextensions/navigation-hotkeys/icon.png -> /home/ale/.local/share/jupyter/nbextensions/navigation-hotkeys/icon.png\r\n",
      "\u001b[32m[I 12:36:22 InstallContribNbextensionsApp]\u001b[m Copying: /home/ale/anaconda3/lib/python3.6/site-packages/jupyter_contrib_nbextensions/nbextensions/navigation-hotkeys/main.js -> /home/ale/.local/share/jupyter/nbextensions/navigation-hotkeys/main.js\r\n",
      "\u001b[32m[I 12:36:22 InstallContribNbextensionsApp]\u001b[m Copying: /home/ale/anaconda3/lib/python3.6/site-packages/jupyter_contrib_nbextensions/nbextensions/navigation-hotkeys/hotkeys.yaml -> /home/ale/.local/share/jupyter/nbextensions/navigation-hotkeys/hotkeys.yaml\r\n",
      "\u001b[32m[I 12:36:22 InstallContribNbextensionsApp]\u001b[m - Validating: \u001b[32mOK\u001b[0m\r\n",
      "\u001b[32m[I 12:36:22 InstallContribNbextensionsApp]\u001b[m Installing /home/ale/anaconda3/lib/python3.6/site-packages/jupyter_contrib_nbextensions/nbextensions/gist_it -> gist_it\r\n",
      "\u001b[32m[I 12:36:22 InstallContribNbextensionsApp]\u001b[m Making directory: /home/ale/.local/share/jupyter/nbextensions/gist_it/\r\n",
      "\u001b[32m[I 12:36:22 InstallContribNbextensionsApp]\u001b[m Copying: /home/ale/anaconda3/lib/python3.6/site-packages/jupyter_contrib_nbextensions/nbextensions/gist_it/readme.md -> /home/ale/.local/share/jupyter/nbextensions/gist_it/readme.md\r\n",
      "\u001b[32m[I 12:36:22 InstallContribNbextensionsApp]\u001b[m Copying: /home/ale/anaconda3/lib/python3.6/site-packages/jupyter_contrib_nbextensions/nbextensions/gist_it/gist_it.yaml -> /home/ale/.local/share/jupyter/nbextensions/gist_it/gist_it.yaml\r\n",
      "\u001b[32m[I 12:36:22 InstallContribNbextensionsApp]\u001b[m Copying: /home/ale/anaconda3/lib/python3.6/site-packages/jupyter_contrib_nbextensions/nbextensions/gist_it/icon.png -> /home/ale/.local/share/jupyter/nbextensions/gist_it/icon.png\r\n",
      "\u001b[32m[I 12:36:22 InstallContribNbextensionsApp]\u001b[m Copying: /home/ale/anaconda3/lib/python3.6/site-packages/jupyter_contrib_nbextensions/nbextensions/gist_it/main.js -> /home/ale/.local/share/jupyter/nbextensions/gist_it/main.js\r\n",
      "\u001b[32m[I 12:36:22 InstallContribNbextensionsApp]\u001b[m - Validating: \u001b[32mOK\u001b[0m\r\n",
      "\u001b[32m[I 12:36:22 InstallContribNbextensionsApp]\u001b[m Installing /home/ale/anaconda3/lib/python3.6/site-packages/jupyter_contrib_nbextensions/nbextensions/runtools -> runtools\r\n",
      "\u001b[32m[I 12:36:22 InstallContribNbextensionsApp]\u001b[m Making directory: /home/ale/.local/share/jupyter/nbextensions/runtools/\r\n",
      "\u001b[32m[I 12:36:22 InstallContribNbextensionsApp]\u001b[m Copying: /home/ale/anaconda3/lib/python3.6/site-packages/jupyter_contrib_nbextensions/nbextensions/runtools/readme.md -> /home/ale/.local/share/jupyter/nbextensions/runtools/readme.md\r\n",
      "\u001b[32m[I 12:36:22 InstallContribNbextensionsApp]\u001b[m Copying: /home/ale/anaconda3/lib/python3.6/site-packages/jupyter_contrib_nbextensions/nbextensions/runtools/gutter.css -> /home/ale/.local/share/jupyter/nbextensions/runtools/gutter.css\r\n",
      "\u001b[32m[I 12:36:22 InstallContribNbextensionsApp]\u001b[m Copying: /home/ale/anaconda3/lib/python3.6/site-packages/jupyter_contrib_nbextensions/nbextensions/runtools/runtools.yaml -> /home/ale/.local/share/jupyter/nbextensions/runtools/runtools.yaml\r\n",
      "\u001b[32m[I 12:36:22 InstallContribNbextensionsApp]\u001b[m Copying: /home/ale/anaconda3/lib/python3.6/site-packages/jupyter_contrib_nbextensions/nbextensions/runtools/runtools_execute.png -> /home/ale/.local/share/jupyter/nbextensions/runtools/runtools_execute.png\r\n",
      "\u001b[32m[I 12:36:22 InstallContribNbextensionsApp]\u001b[m Copying: /home/ale/anaconda3/lib/python3.6/site-packages/jupyter_contrib_nbextensions/nbextensions/runtools/runtools_show_hide.png -> /home/ale/.local/share/jupyter/nbextensions/runtools/runtools_show_hide.png\r\n",
      "\u001b[32m[I 12:36:22 InstallContribNbextensionsApp]\u001b[m Copying: /home/ale/anaconda3/lib/python3.6/site-packages/jupyter_contrib_nbextensions/nbextensions/runtools/runtools_marker.png -> /home/ale/.local/share/jupyter/nbextensions/runtools/runtools_marker.png\r\n",
      "\u001b[32m[I 12:36:22 InstallContribNbextensionsApp]\u001b[m Copying: /home/ale/anaconda3/lib/python3.6/site-packages/jupyter_contrib_nbextensions/nbextensions/runtools/runtools_nb.png -> /home/ale/.local/share/jupyter/nbextensions/runtools/runtools_nb.png\r\n"
     ]
    },
    {
     "name": "stdout",
     "output_type": "stream",
     "text": [
      "\u001b[32m[I 12:36:22 InstallContribNbextensionsApp]\u001b[m Copying: /home/ale/anaconda3/lib/python3.6/site-packages/jupyter_contrib_nbextensions/nbextensions/runtools/icon.png -> /home/ale/.local/share/jupyter/nbextensions/runtools/icon.png\r\n",
      "\u001b[32m[I 12:36:22 InstallContribNbextensionsApp]\u001b[m Copying: /home/ale/anaconda3/lib/python3.6/site-packages/jupyter_contrib_nbextensions/nbextensions/runtools/main.js -> /home/ale/.local/share/jupyter/nbextensions/runtools/main.js\r\n",
      "\u001b[32m[I 12:36:22 InstallContribNbextensionsApp]\u001b[m Copying: /home/ale/anaconda3/lib/python3.6/site-packages/jupyter_contrib_nbextensions/nbextensions/runtools/main.css -> /home/ale/.local/share/jupyter/nbextensions/runtools/main.css\r\n",
      "\u001b[32m[I 12:36:22 InstallContribNbextensionsApp]\u001b[m Copying: /home/ale/anaconda3/lib/python3.6/site-packages/jupyter_contrib_nbextensions/nbextensions/runtools/runtools_move_lock.png -> /home/ale/.local/share/jupyter/nbextensions/runtools/runtools_move_lock.png\r\n",
      "\u001b[32m[I 12:36:22 InstallContribNbextensionsApp]\u001b[m - Validating: \u001b[32mOK\u001b[0m\r\n",
      "\u001b[32m[I 12:36:22 InstallContribNbextensionsApp]\u001b[m Installing /home/ale/anaconda3/lib/python3.6/site-packages/jupyter_contrib_nbextensions/nbextensions/snippets_menu -> snippets_menu\r\n",
      "\u001b[32m[I 12:36:22 InstallContribNbextensionsApp]\u001b[m Making directory: /home/ale/.local/share/jupyter/nbextensions/snippets_menu/\r\n",
      "\u001b[32m[I 12:36:22 InstallContribNbextensionsApp]\u001b[m Copying: /home/ale/anaconda3/lib/python3.6/site-packages/jupyter_contrib_nbextensions/nbextensions/snippets_menu/snippets_submenu_python.js -> /home/ale/.local/share/jupyter/nbextensions/snippets_menu/snippets_submenu_python.js\r\n",
      "\u001b[32m[I 12:36:22 InstallContribNbextensionsApp]\u001b[m Copying: /home/ale/anaconda3/lib/python3.6/site-packages/jupyter_contrib_nbextensions/nbextensions/snippets_menu/readme.md -> /home/ale/.local/share/jupyter/nbextensions/snippets_menu/readme.md\r\n",
      "\u001b[32m[I 12:36:22 InstallContribNbextensionsApp]\u001b[m Copying: /home/ale/anaconda3/lib/python3.6/site-packages/jupyter_contrib_nbextensions/nbextensions/snippets_menu/screenshot2.png -> /home/ale/.local/share/jupyter/nbextensions/snippets_menu/screenshot2.png\r\n",
      "\u001b[32m[I 12:36:22 InstallContribNbextensionsApp]\u001b[m Copying: /home/ale/anaconda3/lib/python3.6/site-packages/jupyter_contrib_nbextensions/nbextensions/snippets_menu/snippets_submenu_markdown.js -> /home/ale/.local/share/jupyter/nbextensions/snippets_menu/snippets_submenu_markdown.js\r\n",
      "\u001b[32m[I 12:36:22 InstallContribNbextensionsApp]\u001b[m Copying: /home/ale/anaconda3/lib/python3.6/site-packages/jupyter_contrib_nbextensions/nbextensions/snippets_menu/examples_for_custom.js -> /home/ale/.local/share/jupyter/nbextensions/snippets_menu/examples_for_custom.js\r\n",
      "\u001b[32m[I 12:36:22 InstallContribNbextensionsApp]\u001b[m Copying: /home/ale/anaconda3/lib/python3.6/site-packages/jupyter_contrib_nbextensions/nbextensions/snippets_menu/snippets_menu.css -> /home/ale/.local/share/jupyter/nbextensions/snippets_menu/snippets_menu.css\r\n",
      "\u001b[32m[I 12:36:22 InstallContribNbextensionsApp]\u001b[m Copying: /home/ale/anaconda3/lib/python3.6/site-packages/jupyter_contrib_nbextensions/nbextensions/snippets_menu/config.yaml -> /home/ale/.local/share/jupyter/nbextensions/snippets_menu/config.yaml\r\n",
      "\u001b[32m[I 12:36:22 InstallContribNbextensionsApp]\u001b[m Copying: /home/ale/anaconda3/lib/python3.6/site-packages/jupyter_contrib_nbextensions/nbextensions/snippets_menu/thumbnail.png -> /home/ale/.local/share/jupyter/nbextensions/snippets_menu/thumbnail.png\r\n",
      "\u001b[32m[I 12:36:22 InstallContribNbextensionsApp]\u001b[m Copying: /home/ale/anaconda3/lib/python3.6/site-packages/jupyter_contrib_nbextensions/nbextensions/snippets_menu/main.js -> /home/ale/.local/share/jupyter/nbextensions/snippets_menu/main.js\r\n",
      "\u001b[32m[I 12:36:22 InstallContribNbextensionsApp]\u001b[m Copying: /home/ale/anaconda3/lib/python3.6/site-packages/jupyter_contrib_nbextensions/nbextensions/snippets_menu/screenshot3.png -> /home/ale/.local/share/jupyter/nbextensions/snippets_menu/screenshot3.png\r\n",
      "\u001b[32m[I 12:36:22 InstallContribNbextensionsApp]\u001b[m Copying: /home/ale/anaconda3/lib/python3.6/site-packages/jupyter_contrib_nbextensions/nbextensions/snippets_menu/screenshot1.png -> /home/ale/.local/share/jupyter/nbextensions/snippets_menu/screenshot1.png\r\n",
      "\u001b[32m[I 12:36:22 InstallContribNbextensionsApp]\u001b[m Making directory: /home/ale/.local/share/jupyter/nbextensions/snippets_menu/snippets_submenus_python\r\n",
      "\u001b[32m[I 12:36:22 InstallContribNbextensionsApp]\u001b[m Copying: /home/ale/anaconda3/lib/python3.6/site-packages/jupyter_contrib_nbextensions/nbextensions/snippets_menu/snippets_submenus_python/scipy_special.js -> /home/ale/.local/share/jupyter/nbextensions/snippets_menu/snippets_submenus_python/scipy_special.js\r\n",
      "\u001b[32m[I 12:36:22 InstallContribNbextensionsApp]\u001b[m Copying: /home/ale/anaconda3/lib/python3.6/site-packages/jupyter_contrib_nbextensions/nbextensions/snippets_menu/snippets_submenus_python/sympy_assumptions.js -> /home/ale/.local/share/jupyter/nbextensions/snippets_menu/snippets_submenus_python/sympy_assumptions.js\r\n",
      "\u001b[32m[I 12:36:22 InstallContribNbextensionsApp]\u001b[m Copying: /home/ale/anaconda3/lib/python3.6/site-packages/jupyter_contrib_nbextensions/nbextensions/snippets_menu/snippets_submenus_python/astropy.js -> /home/ale/.local/share/jupyter/nbextensions/snippets_menu/snippets_submenus_python/astropy.js\r\n",
      "\u001b[32m[I 12:36:22 InstallContribNbextensionsApp]\u001b[m Copying: /home/ale/anaconda3/lib/python3.6/site-packages/jupyter_contrib_nbextensions/nbextensions/snippets_menu/snippets_submenus_python/numpy_ufuncs.js -> /home/ale/.local/share/jupyter/nbextensions/snippets_menu/snippets_submenus_python/numpy_ufuncs.js\r\n",
      "\u001b[32m[I 12:36:22 InstallContribNbextensionsApp]\u001b[m Copying: /home/ale/anaconda3/lib/python3.6/site-packages/jupyter_contrib_nbextensions/nbextensions/snippets_menu/snippets_submenus_python/scipy.js -> /home/ale/.local/share/jupyter/nbextensions/snippets_menu/snippets_submenus_python/scipy.js\r\n",
      "\u001b[32m[I 12:36:22 InstallContribNbextensionsApp]\u001b[m Copying: /home/ale/anaconda3/lib/python3.6/site-packages/jupyter_contrib_nbextensions/nbextensions/snippets_menu/snippets_submenus_python/scipy_constants.js -> /home/ale/.local/share/jupyter/nbextensions/snippets_menu/snippets_submenus_python/scipy_constants.js\r\n",
      "\u001b[32m[I 12:36:22 InstallContribNbextensionsApp]\u001b[m Copying: /home/ale/anaconda3/lib/python3.6/site-packages/jupyter_contrib_nbextensions/nbextensions/snippets_menu/snippets_submenus_python/numpy.js -> /home/ale/.local/share/jupyter/nbextensions/snippets_menu/snippets_submenus_python/numpy.js\r\n",
      "\u001b[32m[I 12:36:22 InstallContribNbextensionsApp]\u001b[m Copying: /home/ale/anaconda3/lib/python3.6/site-packages/jupyter_contrib_nbextensions/nbextensions/snippets_menu/snippets_submenus_python/sympy.js -> /home/ale/.local/share/jupyter/nbextensions/snippets_menu/snippets_submenus_python/sympy.js\r\n",
      "\u001b[32m[I 12:36:22 InstallContribNbextensionsApp]\u001b[m Copying: /home/ale/anaconda3/lib/python3.6/site-packages/jupyter_contrib_nbextensions/nbextensions/snippets_menu/snippets_submenus_python/sympy_functions.js -> /home/ale/.local/share/jupyter/nbextensions/snippets_menu/snippets_submenus_python/sympy_functions.js\r\n",
      "\u001b[32m[I 12:36:22 InstallContribNbextensionsApp]\u001b[m Copying: /home/ale/anaconda3/lib/python3.6/site-packages/jupyter_contrib_nbextensions/nbextensions/snippets_menu/snippets_submenus_python/pandas.js -> /home/ale/.local/share/jupyter/nbextensions/snippets_menu/snippets_submenus_python/pandas.js\r\n",
      "\u001b[32m[I 12:36:22 InstallContribNbextensionsApp]\u001b[m Copying: /home/ale/anaconda3/lib/python3.6/site-packages/jupyter_contrib_nbextensions/nbextensions/snippets_menu/snippets_submenus_python/matplotlib.js -> /home/ale/.local/share/jupyter/nbextensions/snippets_menu/snippets_submenus_python/matplotlib.js\r\n",
      "\u001b[32m[I 12:36:22 InstallContribNbextensionsApp]\u001b[m Copying: /home/ale/anaconda3/lib/python3.6/site-packages/jupyter_contrib_nbextensions/nbextensions/snippets_menu/snippets_submenus_python/numba.js -> /home/ale/.local/share/jupyter/nbextensions/snippets_menu/snippets_submenus_python/numba.js\r\n",
      "\u001b[32m[I 12:36:22 InstallContribNbextensionsApp]\u001b[m Copying: /home/ale/anaconda3/lib/python3.6/site-packages/jupyter_contrib_nbextensions/nbextensions/snippets_menu/snippets_submenus_python/numpy_polynomial.js -> /home/ale/.local/share/jupyter/nbextensions/snippets_menu/snippets_submenus_python/numpy_polynomial.js\r\n",
      "\u001b[32m[I 12:36:22 InstallContribNbextensionsApp]\u001b[m Copying: /home/ale/anaconda3/lib/python3.6/site-packages/jupyter_contrib_nbextensions/nbextensions/snippets_menu/snippets_submenus_python/python_regex.js -> /home/ale/.local/share/jupyter/nbextensions/snippets_menu/snippets_submenus_python/python_regex.js\r\n",
      "\u001b[32m[I 12:36:22 InstallContribNbextensionsApp]\u001b[m Copying: /home/ale/anaconda3/lib/python3.6/site-packages/jupyter_contrib_nbextensions/nbextensions/snippets_menu/snippets_submenus_python/h5py.js -> /home/ale/.local/share/jupyter/nbextensions/snippets_menu/snippets_submenus_python/h5py.js\r\n",
      "\u001b[32m[I 12:36:22 InstallContribNbextensionsApp]\u001b[m Copying: /home/ale/anaconda3/lib/python3.6/site-packages/jupyter_contrib_nbextensions/nbextensions/snippets_menu/snippets_submenus_python/python.js -> /home/ale/.local/share/jupyter/nbextensions/snippets_menu/snippets_submenus_python/python.js\r\n",
      "\u001b[32m[I 12:36:22 InstallContribNbextensionsApp]\u001b[m - Validating: \u001b[32mOK\u001b[0m\r\n",
      "\u001b[32m[I 12:36:22 InstallContribNbextensionsApp]\u001b[m Installing /home/ale/anaconda3/lib/python3.6/site-packages/jupyter_contrib_nbextensions/nbextensions/equation-numbering -> equation-numbering\r\n",
      "\u001b[32m[I 12:36:22 InstallContribNbextensionsApp]\u001b[m Making directory: /home/ale/.local/share/jupyter/nbextensions/equation-numbering/\r\n",
      "\u001b[32m[I 12:36:22 InstallContribNbextensionsApp]\u001b[m Copying: /home/ale/anaconda3/lib/python3.6/site-packages/jupyter_contrib_nbextensions/nbextensions/equation-numbering/readme.md -> /home/ale/.local/share/jupyter/nbextensions/equation-numbering/readme.md\r\n",
      "\u001b[32m[I 12:36:22 InstallContribNbextensionsApp]\u001b[m Copying: /home/ale/anaconda3/lib/python3.6/site-packages/jupyter_contrib_nbextensions/nbextensions/equation-numbering/info.yaml -> /home/ale/.local/share/jupyter/nbextensions/equation-numbering/info.yaml\r\n",
      "\u001b[32m[I 12:36:22 InstallContribNbextensionsApp]\u001b[m Copying: /home/ale/anaconda3/lib/python3.6/site-packages/jupyter_contrib_nbextensions/nbextensions/equation-numbering/button.png -> /home/ale/.local/share/jupyter/nbextensions/equation-numbering/button.png\r\n",
      "\u001b[32m[I 12:36:22 InstallContribNbextensionsApp]\u001b[m Copying: /home/ale/anaconda3/lib/python3.6/site-packages/jupyter_contrib_nbextensions/nbextensions/equation-numbering/icon.png -> /home/ale/.local/share/jupyter/nbextensions/equation-numbering/icon.png\r\n",
      "\u001b[32m[I 12:36:22 InstallContribNbextensionsApp]\u001b[m Copying: /home/ale/anaconda3/lib/python3.6/site-packages/jupyter_contrib_nbextensions/nbextensions/equation-numbering/main.js -> /home/ale/.local/share/jupyter/nbextensions/equation-numbering/main.js\r\n",
      "\u001b[32m[I 12:36:22 InstallContribNbextensionsApp]\u001b[m - Validating: \u001b[32mOK\u001b[0m\r\n",
      "\u001b[32m[I 12:36:22 InstallContribNbextensionsApp]\u001b[m Installing /home/ale/anaconda3/lib/python3.6/site-packages/jupyter_contrib_nbextensions/nbextensions/comment-uncomment -> comment-uncomment\r\n",
      "\u001b[32m[I 12:36:22 InstallContribNbextensionsApp]\u001b[m Making directory: /home/ale/.local/share/jupyter/nbextensions/comment-uncomment/\r\n",
      "\u001b[32m[I 12:36:22 InstallContribNbextensionsApp]\u001b[m Copying: /home/ale/anaconda3/lib/python3.6/site-packages/jupyter_contrib_nbextensions/nbextensions/comment-uncomment/readme.md -> /home/ale/.local/share/jupyter/nbextensions/comment-uncomment/readme.md\r\n",
      "\u001b[32m[I 12:36:22 InstallContribNbextensionsApp]\u001b[m Copying: /home/ale/anaconda3/lib/python3.6/site-packages/jupyter_contrib_nbextensions/nbextensions/comment-uncomment/comment-uncomment.yaml -> /home/ale/.local/share/jupyter/nbextensions/comment-uncomment/comment-uncomment.yaml\r\n",
      "\u001b[32m[I 12:36:22 InstallContribNbextensionsApp]\u001b[m Copying: /home/ale/anaconda3/lib/python3.6/site-packages/jupyter_contrib_nbextensions/nbextensions/comment-uncomment/icon.png -> /home/ale/.local/share/jupyter/nbextensions/comment-uncomment/icon.png\r\n",
      "\u001b[32m[I 12:36:22 InstallContribNbextensionsApp]\u001b[m Copying: /home/ale/anaconda3/lib/python3.6/site-packages/jupyter_contrib_nbextensions/nbextensions/comment-uncomment/main.js -> /home/ale/.local/share/jupyter/nbextensions/comment-uncomment/main.js\r\n",
      "\u001b[32m[I 12:36:22 InstallContribNbextensionsApp]\u001b[m - Validating: \u001b[32mOK\u001b[0m\r\n",
      "\u001b[32m[I 12:36:22 InstallContribNbextensionsApp]\u001b[m Installing /home/ale/anaconda3/lib/python3.6/site-packages/jupyter_contrib_nbextensions/nbextensions/limit_output -> limit_output\r\n",
      "\u001b[32m[I 12:36:22 InstallContribNbextensionsApp]\u001b[m Making directory: /home/ale/.local/share/jupyter/nbextensions/limit_output/\r\n",
      "\u001b[32m[I 12:36:22 InstallContribNbextensionsApp]\u001b[m Copying: /home/ale/anaconda3/lib/python3.6/site-packages/jupyter_contrib_nbextensions/nbextensions/limit_output/limit-output.yaml -> /home/ale/.local/share/jupyter/nbextensions/limit_output/limit-output.yaml\r\n",
      "\u001b[32m[I 12:36:22 InstallContribNbextensionsApp]\u001b[m Copying: /home/ale/anaconda3/lib/python3.6/site-packages/jupyter_contrib_nbextensions/nbextensions/limit_output/readme.md -> /home/ale/.local/share/jupyter/nbextensions/limit_output/readme.md\r\n",
      "\u001b[32m[I 12:36:22 InstallContribNbextensionsApp]\u001b[m Copying: /home/ale/anaconda3/lib/python3.6/site-packages/jupyter_contrib_nbextensions/nbextensions/limit_output/icon.png -> /home/ale/.local/share/jupyter/nbextensions/limit_output/icon.png\r\n",
      "\u001b[32m[I 12:36:22 InstallContribNbextensionsApp]\u001b[m Copying: /home/ale/anaconda3/lib/python3.6/site-packages/jupyter_contrib_nbextensions/nbextensions/limit_output/main.js -> /home/ale/.local/share/jupyter/nbextensions/limit_output/main.js\r\n",
      "\u001b[32m[I 12:36:22 InstallContribNbextensionsApp]\u001b[m - Validating: \u001b[32mOK\u001b[0m\r\n",
      "\u001b[32m[I 12:36:22 InstallContribNbextensionsApp]\u001b[m Installing /home/ale/anaconda3/lib/python3.6/site-packages/jupyter_contrib_nbextensions/nbextensions/addbefore -> addbefore\r\n",
      "\u001b[32m[I 12:36:22 InstallContribNbextensionsApp]\u001b[m Making directory: /home/ale/.local/share/jupyter/nbextensions/addbefore/\r\n",
      "\u001b[32m[I 12:36:22 InstallContribNbextensionsApp]\u001b[m Copying: /home/ale/anaconda3/lib/python3.6/site-packages/jupyter_contrib_nbextensions/nbextensions/addbefore/readme.md -> /home/ale/.local/share/jupyter/nbextensions/addbefore/readme.md\r\n",
      "\u001b[32m[I 12:36:22 InstallContribNbextensionsApp]\u001b[m Copying: /home/ale/anaconda3/lib/python3.6/site-packages/jupyter_contrib_nbextensions/nbextensions/addbefore/icon.png -> /home/ale/.local/share/jupyter/nbextensions/addbefore/icon.png\r\n",
      "\u001b[32m[I 12:36:22 InstallContribNbextensionsApp]\u001b[m Copying: /home/ale/anaconda3/lib/python3.6/site-packages/jupyter_contrib_nbextensions/nbextensions/addbefore/main.js -> /home/ale/.local/share/jupyter/nbextensions/addbefore/main.js\r\n",
      "\u001b[32m[I 12:36:22 InstallContribNbextensionsApp]\u001b[m Copying: /home/ale/anaconda3/lib/python3.6/site-packages/jupyter_contrib_nbextensions/nbextensions/addbefore/addbefore.yaml -> /home/ale/.local/share/jupyter/nbextensions/addbefore/addbefore.yaml\r\n",
      "\u001b[32m[I 12:36:22 InstallContribNbextensionsApp]\u001b[m - Validating: \u001b[32mOK\u001b[0m\r\n",
      "\u001b[32m[I 12:36:22 InstallContribNbextensionsApp]\u001b[m Installing /home/ale/anaconda3/lib/python3.6/site-packages/jupyter_contrib_nbextensions/nbextensions/python-markdown -> python-markdown\r\n",
      "\u001b[32m[I 12:36:22 InstallContribNbextensionsApp]\u001b[m Making directory: /home/ale/.local/share/jupyter/nbextensions/python-markdown/\r\n",
      "\u001b[32m[I 12:36:22 InstallContribNbextensionsApp]\u001b[m Copying: /home/ale/anaconda3/lib/python3.6/site-packages/jupyter_contrib_nbextensions/nbextensions/python-markdown/trusted.png -> /home/ale/.local/share/jupyter/nbextensions/python-markdown/trusted.png\r\n",
      "\u001b[32m[I 12:36:22 InstallContribNbextensionsApp]\u001b[m Copying: /home/ale/anaconda3/lib/python3.6/site-packages/jupyter_contrib_nbextensions/nbextensions/python-markdown/readme.md -> /home/ale/.local/share/jupyter/nbextensions/python-markdown/readme.md\r\n",
      "\u001b[32m[I 12:36:22 InstallContribNbextensionsApp]\u001b[m Copying: /home/ale/anaconda3/lib/python3.6/site-packages/jupyter_contrib_nbextensions/nbextensions/python-markdown/python-markdown.yaml -> /home/ale/.local/share/jupyter/nbextensions/python-markdown/python-markdown.yaml\r\n",
      "\u001b[32m[I 12:36:22 InstallContribNbextensionsApp]\u001b[m Copying: /home/ale/anaconda3/lib/python3.6/site-packages/jupyter_contrib_nbextensions/nbextensions/python-markdown/python-markdown.png -> /home/ale/.local/share/jupyter/nbextensions/python-markdown/python-markdown.png\r\n",
      "\u001b[32m[I 12:36:22 InstallContribNbextensionsApp]\u001b[m Copying: /home/ale/anaconda3/lib/python3.6/site-packages/jupyter_contrib_nbextensions/nbextensions/python-markdown/python-markdown-pre.png -> /home/ale/.local/share/jupyter/nbextensions/python-markdown/python-markdown-pre.png\r\n",
      "\u001b[32m[I 12:36:22 InstallContribNbextensionsApp]\u001b[m Copying: /home/ale/anaconda3/lib/python3.6/site-packages/jupyter_contrib_nbextensions/nbextensions/python-markdown/python-markdown-post.png -> /home/ale/.local/share/jupyter/nbextensions/python-markdown/python-markdown-post.png\r\n",
      "\u001b[32m[I 12:36:22 InstallContribNbextensionsApp]\u001b[m Copying: /home/ale/anaconda3/lib/python3.6/site-packages/jupyter_contrib_nbextensions/nbextensions/python-markdown/main.js -> /home/ale/.local/share/jupyter/nbextensions/python-markdown/main.js\r\n",
      "\u001b[32m[I 12:36:22 InstallContribNbextensionsApp]\u001b[m Copying: /home/ale/anaconda3/lib/python3.6/site-packages/jupyter_contrib_nbextensions/nbextensions/python-markdown/main.css -> /home/ale/.local/share/jupyter/nbextensions/python-markdown/main.css\r\n",
      "\u001b[32m[I 12:36:22 InstallContribNbextensionsApp]\u001b[m Copying: /home/ale/anaconda3/lib/python3.6/site-packages/jupyter_contrib_nbextensions/nbextensions/python-markdown/untrusted.png -> /home/ale/.local/share/jupyter/nbextensions/python-markdown/untrusted.png\r\n",
      "\u001b[32m[I 12:36:22 InstallContribNbextensionsApp]\u001b[m - Validating: \u001b[32mOK\u001b[0m\r\n",
      "\u001b[32m[I 12:36:22 InstallContribNbextensionsApp]\u001b[m Installing /home/ale/anaconda3/lib/python3.6/site-packages/jupyter_contrib_nbextensions/nbextensions/help_panel -> help_panel\r\n",
      "\u001b[32m[I 12:36:22 InstallContribNbextensionsApp]\u001b[m Making directory: /home/ale/.local/share/jupyter/nbextensions/help_panel/\r\n",
      "\u001b[32m[I 12:36:22 InstallContribNbextensionsApp]\u001b[m Copying: /home/ale/anaconda3/lib/python3.6/site-packages/jupyter_contrib_nbextensions/nbextensions/help_panel/help_panel.yaml -> /home/ale/.local/share/jupyter/nbextensions/help_panel/help_panel.yaml\r\n",
      "\u001b[32m[I 12:36:22 InstallContribNbextensionsApp]\u001b[m Copying: /home/ale/anaconda3/lib/python3.6/site-packages/jupyter_contrib_nbextensions/nbextensions/help_panel/readme.md -> /home/ale/.local/share/jupyter/nbextensions/help_panel/readme.md\r\n",
      "\u001b[32m[I 12:36:22 InstallContribNbextensionsApp]\u001b[m Copying: /home/ale/anaconda3/lib/python3.6/site-packages/jupyter_contrib_nbextensions/nbextensions/help_panel/help_panel_ext_fullscreen.png -> /home/ale/.local/share/jupyter/nbextensions/help_panel/help_panel_ext_fullscreen.png\r\n",
      "\u001b[32m[I 12:36:22 InstallContribNbextensionsApp]\u001b[m Copying: /home/ale/anaconda3/lib/python3.6/site-packages/jupyter_contrib_nbextensions/nbextensions/help_panel/help_panel.js -> /home/ale/.local/share/jupyter/nbextensions/help_panel/help_panel.js\r\n",
      "\u001b[32m[I 12:36:22 InstallContribNbextensionsApp]\u001b[m Copying: /home/ale/anaconda3/lib/python3.6/site-packages/jupyter_contrib_nbextensions/nbextensions/help_panel/icon.png -> /home/ale/.local/share/jupyter/nbextensions/help_panel/icon.png\r\n",
      "\u001b[32m[I 12:36:22 InstallContribNbextensionsApp]\u001b[m Copying: /home/ale/anaconda3/lib/python3.6/site-packages/jupyter_contrib_nbextensions/nbextensions/help_panel/help_panel_ext.png -> /home/ale/.local/share/jupyter/nbextensions/help_panel/help_panel_ext.png\r\n",
      "\u001b[32m[I 12:36:22 InstallContribNbextensionsApp]\u001b[m Copying: /home/ale/anaconda3/lib/python3.6/site-packages/jupyter_contrib_nbextensions/nbextensions/help_panel/help_panel.css -> /home/ale/.local/share/jupyter/nbextensions/help_panel/help_panel.css\r\n",
      "\u001b[32m[I 12:36:22 InstallContribNbextensionsApp]\u001b[m Making directory: /home/ale/.local/share/jupyter/nbextensions/help_panel/img\r\n",
      "\u001b[32m[I 12:36:22 InstallContribNbextensionsApp]\u001b[m Copying: /home/ale/anaconda3/lib/python3.6/site-packages/jupyter_contrib_nbextensions/nbextensions/help_panel/img/handle-v.png -> /home/ale/.local/share/jupyter/nbextensions/help_panel/img/handle-v.png\r\n",
      "\u001b[32m[I 12:36:22 InstallContribNbextensionsApp]\u001b[m - Validating: \u001b[32mOK\u001b[0m\r\n",
      "\u001b[32m[I 12:36:22 InstallContribNbextensionsApp]\u001b[m Installing /home/ale/anaconda3/lib/python3.6/site-packages/jupyter_contrib_nbextensions/nbextensions/codemirror_mode_extensions -> codemirror_mode_extensions\r\n",
      "\u001b[32m[I 12:36:22 InstallContribNbextensionsApp]\u001b[m Making directory: /home/ale/.local/share/jupyter/nbextensions/codemirror_mode_extensions/\r\n",
      "\u001b[32m[I 12:36:22 InstallContribNbextensionsApp]\u001b[m Copying: /home/ale/anaconda3/lib/python3.6/site-packages/jupyter_contrib_nbextensions/nbextensions/codemirror_mode_extensions/codemirror_mode_extensions.yaml -> /home/ale/.local/share/jupyter/nbextensions/codemirror_mode_extensions/codemirror_mode_extensions.yaml\r\n",
      "\u001b[32m[I 12:36:22 InstallContribNbextensionsApp]\u001b[m Copying: /home/ale/anaconda3/lib/python3.6/site-packages/jupyter_contrib_nbextensions/nbextensions/codemirror_mode_extensions/main.js -> /home/ale/.local/share/jupyter/nbextensions/codemirror_mode_extensions/main.js\r\n",
      "\u001b[32m[I 12:36:22 InstallContribNbextensionsApp]\u001b[m - Validating: \u001b[32mOK\u001b[0m\r\n",
      "\u001b[32m[I 12:36:22 InstallContribNbextensionsApp]\u001b[m Installing /home/ale/anaconda3/lib/python3.6/site-packages/jupyter_contrib_nbextensions/nbextensions/notify -> notify\r\n",
      "\u001b[32m[I 12:36:22 InstallContribNbextensionsApp]\u001b[m Making directory: /home/ale/.local/share/jupyter/nbextensions/notify/\r\n",
      "\u001b[32m[I 12:36:22 InstallContribNbextensionsApp]\u001b[m Copying: /home/ale/anaconda3/lib/python3.6/site-packages/jupyter_contrib_nbextensions/nbextensions/notify/readme.md -> /home/ale/.local/share/jupyter/nbextensions/notify/readme.md\r\n",
      "\u001b[32m[I 12:36:22 InstallContribNbextensionsApp]\u001b[m Copying: /home/ale/anaconda3/lib/python3.6/site-packages/jupyter_contrib_nbextensions/nbextensions/notify/notify.js -> /home/ale/.local/share/jupyter/nbextensions/notify/notify.js\r\n",
      "\u001b[32m[I 12:36:22 InstallContribNbextensionsApp]\u001b[m Copying: /home/ale/anaconda3/lib/python3.6/site-packages/jupyter_contrib_nbextensions/nbextensions/notify/notification.png -> /home/ale/.local/share/jupyter/nbextensions/notify/notification.png\r\n",
      "\u001b[32m[I 12:36:22 InstallContribNbextensionsApp]\u001b[m Copying: /home/ale/anaconda3/lib/python3.6/site-packages/jupyter_contrib_nbextensions/nbextensions/notify/notify.yaml -> /home/ale/.local/share/jupyter/nbextensions/notify/notify.yaml\r\n",
      "\u001b[32m[I 12:36:22 InstallContribNbextensionsApp]\u001b[m - Validating: \u001b[32mOK\u001b[0m\r\n",
      "\u001b[32m[I 12:36:22 InstallContribNbextensionsApp]\u001b[m Installing /home/ale/anaconda3/lib/python3.6/site-packages/jupyter_contrib_nbextensions/nbextensions/init_cell -> init_cell\r\n",
      "\u001b[32m[I 12:36:22 InstallContribNbextensionsApp]\u001b[m Making directory: /home/ale/.local/share/jupyter/nbextensions/init_cell/\r\n",
      "\u001b[32m[I 12:36:22 InstallContribNbextensionsApp]\u001b[m Copying: /home/ale/anaconda3/lib/python3.6/site-packages/jupyter_contrib_nbextensions/nbextensions/init_cell/README.md -> /home/ale/.local/share/jupyter/nbextensions/init_cell/README.md\r\n",
      "\u001b[32m[I 12:36:22 InstallContribNbextensionsApp]\u001b[m Copying: /home/ale/anaconda3/lib/python3.6/site-packages/jupyter_contrib_nbextensions/nbextensions/init_cell/init_cell.yaml -> /home/ale/.local/share/jupyter/nbextensions/init_cell/init_cell.yaml\r\n",
      "\u001b[32m[I 12:36:22 InstallContribNbextensionsApp]\u001b[m Copying: /home/ale/anaconda3/lib/python3.6/site-packages/jupyter_contrib_nbextensions/nbextensions/init_cell/icon.png -> /home/ale/.local/share/jupyter/nbextensions/init_cell/icon.png\r\n",
      "\u001b[32m[I 12:36:22 InstallContribNbextensionsApp]\u001b[m Copying: /home/ale/anaconda3/lib/python3.6/site-packages/jupyter_contrib_nbextensions/nbextensions/init_cell/main.js -> /home/ale/.local/share/jupyter/nbextensions/init_cell/main.js\r\n",
      "\u001b[32m[I 12:36:22 InstallContribNbextensionsApp]\u001b[m - Validating: \u001b[32mOK\u001b[0m\r\n",
      "\u001b[32m[I 12:36:22 InstallContribNbextensionsApp]\u001b[m Installing /home/ale/anaconda3/lib/python3.6/site-packages/jupyter_contrib_nbextensions/nbextensions/select_keymap -> select_keymap\r\n",
      "\u001b[32m[I 12:36:22 InstallContribNbextensionsApp]\u001b[m Making directory: /home/ale/.local/share/jupyter/nbextensions/select_keymap/\r\n",
      "\u001b[32m[I 12:36:22 InstallContribNbextensionsApp]\u001b[m Copying: /home/ale/anaconda3/lib/python3.6/site-packages/jupyter_contrib_nbextensions/nbextensions/select_keymap/README.md -> /home/ale/.local/share/jupyter/nbextensions/select_keymap/README.md\r\n",
      "\u001b[32m[I 12:36:22 InstallContribNbextensionsApp]\u001b[m Copying: /home/ale/anaconda3/lib/python3.6/site-packages/jupyter_contrib_nbextensions/nbextensions/select_keymap/main.js -> /home/ale/.local/share/jupyter/nbextensions/select_keymap/main.js\r\n",
      "\u001b[32m[I 12:36:22 InstallContribNbextensionsApp]\u001b[m Copying: /home/ale/anaconda3/lib/python3.6/site-packages/jupyter_contrib_nbextensions/nbextensions/select_keymap/select_keymap.yaml -> /home/ale/.local/share/jupyter/nbextensions/select_keymap/select_keymap.yaml\r\n",
      "\u001b[32m[I 12:36:22 InstallContribNbextensionsApp]\u001b[m Copying: /home/ale/anaconda3/lib/python3.6/site-packages/jupyter_contrib_nbextensions/nbextensions/select_keymap/select_keymap.png -> /home/ale/.local/share/jupyter/nbextensions/select_keymap/select_keymap.png\r\n",
      "\u001b[32m[I 12:36:22 InstallContribNbextensionsApp]\u001b[m - Validating: \u001b[32mOK\u001b[0m\r\n",
      "\u001b[32m[I 12:36:22 InstallContribNbextensionsApp]\u001b[m Installing /home/ale/anaconda3/lib/python3.6/site-packages/jupyter_contrib_nbextensions/nbextensions/chrome-clipboard -> chrome-clipboard\r\n",
      "\u001b[32m[I 12:36:22 InstallContribNbextensionsApp]\u001b[m Making directory: /home/ale/.local/share/jupyter/nbextensions/chrome-clipboard/\r\n",
      "\u001b[32m[I 12:36:22 InstallContribNbextensionsApp]\u001b[m Copying: /home/ale/anaconda3/lib/python3.6/site-packages/jupyter_contrib_nbextensions/nbextensions/chrome-clipboard/readme.md -> /home/ale/.local/share/jupyter/nbextensions/chrome-clipboard/readme.md\r\n",
      "\u001b[32m[I 12:36:22 InstallContribNbextensionsApp]\u001b[m Copying: /home/ale/anaconda3/lib/python3.6/site-packages/jupyter_contrib_nbextensions/nbextensions/chrome-clipboard/chrome-clipboard.yaml -> /home/ale/.local/share/jupyter/nbextensions/chrome-clipboard/chrome-clipboard.yaml\r\n",
      "\u001b[32m[I 12:36:22 InstallContribNbextensionsApp]\u001b[m Copying: /home/ale/anaconda3/lib/python3.6/site-packages/jupyter_contrib_nbextensions/nbextensions/chrome-clipboard/chrome.png -> /home/ale/.local/share/jupyter/nbextensions/chrome-clipboard/chrome.png\r\n",
      "\u001b[32m[I 12:36:22 InstallContribNbextensionsApp]\u001b[m Copying: /home/ale/anaconda3/lib/python3.6/site-packages/jupyter_contrib_nbextensions/nbextensions/chrome-clipboard/main.js -> /home/ale/.local/share/jupyter/nbextensions/chrome-clipboard/main.js\r\n",
      "\u001b[32m[I 12:36:22 InstallContribNbextensionsApp]\u001b[m - Validating: \u001b[32mOK\u001b[0m\r\n",
      "\u001b[32m[I 12:36:22 InstallContribNbextensionsApp]\u001b[m Installing /home/ale/anaconda3/lib/python3.6/site-packages/jupyter_contrib_nbextensions/nbextensions/execute_time -> execute_time\r\n",
      "\u001b[32m[I 12:36:22 InstallContribNbextensionsApp]\u001b[m Making directory: /home/ale/.local/share/jupyter/nbextensions/execute_time/\r\n",
      "\u001b[32m[I 12:36:22 InstallContribNbextensionsApp]\u001b[m Copying: /home/ale/anaconda3/lib/python3.6/site-packages/jupyter_contrib_nbextensions/nbextensions/execute_time/execution-timings-menu.png -> /home/ale/.local/share/jupyter/nbextensions/execute_time/execution-timings-menu.png\r\n",
      "\u001b[32m[I 12:36:22 InstallContribNbextensionsApp]\u001b[m Copying: /home/ale/anaconda3/lib/python3.6/site-packages/jupyter_contrib_nbextensions/nbextensions/execute_time/readme.md -> /home/ale/.local/share/jupyter/nbextensions/execute_time/readme.md\r\n",
      "\u001b[32m[I 12:36:22 InstallContribNbextensionsApp]\u001b[m Copying: /home/ale/anaconda3/lib/python3.6/site-packages/jupyter_contrib_nbextensions/nbextensions/execute_time/ExecuteTime.js -> /home/ale/.local/share/jupyter/nbextensions/execute_time/ExecuteTime.js\r\n",
      "\u001b[32m[I 12:36:22 InstallContribNbextensionsApp]\u001b[m Copying: /home/ale/anaconda3/lib/python3.6/site-packages/jupyter_contrib_nbextensions/nbextensions/execute_time/ExecuteTime.yaml -> /home/ale/.local/share/jupyter/nbextensions/execute_time/ExecuteTime.yaml\r\n",
      "\u001b[32m[I 12:36:22 InstallContribNbextensionsApp]\u001b[m Copying: /home/ale/anaconda3/lib/python3.6/site-packages/jupyter_contrib_nbextensions/nbextensions/execute_time/ExecuteTime.css -> /home/ale/.local/share/jupyter/nbextensions/execute_time/ExecuteTime.css\r\n",
      "\u001b[32m[I 12:36:22 InstallContribNbextensionsApp]\u001b[m Copying: /home/ale/anaconda3/lib/python3.6/site-packages/jupyter_contrib_nbextensions/nbextensions/execute_time/execution-timings-box.png -> /home/ale/.local/share/jupyter/nbextensions/execute_time/execution-timings-box.png\r\n",
      "\u001b[32m[I 12:36:22 InstallContribNbextensionsApp]\u001b[m Copying: /home/ale/anaconda3/lib/python3.6/site-packages/jupyter_contrib_nbextensions/nbextensions/execute_time/icon.png -> /home/ale/.local/share/jupyter/nbextensions/execute_time/icon.png\r\n",
      "\u001b[32m[I 12:36:22 InstallContribNbextensionsApp]\u001b[m - Validating: \u001b[32mOK\u001b[0m\r\n",
      "\u001b[32m[I 12:36:22 InstallContribNbextensionsApp]\u001b[m Installing /home/ale/anaconda3/lib/python3.6/site-packages/jupyter_contrib_nbextensions/nbextensions/code_prettify -> code_prettify\r\n",
      "\u001b[32m[I 12:36:22 InstallContribNbextensionsApp]\u001b[m Making directory: /home/ale/.local/share/jupyter/nbextensions/code_prettify/\r\n",
      "\u001b[32m[I 12:36:22 InstallContribNbextensionsApp]\u001b[m Copying: /home/ale/anaconda3/lib/python3.6/site-packages/jupyter_contrib_nbextensions/nbextensions/code_prettify/autopep8.js -> /home/ale/.local/share/jupyter/nbextensions/code_prettify/autopep8.js\r\n",
      "\u001b[32m[I 12:36:22 InstallContribNbextensionsApp]\u001b[m Copying: /home/ale/anaconda3/lib/python3.6/site-packages/jupyter_contrib_nbextensions/nbextensions/code_prettify/README.md -> /home/ale/.local/share/jupyter/nbextensions/code_prettify/README.md\r\n",
      "\u001b[32m[I 12:36:22 InstallContribNbextensionsApp]\u001b[m Copying: /home/ale/anaconda3/lib/python3.6/site-packages/jupyter_contrib_nbextensions/nbextensions/code_prettify/2to3.js -> /home/ale/.local/share/jupyter/nbextensions/code_prettify/2to3.js\r\n",
      "\u001b[32m[I 12:36:22 InstallContribNbextensionsApp]\u001b[m Copying: /home/ale/anaconda3/lib/python3.6/site-packages/jupyter_contrib_nbextensions/nbextensions/code_prettify/demo-jv.gif -> /home/ale/.local/share/jupyter/nbextensions/code_prettify/demo-jv.gif\r\n",
      "\u001b[32m[I 12:36:22 InstallContribNbextensionsApp]\u001b[m Copying: /home/ale/anaconda3/lib/python3.6/site-packages/jupyter_contrib_nbextensions/nbextensions/code_prettify/code_prettify.yaml -> /home/ale/.local/share/jupyter/nbextensions/code_prettify/code_prettify.yaml\r\n",
      "\u001b[32m[I 12:36:22 InstallContribNbextensionsApp]\u001b[m Copying: /home/ale/anaconda3/lib/python3.6/site-packages/jupyter_contrib_nbextensions/nbextensions/code_prettify/README_code_prettify.md -> /home/ale/.local/share/jupyter/nbextensions/code_prettify/README_code_prettify.md\r\n",
      "\u001b[32m[I 12:36:22 InstallContribNbextensionsApp]\u001b[m Copying: /home/ale/anaconda3/lib/python3.6/site-packages/jupyter_contrib_nbextensions/nbextensions/code_prettify/2to3.yaml -> /home/ale/.local/share/jupyter/nbextensions/code_prettify/2to3.yaml\r\n",
      "\u001b[32m[I 12:36:22 InstallContribNbextensionsApp]\u001b[m Copying: /home/ale/anaconda3/lib/python3.6/site-packages/jupyter_contrib_nbextensions/nbextensions/code_prettify/README_2to3.md -> /home/ale/.local/share/jupyter/nbextensions/code_prettify/README_2to3.md\r\n",
      "\u001b[32m[I 12:36:22 InstallContribNbextensionsApp]\u001b[m Copying: /home/ale/anaconda3/lib/python3.6/site-packages/jupyter_contrib_nbextensions/nbextensions/code_prettify/README_autopep8.md -> /home/ale/.local/share/jupyter/nbextensions/code_prettify/README_autopep8.md\r\n",
      "\u001b[32m[I 12:36:22 InstallContribNbextensionsApp]\u001b[m Copying: /home/ale/anaconda3/lib/python3.6/site-packages/jupyter_contrib_nbextensions/nbextensions/code_prettify/autopep8.yaml -> /home/ale/.local/share/jupyter/nbextensions/code_prettify/autopep8.yaml\r\n",
      "\u001b[32m[I 12:36:22 InstallContribNbextensionsApp]\u001b[m Copying: /home/ale/anaconda3/lib/python3.6/site-packages/jupyter_contrib_nbextensions/nbextensions/code_prettify/kernel_exec_on_cell.js -> /home/ale/.local/share/jupyter/nbextensions/code_prettify/kernel_exec_on_cell.js\r\n",
      "\u001b[32m[I 12:36:22 InstallContribNbextensionsApp]\u001b[m Copying: /home/ale/anaconda3/lib/python3.6/site-packages/jupyter_contrib_nbextensions/nbextensions/code_prettify/demo-py.gif -> /home/ale/.local/share/jupyter/nbextensions/code_prettify/demo-py.gif\r\n",
      "\u001b[32m[I 12:36:22 InstallContribNbextensionsApp]\u001b[m Copying: /home/ale/anaconda3/lib/python3.6/site-packages/jupyter_contrib_nbextensions/nbextensions/code_prettify/demo_2to3.gif -> /home/ale/.local/share/jupyter/nbextensions/code_prettify/demo_2to3.gif\r\n",
      "\u001b[32m[I 12:36:22 InstallContribNbextensionsApp]\u001b[m Copying: /home/ale/anaconda3/lib/python3.6/site-packages/jupyter_contrib_nbextensions/nbextensions/code_prettify/demo-R.gif -> /home/ale/.local/share/jupyter/nbextensions/code_prettify/demo-R.gif\r\n",
      "\u001b[32m[I 12:36:22 InstallContribNbextensionsApp]\u001b[m Copying: /home/ale/anaconda3/lib/python3.6/site-packages/jupyter_contrib_nbextensions/nbextensions/code_prettify/code_prettify.js -> /home/ale/.local/share/jupyter/nbextensions/code_prettify/code_prettify.js\r\n",
      "\u001b[32m[I 12:36:22 InstallContribNbextensionsApp]\u001b[m - Validating: \u001b[32mOK\u001b[0m\r\n",
      "\u001b[32m[I 12:36:22 InstallContribNbextensionsApp]\u001b[m Installing /home/ale/anaconda3/lib/python3.6/site-packages/jupyter_contrib_nbextensions/nbextensions/code_prettify -> code_prettify\r\n",
      "\u001b[32m[I 12:36:22 InstallContribNbextensionsApp]\u001b[m Up to date: /home/ale/.local/share/jupyter/nbextensions/code_prettify/autopep8.js\r\n",
      "\u001b[32m[I 12:36:22 InstallContribNbextensionsApp]\u001b[m Up to date: /home/ale/.local/share/jupyter/nbextensions/code_prettify/README.md\r\n",
      "\u001b[32m[I 12:36:22 InstallContribNbextensionsApp]\u001b[m Up to date: /home/ale/.local/share/jupyter/nbextensions/code_prettify/2to3.js\r\n",
      "\u001b[32m[I 12:36:22 InstallContribNbextensionsApp]\u001b[m Up to date: /home/ale/.local/share/jupyter/nbextensions/code_prettify/demo-jv.gif\r\n",
      "\u001b[32m[I 12:36:22 InstallContribNbextensionsApp]\u001b[m Up to date: /home/ale/.local/share/jupyter/nbextensions/code_prettify/code_prettify.yaml\r\n",
      "\u001b[32m[I 12:36:22 InstallContribNbextensionsApp]\u001b[m Up to date: /home/ale/.local/share/jupyter/nbextensions/code_prettify/README_code_prettify.md\r\n",
      "\u001b[32m[I 12:36:22 InstallContribNbextensionsApp]\u001b[m Up to date: /home/ale/.local/share/jupyter/nbextensions/code_prettify/2to3.yaml\r\n",
      "\u001b[32m[I 12:36:22 InstallContribNbextensionsApp]\u001b[m Up to date: /home/ale/.local/share/jupyter/nbextensions/code_prettify/README_2to3.md\r\n",
      "\u001b[32m[I 12:36:22 InstallContribNbextensionsApp]\u001b[m Up to date: /home/ale/.local/share/jupyter/nbextensions/code_prettify/README_autopep8.md\r\n",
      "\u001b[32m[I 12:36:22 InstallContribNbextensionsApp]\u001b[m Up to date: /home/ale/.local/share/jupyter/nbextensions/code_prettify/autopep8.yaml\r\n",
      "\u001b[32m[I 12:36:22 InstallContribNbextensionsApp]\u001b[m Up to date: /home/ale/.local/share/jupyter/nbextensions/code_prettify/kernel_exec_on_cell.js\r\n",
      "\u001b[32m[I 12:36:22 InstallContribNbextensionsApp]\u001b[m Up to date: /home/ale/.local/share/jupyter/nbextensions/code_prettify/demo-py.gif\r\n",
      "\u001b[32m[I 12:36:22 InstallContribNbextensionsApp]\u001b[m Up to date: /home/ale/.local/share/jupyter/nbextensions/code_prettify/demo_2to3.gif\r\n",
      "\u001b[32m[I 12:36:22 InstallContribNbextensionsApp]\u001b[m Up to date: /home/ale/.local/share/jupyter/nbextensions/code_prettify/demo-R.gif\r\n",
      "\u001b[32m[I 12:36:22 InstallContribNbextensionsApp]\u001b[m Up to date: /home/ale/.local/share/jupyter/nbextensions/code_prettify/code_prettify.js\r\n",
      "\u001b[32m[I 12:36:22 InstallContribNbextensionsApp]\u001b[m - Validating: \u001b[32mOK\u001b[0m\r\n",
      "\u001b[32m[I 12:36:22 InstallContribNbextensionsApp]\u001b[m Installing /home/ale/anaconda3/lib/python3.6/site-packages/jupyter_contrib_nbextensions/nbextensions/code_prettify -> code_prettify\r\n",
      "\u001b[32m[I 12:36:22 InstallContribNbextensionsApp]\u001b[m Up to date: /home/ale/.local/share/jupyter/nbextensions/code_prettify/autopep8.js\r\n",
      "\u001b[32m[I 12:36:22 InstallContribNbextensionsApp]\u001b[m Up to date: /home/ale/.local/share/jupyter/nbextensions/code_prettify/README.md\r\n",
      "\u001b[32m[I 12:36:22 InstallContribNbextensionsApp]\u001b[m Up to date: /home/ale/.local/share/jupyter/nbextensions/code_prettify/2to3.js\r\n",
      "\u001b[32m[I 12:36:22 InstallContribNbextensionsApp]\u001b[m Up to date: /home/ale/.local/share/jupyter/nbextensions/code_prettify/demo-jv.gif\r\n",
      "\u001b[32m[I 12:36:22 InstallContribNbextensionsApp]\u001b[m Up to date: /home/ale/.local/share/jupyter/nbextensions/code_prettify/code_prettify.yaml\r\n",
      "\u001b[32m[I 12:36:22 InstallContribNbextensionsApp]\u001b[m Up to date: /home/ale/.local/share/jupyter/nbextensions/code_prettify/README_code_prettify.md\r\n",
      "\u001b[32m[I 12:36:22 InstallContribNbextensionsApp]\u001b[m Up to date: /home/ale/.local/share/jupyter/nbextensions/code_prettify/2to3.yaml\r\n",
      "\u001b[32m[I 12:36:22 InstallContribNbextensionsApp]\u001b[m Up to date: /home/ale/.local/share/jupyter/nbextensions/code_prettify/README_2to3.md\r\n",
      "\u001b[32m[I 12:36:22 InstallContribNbextensionsApp]\u001b[m Up to date: /home/ale/.local/share/jupyter/nbextensions/code_prettify/README_autopep8.md\r\n",
      "\u001b[32m[I 12:36:22 InstallContribNbextensionsApp]\u001b[m Up to date: /home/ale/.local/share/jupyter/nbextensions/code_prettify/autopep8.yaml\r\n",
      "\u001b[32m[I 12:36:22 InstallContribNbextensionsApp]\u001b[m Up to date: /home/ale/.local/share/jupyter/nbextensions/code_prettify/kernel_exec_on_cell.js\r\n",
      "\u001b[32m[I 12:36:22 InstallContribNbextensionsApp]\u001b[m Up to date: /home/ale/.local/share/jupyter/nbextensions/code_prettify/demo-py.gif\r\n",
      "\u001b[32m[I 12:36:22 InstallContribNbextensionsApp]\u001b[m Up to date: /home/ale/.local/share/jupyter/nbextensions/code_prettify/demo_2to3.gif\r\n",
      "\u001b[32m[I 12:36:22 InstallContribNbextensionsApp]\u001b[m Up to date: /home/ale/.local/share/jupyter/nbextensions/code_prettify/demo-R.gif\r\n",
      "\u001b[32m[I 12:36:22 InstallContribNbextensionsApp]\u001b[m Up to date: /home/ale/.local/share/jupyter/nbextensions/code_prettify/code_prettify.js\r\n",
      "\u001b[32m[I 12:36:22 InstallContribNbextensionsApp]\u001b[m - Validating: \u001b[32mOK\u001b[0m\r\n",
      "\u001b[32m[I 12:36:22 InstallContribNbextensionsApp]\u001b[m Installing /home/ale/anaconda3/lib/python3.6/site-packages/jupyter_contrib_nbextensions/nbextensions/hinterland -> hinterland\r\n",
      "\u001b[32m[I 12:36:22 InstallContribNbextensionsApp]\u001b[m Making directory: /home/ale/.local/share/jupyter/nbextensions/hinterland/\r\n",
      "\u001b[32m[I 12:36:22 InstallContribNbextensionsApp]\u001b[m Copying: /home/ale/anaconda3/lib/python3.6/site-packages/jupyter_contrib_nbextensions/nbextensions/hinterland/README.md -> /home/ale/.local/share/jupyter/nbextensions/hinterland/README.md\r\n",
      "\u001b[32m[I 12:36:22 InstallContribNbextensionsApp]\u001b[m Copying: /home/ale/anaconda3/lib/python3.6/site-packages/jupyter_contrib_nbextensions/nbextensions/hinterland/hinterland.js -> /home/ale/.local/share/jupyter/nbextensions/hinterland/hinterland.js\r\n",
      "\u001b[32m[I 12:36:22 InstallContribNbextensionsApp]\u001b[m Copying: /home/ale/anaconda3/lib/python3.6/site-packages/jupyter_contrib_nbextensions/nbextensions/hinterland/hinterland.yaml -> /home/ale/.local/share/jupyter/nbextensions/hinterland/hinterland.yaml\r\n",
      "\u001b[32m[I 12:36:22 InstallContribNbextensionsApp]\u001b[m - Validating: \u001b[32mOK\u001b[0m\r\n",
      "\u001b[32m[I 12:36:22 InstallContribNbextensionsApp]\u001b[m Installing /home/ale/anaconda3/lib/python3.6/site-packages/jupyter_contrib_nbextensions/nbextensions/printview -> printview\r\n",
      "\u001b[32m[I 12:36:22 InstallContribNbextensionsApp]\u001b[m Making directory: /home/ale/.local/share/jupyter/nbextensions/printview/\r\n",
      "\u001b[32m[I 12:36:22 InstallContribNbextensionsApp]\u001b[m Copying: /home/ale/anaconda3/lib/python3.6/site-packages/jupyter_contrib_nbextensions/nbextensions/printview/readme.md -> /home/ale/.local/share/jupyter/nbextensions/printview/readme.md\r\n",
      "\u001b[32m[I 12:36:22 InstallContribNbextensionsApp]\u001b[m Copying: /home/ale/anaconda3/lib/python3.6/site-packages/jupyter_contrib_nbextensions/nbextensions/printview/printview-button.png -> /home/ale/.local/share/jupyter/nbextensions/printview/printview-button.png\r\n",
      "\u001b[32m[I 12:36:22 InstallContribNbextensionsApp]\u001b[m Copying: /home/ale/anaconda3/lib/python3.6/site-packages/jupyter_contrib_nbextensions/nbextensions/printview/printview.yaml -> /home/ale/.local/share/jupyter/nbextensions/printview/printview.yaml\r\n",
      "\u001b[32m[I 12:36:22 InstallContribNbextensionsApp]\u001b[m Copying: /home/ale/anaconda3/lib/python3.6/site-packages/jupyter_contrib_nbextensions/nbextensions/printview/icon.png -> /home/ale/.local/share/jupyter/nbextensions/printview/icon.png\r\n",
      "\u001b[32m[I 12:36:22 InstallContribNbextensionsApp]\u001b[m Copying: /home/ale/anaconda3/lib/python3.6/site-packages/jupyter_contrib_nbextensions/nbextensions/printview/main.js -> /home/ale/.local/share/jupyter/nbextensions/printview/main.js\r\n",
      "\u001b[32m[I 12:36:22 InstallContribNbextensionsApp]\u001b[m - Validating: \u001b[32mOK\u001b[0m\r\n",
      "\u001b[32m[I 12:36:22 InstallContribNbextensionsApp]\u001b[m Installing /home/ale/anaconda3/lib/python3.6/site-packages/jupyter_contrib_nbextensions/nbextensions/rubberband -> rubberband\r\n",
      "\u001b[32m[I 12:36:22 InstallContribNbextensionsApp]\u001b[m Making directory: /home/ale/.local/share/jupyter/nbextensions/rubberband/\r\n",
      "\u001b[32m[I 12:36:22 InstallContribNbextensionsApp]\u001b[m Copying: /home/ale/anaconda3/lib/python3.6/site-packages/jupyter_contrib_nbextensions/nbextensions/rubberband/readme.md -> /home/ale/.local/share/jupyter/nbextensions/rubberband/readme.md\r\n",
      "\u001b[32m[I 12:36:22 InstallContribNbextensionsApp]\u001b[m Copying: /home/ale/anaconda3/lib/python3.6/site-packages/jupyter_contrib_nbextensions/nbextensions/rubberband/rubberband.yaml -> /home/ale/.local/share/jupyter/nbextensions/rubberband/rubberband.yaml\r\n",
      "\u001b[32m[I 12:36:22 InstallContribNbextensionsApp]\u001b[m Copying: /home/ale/anaconda3/lib/python3.6/site-packages/jupyter_contrib_nbextensions/nbextensions/rubberband/icon.png -> /home/ale/.local/share/jupyter/nbextensions/rubberband/icon.png\r\n",
      "\u001b[32m[I 12:36:22 InstallContribNbextensionsApp]\u001b[m Copying: /home/ale/anaconda3/lib/python3.6/site-packages/jupyter_contrib_nbextensions/nbextensions/rubberband/main.js -> /home/ale/.local/share/jupyter/nbextensions/rubberband/main.js\r\n",
      "\u001b[32m[I 12:36:22 InstallContribNbextensionsApp]\u001b[m Copying: /home/ale/anaconda3/lib/python3.6/site-packages/jupyter_contrib_nbextensions/nbextensions/rubberband/main.css -> /home/ale/.local/share/jupyter/nbextensions/rubberband/main.css\r\n",
      "\u001b[32m[I 12:36:22 InstallContribNbextensionsApp]\u001b[m - Validating: \u001b[32mOK\u001b[0m\r\n",
      "\u001b[32m[I 12:36:22 InstallContribNbextensionsApp]\u001b[m Installing /home/ale/anaconda3/lib/python3.6/site-packages/jupyter_contrib_nbextensions/nbextensions/search-replace -> search-replace\r\n",
      "\u001b[32m[I 12:36:22 InstallContribNbextensionsApp]\u001b[m Making directory: /home/ale/.local/share/jupyter/nbextensions/search-replace/\r\n",
      "\u001b[32m[I 12:36:22 InstallContribNbextensionsApp]\u001b[m Copying: /home/ale/anaconda3/lib/python3.6/site-packages/jupyter_contrib_nbextensions/nbextensions/search-replace/readme.md -> /home/ale/.local/share/jupyter/nbextensions/search-replace/readme.md\r\n",
      "\u001b[32m[I 12:36:22 InstallContribNbextensionsApp]\u001b[m Copying: /home/ale/anaconda3/lib/python3.6/site-packages/jupyter_contrib_nbextensions/nbextensions/search-replace/search-replace.yaml -> /home/ale/.local/share/jupyter/nbextensions/search-replace/search-replace.yaml\r\n",
      "\u001b[32m[I 12:36:22 InstallContribNbextensionsApp]\u001b[m Copying: /home/ale/anaconda3/lib/python3.6/site-packages/jupyter_contrib_nbextensions/nbextensions/search-replace/icon.png -> /home/ale/.local/share/jupyter/nbextensions/search-replace/icon.png\r\n",
      "\u001b[32m[I 12:36:22 InstallContribNbextensionsApp]\u001b[m Copying: /home/ale/anaconda3/lib/python3.6/site-packages/jupyter_contrib_nbextensions/nbextensions/search-replace/main.js -> /home/ale/.local/share/jupyter/nbextensions/search-replace/main.js\r\n",
      "\u001b[32m[I 12:36:22 InstallContribNbextensionsApp]\u001b[m Copying: /home/ale/anaconda3/lib/python3.6/site-packages/jupyter_contrib_nbextensions/nbextensions/search-replace/main.css -> /home/ale/.local/share/jupyter/nbextensions/search-replace/main.css\r\n",
      "\u001b[32m[I 12:36:22 InstallContribNbextensionsApp]\u001b[m - Validating: \u001b[32mOK\u001b[0m\r\n",
      "\u001b[32m[I 12:36:22 InstallContribNbextensionsApp]\u001b[m Installing /home/ale/anaconda3/lib/python3.6/site-packages/jupyter_contrib_nbextensions/nbextensions/ruler -> ruler\r\n",
      "\u001b[32m[I 12:36:22 InstallContribNbextensionsApp]\u001b[m Making directory: /home/ale/.local/share/jupyter/nbextensions/ruler/\r\n",
      "\u001b[32m[I 12:36:22 InstallContribNbextensionsApp]\u001b[m Copying: /home/ale/anaconda3/lib/python3.6/site-packages/jupyter_contrib_nbextensions/nbextensions/ruler/readme.md -> /home/ale/.local/share/jupyter/nbextensions/ruler/readme.md\r\n",
      "\u001b[32m[I 12:36:22 InstallContribNbextensionsApp]\u001b[m Copying: /home/ale/anaconda3/lib/python3.6/site-packages/jupyter_contrib_nbextensions/nbextensions/ruler/ruler.yaml -> /home/ale/.local/share/jupyter/nbextensions/ruler/ruler.yaml\r\n",
      "\u001b[32m[I 12:36:22 InstallContribNbextensionsApp]\u001b[m Copying: /home/ale/anaconda3/lib/python3.6/site-packages/jupyter_contrib_nbextensions/nbextensions/ruler/icon.png -> /home/ale/.local/share/jupyter/nbextensions/ruler/icon.png\r\n",
      "\u001b[32m[I 12:36:22 InstallContribNbextensionsApp]\u001b[m Copying: /home/ale/anaconda3/lib/python3.6/site-packages/jupyter_contrib_nbextensions/nbextensions/ruler/main.js -> /home/ale/.local/share/jupyter/nbextensions/ruler/main.js\r\n",
      "\u001b[32m[I 12:36:22 InstallContribNbextensionsApp]\u001b[m - Validating: \u001b[32mOK\u001b[0m\r\n",
      "\u001b[32m[I 12:36:22 InstallContribNbextensionsApp]\u001b[m Installing /home/ale/anaconda3/lib/python3.6/site-packages/jupyter_contrib_nbextensions/nbextensions/scroll_down -> scroll_down\r\n",
      "\u001b[32m[I 12:36:22 InstallContribNbextensionsApp]\u001b[m Making directory: /home/ale/.local/share/jupyter/nbextensions/scroll_down/\r\n",
      "\u001b[32m[I 12:36:22 InstallContribNbextensionsApp]\u001b[m Copying: /home/ale/anaconda3/lib/python3.6/site-packages/jupyter_contrib_nbextensions/nbextensions/scroll_down/readme.md -> /home/ale/.local/share/jupyter/nbextensions/scroll_down/readme.md\r\n",
      "\u001b[32m[I 12:36:22 InstallContribNbextensionsApp]\u001b[m Copying: /home/ale/anaconda3/lib/python3.6/site-packages/jupyter_contrib_nbextensions/nbextensions/scroll_down/config.yaml -> /home/ale/.local/share/jupyter/nbextensions/scroll_down/config.yaml\r\n",
      "\u001b[32m[I 12:36:22 InstallContribNbextensionsApp]\u001b[m Copying: /home/ale/anaconda3/lib/python3.6/site-packages/jupyter_contrib_nbextensions/nbextensions/scroll_down/icon.png -> /home/ale/.local/share/jupyter/nbextensions/scroll_down/icon.png\r\n",
      "\u001b[32m[I 12:36:22 InstallContribNbextensionsApp]\u001b[m Copying: /home/ale/anaconda3/lib/python3.6/site-packages/jupyter_contrib_nbextensions/nbextensions/scroll_down/main.js -> /home/ale/.local/share/jupyter/nbextensions/scroll_down/main.js\r\n",
      "\u001b[32m[I 12:36:22 InstallContribNbextensionsApp]\u001b[m - Validating: \u001b[32mOK\u001b[0m\r\n",
      "\u001b[32m[I 12:36:22 InstallContribNbextensionsApp]\u001b[m Installing /home/ale/anaconda3/lib/python3.6/site-packages/jupyter_highlight_selected_word/static/highlight_selected_word -> highlight_selected_word\r\n",
      "\u001b[32m[I 12:36:22 InstallContribNbextensionsApp]\u001b[m Making directory: /home/ale/.local/share/jupyter/nbextensions/highlight_selected_word/\r\n",
      "\u001b[32m[I 12:36:22 InstallContribNbextensionsApp]\u001b[m Copying: /home/ale/anaconda3/lib/python3.6/site-packages/jupyter_highlight_selected_word/static/highlight_selected_word/README.md -> /home/ale/.local/share/jupyter/nbextensions/highlight_selected_word/README.md\r\n",
      "\u001b[32m[I 12:36:22 InstallContribNbextensionsApp]\u001b[m Copying: /home/ale/anaconda3/lib/python3.6/site-packages/jupyter_highlight_selected_word/static/highlight_selected_word/main.js -> /home/ale/.local/share/jupyter/nbextensions/highlight_selected_word/main.js\r\n",
      "\u001b[32m[I 12:36:22 InstallContribNbextensionsApp]\u001b[m Copying: /home/ale/anaconda3/lib/python3.6/site-packages/jupyter_highlight_selected_word/static/highlight_selected_word/configurator.yaml -> /home/ale/.local/share/jupyter/nbextensions/highlight_selected_word/configurator.yaml\r\n",
      "\u001b[32m[I 12:36:22 InstallContribNbextensionsApp]\u001b[m Copying: /home/ale/anaconda3/lib/python3.6/site-packages/jupyter_highlight_selected_word/static/highlight_selected_word/main.css -> /home/ale/.local/share/jupyter/nbextensions/highlight_selected_word/main.css\r\n",
      "\u001b[32m[I 12:36:22 InstallContribNbextensionsApp]\u001b[m - Validating: \u001b[32mOK\u001b[0m\r\n",
      "\u001b[32m[I 12:36:22 InstallContribNbextensionsApp]\u001b[m Installing /home/ale/anaconda3/lib/python3.6/site-packages/latex_envs/static -> latex_envs\r\n",
      "\u001b[32m[I 12:36:22 InstallContribNbextensionsApp]\u001b[m Making directory: /home/ale/.local/share/jupyter/nbextensions/latex_envs/\r\n",
      "\u001b[32m[I 12:36:22 InstallContribNbextensionsApp]\u001b[m Copying: /home/ale/anaconda3/lib/python3.6/site-packages/latex_envs/static/bibInNb4.js -> /home/ale/.local/share/jupyter/nbextensions/latex_envs/bibInNb4.js\r\n",
      "\u001b[32m[I 12:36:22 InstallContribNbextensionsApp]\u001b[m Copying: /home/ale/anaconda3/lib/python3.6/site-packages/latex_envs/static/example.png -> /home/ale/.local/share/jupyter/nbextensions/latex_envs/example.png\r\n",
      "\u001b[32m[I 12:36:22 InstallContribNbextensionsApp]\u001b[m Copying: /home/ale/anaconda3/lib/python3.6/site-packages/latex_envs/static/README.md -> /home/ale/.local/share/jupyter/nbextensions/latex_envs/README.md\r\n",
      "\u001b[32m[I 12:36:22 InstallContribNbextensionsApp]\u001b[m Copying: /home/ale/anaconda3/lib/python3.6/site-packages/latex_envs/static/latex_envs.css -> /home/ale/.local/share/jupyter/nbextensions/latex_envs/latex_envs.css\r\n",
      "\u001b[32m[I 12:36:22 InstallContribNbextensionsApp]\u001b[m Copying: /home/ale/anaconda3/lib/python3.6/site-packages/latex_envs/static/thmsInNb4.js -> /home/ale/.local/share/jupyter/nbextensions/latex_envs/thmsInNb4.js\r\n",
      "\u001b[32m[I 12:36:22 InstallContribNbextensionsApp]\u001b[m Copying: /home/ale/anaconda3/lib/python3.6/site-packages/latex_envs/static/main_toolbar.png -> /home/ale/.local/share/jupyter/nbextensions/latex_envs/main_toolbar.png\r\n",
      "\u001b[32m[I 12:36:22 InstallContribNbextensionsApp]\u001b[m Copying: /home/ale/anaconda3/lib/python3.6/site-packages/latex_envs/static/configuration_toolbar.png -> /home/ale/.local/share/jupyter/nbextensions/latex_envs/configuration_toolbar.png\r\n",
      "\u001b[32m[I 12:36:22 InstallContribNbextensionsApp]\u001b[m Copying: /home/ale/anaconda3/lib/python3.6/site-packages/latex_envs/static/latex_envs.js -> /home/ale/.local/share/jupyter/nbextensions/latex_envs/latex_envs.js\r\n",
      "\u001b[32m[I 12:36:22 InstallContribNbextensionsApp]\u001b[m Copying: /home/ale/anaconda3/lib/python3.6/site-packages/latex_envs/static/example_user_envs.json -> /home/ale/.local/share/jupyter/nbextensions/latex_envs/example_user_envs.json\r\n",
      "\u001b[32m[I 12:36:22 InstallContribNbextensionsApp]\u001b[m Copying: /home/ale/anaconda3/lib/python3.6/site-packages/latex_envs/static/latex_envs.yaml -> /home/ale/.local/share/jupyter/nbextensions/latex_envs/latex_envs.yaml\r\n",
      "\u001b[32m[I 12:36:22 InstallContribNbextensionsApp]\u001b[m Copying: /home/ale/anaconda3/lib/python3.6/site-packages/latex_envs/static/icon.png -> /home/ale/.local/share/jupyter/nbextensions/latex_envs/icon.png\r\n",
      "\u001b[32m[I 12:36:22 InstallContribNbextensionsApp]\u001b[m Copying: /home/ale/anaconda3/lib/python3.6/site-packages/latex_envs/static/envsLatex.json -> /home/ale/.local/share/jupyter/nbextensions/latex_envs/envsLatex.json\r\n",
      "\u001b[32m[I 12:36:22 InstallContribNbextensionsApp]\u001b[m Copying: /home/ale/anaconda3/lib/python3.6/site-packages/latex_envs/static/initNb.js -> /home/ale/.local/share/jupyter/nbextensions/latex_envs/initNb.js\r\n",
      "\u001b[32m[I 12:36:22 InstallContribNbextensionsApp]\u001b[m Copying: /home/ale/anaconda3/lib/python3.6/site-packages/latex_envs/static/bibtex2.js -> /home/ale/.local/share/jupyter/nbextensions/latex_envs/bibtex2.js\r\n",
      "\u001b[32m[I 12:36:22 InstallContribNbextensionsApp]\u001b[m Making directory: /home/ale/.local/share/jupyter/nbextensions/latex_envs/doc\r\n",
      "\u001b[32m[I 12:36:22 InstallContribNbextensionsApp]\u001b[m Copying: /home/ale/anaconda3/lib/python3.6/site-packages/latex_envs/static/doc/example.png -> /home/ale/.local/share/jupyter/nbextensions/latex_envs/doc/example.png\r\n",
      "\u001b[32m[I 12:36:22 InstallContribNbextensionsApp]\u001b[m Copying: /home/ale/anaconda3/lib/python3.6/site-packages/latex_envs/static/doc/config_toolbar.png -> /home/ale/.local/share/jupyter/nbextensions/latex_envs/doc/config_toolbar.png\r\n",
      "\u001b[32m[I 12:36:22 InstallContribNbextensionsApp]\u001b[m Copying: /home/ale/anaconda3/lib/python3.6/site-packages/latex_envs/static/doc/IEEEtran.bst -> /home/ale/.local/share/jupyter/nbextensions/latex_envs/doc/IEEEtran.bst\r\n",
      "\u001b[32m[I 12:36:22 InstallContribNbextensionsApp]\u001b[m Copying: /home/ale/anaconda3/lib/python3.6/site-packages/latex_envs/static/doc/README.md -> /home/ale/.local/share/jupyter/nbextensions/latex_envs/doc/README.md\r\n",
      "\u001b[32m[I 12:36:22 InstallContribNbextensionsApp]\u001b[m Copying: /home/ale/anaconda3/lib/python3.6/site-packages/latex_envs/static/doc/main_toolbar.png -> /home/ale/.local/share/jupyter/nbextensions/latex_envs/doc/main_toolbar.png\r\n",
      "\u001b[32m[I 12:36:22 InstallContribNbextensionsApp]\u001b[m Copying: /home/ale/anaconda3/lib/python3.6/site-packages/latex_envs/static/doc/documentation.tex -> /home/ale/.local/share/jupyter/nbextensions/latex_envs/doc/documentation.tex\r\n",
      "\u001b[32m[I 12:36:22 InstallContribNbextensionsApp]\u001b[m Copying: /home/ale/anaconda3/lib/python3.6/site-packages/latex_envs/static/doc/latex_env_doc.ipynb -> /home/ale/.local/share/jupyter/nbextensions/latex_envs/doc/latex_env_doc.ipynb\r\n",
      "\u001b[32m[I 12:36:22 InstallContribNbextensionsApp]\u001b[m Copying: /home/ale/anaconda3/lib/python3.6/site-packages/latex_envs/static/doc/LaTeX_envs_menu.png -> /home/ale/.local/share/jupyter/nbextensions/latex_envs/doc/LaTeX_envs_menu.png\r\n",
      "\u001b[32m[I 12:36:22 InstallContribNbextensionsApp]\u001b[m Copying: /home/ale/anaconda3/lib/python3.6/site-packages/latex_envs/static/doc/documentation.pdf -> /home/ale/.local/share/jupyter/nbextensions/latex_envs/doc/documentation.pdf\r\n",
      "\u001b[32m[I 12:36:22 InstallContribNbextensionsApp]\u001b[m Copying: /home/ale/anaconda3/lib/python3.6/site-packages/latex_envs/static/doc/latex_env_doc.html -> /home/ale/.local/share/jupyter/nbextensions/latex_envs/doc/latex_env_doc.html\r\n",
      "\u001b[32m[I 12:36:22 InstallContribNbextensionsApp]\u001b[m Copying: /home/ale/anaconda3/lib/python3.6/site-packages/latex_envs/static/doc/Toggles.png -> /home/ale/.local/share/jupyter/nbextensions/latex_envs/doc/Toggles.png\r\n",
      "\u001b[32m[I 12:36:22 InstallContribNbextensionsApp]\u001b[m Copying: /home/ale/anaconda3/lib/python3.6/site-packages/latex_envs/static/doc/configuration_toolbar.png -> /home/ale/.local/share/jupyter/nbextensions/latex_envs/doc/configuration_toolbar.png\r\n",
      "\u001b[32m[I 12:36:22 InstallContribNbextensionsApp]\u001b[m Copying: /home/ale/anaconda3/lib/python3.6/site-packages/latex_envs/static/doc/header.tex -> /home/ale/.local/share/jupyter/nbextensions/latex_envs/doc/header.tex\r\n",
      "\u001b[32m[I 12:36:22 InstallContribNbextensionsApp]\u001b[m Copying: /home/ale/anaconda3/lib/python3.6/site-packages/latex_envs/static/doc/latex_env_doc.tex -> /home/ale/.local/share/jupyter/nbextensions/latex_envs/doc/latex_env_doc.tex\r\n",
      "\u001b[32m[I 12:36:22 InstallContribNbextensionsApp]\u001b[m Copying: /home/ale/anaconda3/lib/python3.6/site-packages/latex_envs/static/doc/biblio_ipython.bib -> /home/ale/.local/share/jupyter/nbextensions/latex_envs/doc/biblio_ipython.bib\r\n",
      "\u001b[32m[I 12:36:22 InstallContribNbextensionsApp]\u001b[m Making directory: /home/ale/.local/share/jupyter/nbextensions/latex_envs/doc/latex_env_doc_files\r\n",
      "\u001b[32m[I 12:36:22 InstallContribNbextensionsApp]\u001b[m Copying: /home/ale/anaconda3/lib/python3.6/site-packages/latex_envs/static/doc/latex_env_doc_files/latex_env_doc_52_0.png -> /home/ale/.local/share/jupyter/nbextensions/latex_envs/doc/latex_env_doc_files/latex_env_doc_52_0.png\r\n",
      "\u001b[32m[I 12:36:22 InstallContribNbextensionsApp]\u001b[m Copying: /home/ale/anaconda3/lib/python3.6/site-packages/latex_envs/static/doc/latex_env_doc_files/latex_env_doc_45_0.png -> /home/ale/.local/share/jupyter/nbextensions/latex_envs/doc/latex_env_doc_files/latex_env_doc_45_0.png\r\n",
      "\u001b[32m[I 12:36:22 InstallContribNbextensionsApp]\u001b[m Copying: /home/ale/anaconda3/lib/python3.6/site-packages/latex_envs/static/doc/latex_env_doc_files/latex_env_doc_43_0.png -> /home/ale/.local/share/jupyter/nbextensions/latex_envs/doc/latex_env_doc_files/latex_env_doc_43_0.png\r\n",
      "\u001b[32m[I 12:36:22 InstallContribNbextensionsApp]\u001b[m Copying: /home/ale/anaconda3/lib/python3.6/site-packages/latex_envs/static/doc/latex_env_doc_files/latex_env_doc_49_0.png -> /home/ale/.local/share/jupyter/nbextensions/latex_envs/doc/latex_env_doc_files/latex_env_doc_49_0.png\r\n",
      "\u001b[32m[I 12:36:22 InstallContribNbextensionsApp]\u001b[m Copying: /home/ale/anaconda3/lib/python3.6/site-packages/latex_envs/static/doc/latex_env_doc_files/latex_env_doc_23_2.png -> /home/ale/.local/share/jupyter/nbextensions/latex_envs/doc/latex_env_doc_files/latex_env_doc_23_2.png\r\n",
      "\u001b[32m[I 12:36:22 InstallContribNbextensionsApp]\u001b[m Copying: /home/ale/anaconda3/lib/python3.6/site-packages/latex_envs/static/doc/latex_env_doc_files/latex_env_doc_51_0.png -> /home/ale/.local/share/jupyter/nbextensions/latex_envs/doc/latex_env_doc_files/latex_env_doc_51_0.png\r\n",
      "\u001b[32m[I 12:36:22 InstallContribNbextensionsApp]\u001b[m Copying: /home/ale/anaconda3/lib/python3.6/site-packages/latex_envs/static/doc/latex_env_doc_files/latex_env_doc_46_0.png -> /home/ale/.local/share/jupyter/nbextensions/latex_envs/doc/latex_env_doc_files/latex_env_doc_46_0.png\r\n",
      "\u001b[32m[I 12:36:22 InstallContribNbextensionsApp]\u001b[m Copying: /home/ale/anaconda3/lib/python3.6/site-packages/latex_envs/static/doc/latex_env_doc_files/latex_env_doc_44_0.png -> /home/ale/.local/share/jupyter/nbextensions/latex_envs/doc/latex_env_doc_files/latex_env_doc_44_0.png\r\n",
      "\u001b[32m[I 12:36:22 InstallContribNbextensionsApp]\u001b[m Copying: /home/ale/anaconda3/lib/python3.6/site-packages/latex_envs/static/doc/latex_env_doc_files/latex_env_doc_27_2.png -> /home/ale/.local/share/jupyter/nbextensions/latex_envs/doc/latex_env_doc_files/latex_env_doc_27_2.png\r\n",
      "\u001b[32m[I 12:36:22 InstallContribNbextensionsApp]\u001b[m Copying: /home/ale/anaconda3/lib/python3.6/site-packages/latex_envs/static/doc/latex_env_doc_files/latex_env_doc_41_0.png -> /home/ale/.local/share/jupyter/nbextensions/latex_envs/doc/latex_env_doc_files/latex_env_doc_41_0.png\r\n",
      "\u001b[32m[I 12:36:22 InstallContribNbextensionsApp]\u001b[m Copying: /home/ale/anaconda3/lib/python3.6/site-packages/latex_envs/static/doc/latex_env_doc_files/latex_env_doc_48_0.png -> /home/ale/.local/share/jupyter/nbextensions/latex_envs/doc/latex_env_doc_files/latex_env_doc_48_0.png\r\n",
      "\u001b[32m[I 12:36:22 InstallContribNbextensionsApp]\u001b[m Copying: /home/ale/anaconda3/lib/python3.6/site-packages/latex_envs/static/doc/latex_env_doc_files/latex_env_doc_47_0.png -> /home/ale/.local/share/jupyter/nbextensions/latex_envs/doc/latex_env_doc_files/latex_env_doc_47_0.png\r\n",
      "\u001b[32m[I 12:36:22 InstallContribNbextensionsApp]\u001b[m Copying: /home/ale/anaconda3/lib/python3.6/site-packages/latex_envs/static/doc/latex_env_doc_files/latex_env_doc_50_0.png -> /home/ale/.local/share/jupyter/nbextensions/latex_envs/doc/latex_env_doc_files/latex_env_doc_50_0.png\r\n",
      "\u001b[32m[I 12:36:22 InstallContribNbextensionsApp]\u001b[m Copying: /home/ale/anaconda3/lib/python3.6/site-packages/latex_envs/static/doc/latex_env_doc_files/latex_env_doc_24_2.png -> /home/ale/.local/share/jupyter/nbextensions/latex_envs/doc/latex_env_doc_files/latex_env_doc_24_2.png\r\n",
      "\u001b[32m[I 12:36:22 InstallContribNbextensionsApp]\u001b[m Copying: /home/ale/anaconda3/lib/python3.6/site-packages/latex_envs/static/doc/latex_env_doc_files/latex_env_doc_26_2.png -> /home/ale/.local/share/jupyter/nbextensions/latex_envs/doc/latex_env_doc_files/latex_env_doc_26_2.png\r\n",
      "\u001b[32m[I 12:36:22 InstallContribNbextensionsApp]\u001b[m Copying: /home/ale/anaconda3/lib/python3.6/site-packages/latex_envs/static/doc/latex_env_doc_files/latex_env_doc_42_0.png -> /home/ale/.local/share/jupyter/nbextensions/latex_envs/doc/latex_env_doc_files/latex_env_doc_42_0.png\r\n",
      "\u001b[32m[I 12:36:22 InstallContribNbextensionsApp]\u001b[m Making directory: /home/ale/.local/share/jupyter/nbextensions/latex_envs/doc/.ipynb_checkpoints\r\n",
      "\u001b[32m[I 12:36:22 InstallContribNbextensionsApp]\u001b[m Copying: /home/ale/anaconda3/lib/python3.6/site-packages/latex_envs/static/doc/.ipynb_checkpoints/latex_env_doc-checkpoint.ipynb -> /home/ale/.local/share/jupyter/nbextensions/latex_envs/doc/.ipynb_checkpoints/latex_env_doc-checkpoint.ipynb\r\n",
      "\u001b[32m[I 12:36:22 InstallContribNbextensionsApp]\u001b[m - Validating: \u001b[32mOK\u001b[0m\r\n",
      "\u001b[32m[I 12:36:22 InstallContribNbextensionsApp]\u001b[m Installing jupyter_contrib_nbextensions items to config in /home/ale/.jupyter\r\n",
      "Enabling: jupyter_nbextensions_configurator\r\n",
      "- Writing config: /home/ale/.jupyter\r\n",
      "    - Validating...\r\n",
      "      jupyter_nbextensions_configurator  \u001b[32mOK\u001b[0m\r\n",
      "Enabling notebook nbextension nbextensions_configurator/config_menu/main...\r\n",
      "Enabling tree nbextension nbextensions_configurator/tree_tab/main...\r\n",
      "\u001b[32m[I 12:36:22 InstallContribNbextensionsApp]\u001b[m Enabling notebook extension contrib_nbextensions_help_item/main...\r\n",
      "\u001b[32m[I 12:36:22 InstallContribNbextensionsApp]\u001b[m       - Validating: \u001b[32mOK\u001b[0m\r\n",
      "\u001b[32m[I 12:36:22 InstallContribNbextensionsApp]\u001b[m - Editing config: /home/ale/.jupyter/jupyter_nbconvert_config.json\r\n",
      "\u001b[32m[I 12:36:22 InstallContribNbextensionsApp]\u001b[m --  Configuring nbconvert template path\r\n",
      "\u001b[32m[I 12:36:22 InstallContribNbextensionsApp]\u001b[m --  Configuring nbconvert preprocessors\r\n",
      "\u001b[32m[I 12:36:22 InstallContribNbextensionsApp]\u001b[m - Writing config: /home/ale/.jupyter/jupyter_nbconvert_config.json\r\n",
      "\u001b[32m[I 12:36:22 InstallContribNbextensionsApp]\u001b[m --  Writing updated config file /home/ale/.jupyter/jupyter_nbconvert_config.json\r\n"
     ]
    },
    {
     "name": "stdout",
     "output_type": "stream",
     "text": [
      "Enabling: jupyter_nbextensions_configurator\r\n",
      "- Writing config: /home/ale/.jupyter\r\n",
      "    - Validating...\r\n",
      "      jupyter_nbextensions_configurator  \u001b[32mOK\u001b[0m\r\n",
      "Enabling notebook nbextension nbextensions_configurator/config_menu/main...\r\n",
      "Enabling tree nbextension nbextensions_configurator/tree_tab/main...\r\n"
     ]
    }
   ],
   "source": [
    "## run the line below, restart jupyter (close and restart) and go to localhost:8888 or edit -> nbextensions\n",
    "## from the nbextension you can enable/disable some notebook extensions:\n",
    "# NICE ONE ARE: code prettify, spell-checker\n",
    "# check the nbextensions utility to understant what the extention does\n",
    "# ATTENTION: probably when you activate a new extension you need to refresh ore reload the jupyter notebook \n",
    "# ATTENTION: (so activate the extension before you start everything)\n",
    "!jupyter contrib nbextension install --user\n",
    "!jupyter nbextensions_configurator enable --user"
   ]
  },
  {
   "cell_type": "markdown",
   "metadata": {
    "collapsed": true
   },
   "source": [
    "### Manage packages in anaconda"
   ]
  },
  {
   "cell_type": "code",
   "execution_count": 32,
   "metadata": {},
   "outputs": [
    {
     "data": {
      "text/plain": [
       "['# packages in environment at /home/ale/anaconda3:',\n",
       " '#',\n",
       " '_license                  1.1                      py36_1  ',\n",
       " 'alabaster                 0.7.10                   py36_0  ',\n",
       " 'anaconda                  custom                   py36_0  ',\n",
       " 'anaconda-client           1.6.3                    py36_0  ',\n",
       " 'anaconda-navigator        1.5.2                    py36_0  ',\n",
       " 'anaconda-project          0.4.1                    py36_0  ',\n",
       " 'astroid                   1.4.9                    py36_0  ',\n",
       " 'astropy                   1.3.2               np112py36_0  ',\n",
       " 'babel                     2.4.0                    py36_0  ',\n",
       " 'backports                 1.0                      py36_0  ',\n",
       " 'beautifulsoup4            4.5.3                    py36_0  ',\n",
       " 'bitarray                  0.8.1                    py36_0  ',\n",
       " 'blaze                     0.10.1                   py36_0  ',\n",
       " 'bleach                    1.5.0                    py36_0  ',\n",
       " 'bokeh                     0.12.5                   py36_0  ',\n",
       " 'boto                      2.46.1                   py36_0  ',\n",
       " 'bottleneck                1.2.0               np112py36_0  ',\n",
       " 'bzip2                     1.0.6                         3  ',\n",
       " 'cairo                     1.14.8                        0  ',\n",
       " 'cffi                      1.9.1                    py36_0  ',\n",
       " 'chardet                   3.0.2                    py36_0  ',\n",
       " 'chest                     0.2.3                    py36_0  ',\n",
       " 'click                     6.7                      py36_0  ',\n",
       " 'cloudpickle               0.2.2                    py36_0  ',\n",
       " 'clyent                    1.2.2                    py36_0  ',\n",
       " 'colorama                  0.3.7                    py36_0  ',\n",
       " 'conda                     4.3.16                   py36_0  ',\n",
       " 'conda-env                 2.6.0                         0  ',\n",
       " 'configobj                 5.0.6                    py36_0  ',\n",
       " 'contextlib2               0.5.4                    py36_0  ',\n",
       " 'cryptography              1.7.1                    py36_0  ',\n",
       " 'curl                      7.52.1                        0  ',\n",
       " 'cycler                    0.10.0                   py36_0  ',\n",
       " 'cython                    0.25.2                   py36_0  ',\n",
       " 'cytoolz                   0.8.2                    py36_0  ',\n",
       " 'dask                      0.14.1                   py36_0  ',\n",
       " 'datashape                 0.5.4                    py36_0  ',\n",
       " 'dbus                      1.10.10                       0  ',\n",
       " 'decorator                 4.0.11                   py36_0  ',\n",
       " 'dill                      0.2.6                    py36_0  ',\n",
       " 'docutils                  0.13.1                   py36_0  ',\n",
       " 'entrypoints               0.2.2                    py36_1  ',\n",
       " 'et_xmlfile                1.0.1                    py36_0  ',\n",
       " 'expat                     2.1.0                         0  ',\n",
       " 'fastcache                 1.0.2                    py36_1  ',\n",
       " 'flask                     0.12.1                   py36_0  ',\n",
       " 'flask-cors                3.0.2                    py36_0  ',\n",
       " 'fontconfig                2.12.1                        3  ',\n",
       " 'freetype                  2.5.5                         2  ',\n",
       " 'get_terminal_size         1.0.0                    py36_0  ',\n",
       " 'gevent                    1.2.1                    py36_0  ',\n",
       " 'glib                      2.50.2                        1  ',\n",
       " 'gmp                       6.1.0                         0  ',\n",
       " 'googletrans               2.1.2                     <pip>',\n",
       " 'greenlet                  0.4.12                   py36_0  ',\n",
       " 'gsl                       2.2.1                         0  ',\n",
       " 'gst-plugins-base          1.8.0                         0  ',\n",
       " 'gstreamer                 1.8.0                         0  ',\n",
       " 'h5py                      2.7.0               np112py36_0  ',\n",
       " 'harfbuzz                  0.9.39                        2  ',\n",
       " 'hdf5                      1.8.17                        1  ',\n",
       " 'heapdict                  1.0.0                    py36_1  ',\n",
       " 'html5lib                  0.999                    py36_0  ',\n",
       " 'icu                       54.1                          0  ',\n",
       " 'idna                      2.2                      py36_0  ',\n",
       " 'imagesize                 0.7.1                    py36_0  ',\n",
       " 'ipykernel                 4.6.1                    py36_0  ',\n",
       " 'ipython                   6.0.0                    py36_0  ',\n",
       " 'ipython_genutils          0.2.0                    py36_0  ',\n",
       " 'ipywidgets                6.0.0                    py36_0  ',\n",
       " 'isort                     4.2.5                    py36_0  ',\n",
       " 'itsdangerous              0.24                     py36_0  ',\n",
       " 'jbig                      2.1                           0  ',\n",
       " 'jdcal                     1.3                      py36_0  ',\n",
       " 'jedi                      0.9.0                    py36_1  ',\n",
       " 'jinja2                    2.9.6                    py36_0  ',\n",
       " 'jpeg                      9b                            0  ',\n",
       " 'jsonschema                2.6.0                    py36_0  ',\n",
       " 'jupyter                   1.0.0                    py36_3  ',\n",
       " 'jupyter-contrib-core      0.3.1                     <pip>',\n",
       " 'jupyter-contrib-nbextensions 0.2.7                     <pip>',\n",
       " 'jupyter-highlight-selected-word 0.0.11                    <pip>',\n",
       " 'jupyter-latex-envs        1.3.8.4                   <pip>',\n",
       " 'jupyter-nbextensions-configurator 0.2.4                     <pip>',\n",
       " 'jupyter_client            5.0.1                    py36_0  ',\n",
       " 'jupyter_console           5.1.0                    py36_0  ',\n",
       " 'jupyter_core              4.3.0                    py36_0  ',\n",
       " 'lazy-object-proxy         1.2.2                    py36_0  ',\n",
       " 'libffi                    3.2.1                         1  ',\n",
       " 'libgcc                    5.2.0                         0  ',\n",
       " 'libgfortran               3.0.0                         1  ',\n",
       " 'libiconv                  1.14                          0  ',\n",
       " 'libpng                    1.6.27                        0  ',\n",
       " 'libsodium                 1.0.10                        0  ',\n",
       " 'libtiff                   4.0.6                         3  ',\n",
       " 'libxcb                    1.12                          1  ',\n",
       " 'libxgboost                0.60                 hdfa14d8_0  ',\n",
       " 'libxml2                   2.9.4                         0  ',\n",
       " 'libxslt                   1.1.29                        0  ',\n",
       " 'lightgbm                  0.1                       <pip>',\n",
       " 'llvmlite                  0.17.0                   py36_0  ',\n",
       " 'locket                    0.2.0                    py36_1  ',\n",
       " 'lxml                      3.7.3                    py36_0  ',\n",
       " 'markupsafe                0.23                     py36_2  ',\n",
       " 'matplotlib                2.0.0               np112py36_0  ',\n",
       " 'mistune                   0.7.4                    py36_0  ',\n",
       " 'mkl                       2017.0.1                      0  ',\n",
       " 'mkl-service               1.1.2                    py36_3  ',\n",
       " 'mpmath                    0.19                     py36_1  ',\n",
       " 'multipledispatch          0.4.9                    py36_0  ',\n",
       " 'nbconvert                 5.1.1                    py36_0  ',\n",
       " 'nbformat                  4.3.0                    py36_0  ',\n",
       " 'ncurses                   5.9                          10  ',\n",
       " 'networkx                  1.11                     py36_0  ',\n",
       " 'nltk                      3.2.2                    py36_0  ',\n",
       " 'nose                      1.3.7                    py36_1  ',\n",
       " 'notebook                  5.0.0                    py36_0  ',\n",
       " 'numba                     0.32.0              np112py36_0  ',\n",
       " 'numexpr                   2.6.2               np112py36_0  ',\n",
       " 'numpy                     1.12.1                   py36_0  ',\n",
       " 'numpydoc                  0.6.0                    py36_0  ',\n",
       " 'odo                       0.5.0                    py36_1  ',\n",
       " 'olefile                   0.44                     py36_0  ',\n",
       " 'openpyxl                  2.4.1                    py36_0  ',\n",
       " 'openssl                   1.0.2k                        1  ',\n",
       " 'pandas                    0.19.2              np112py36_1  ',\n",
       " 'pandoc                    1.15.0.6                      0  ',\n",
       " 'pandocfilters             1.4.1                    py36_0  ',\n",
       " 'pango                     1.40.3                        1  ',\n",
       " 'partd                     0.3.7                    py36_0  ',\n",
       " 'path.py                   10.3.1                   py36_0  ',\n",
       " 'pathlib2                  2.2.1                    py36_0  ',\n",
       " 'patsy                     0.4.1                    py36_0  ',\n",
       " 'pcre                      8.39                          1  ',\n",
       " 'pep8                      1.7.0                    py36_0  ',\n",
       " 'pexpect                   4.2.1                    py36_0  ',\n",
       " 'pickleshare               0.7.4                    py36_0  ',\n",
       " 'pillow                    4.1.0                    py36_0  ',\n",
       " 'pip                       9.0.1                    py36_1  ',\n",
       " 'pixman                    0.34.0                        0  ',\n",
       " 'plotly                    1.12.9                   py36_0  ',\n",
       " 'ply                       3.10                     py36_0  ',\n",
       " 'prompt_toolkit            1.0.14                   py36_0  ',\n",
       " 'psutil                    5.2.2                    py36_0  ',\n",
       " 'ptyprocess                0.5.1                    py36_0  ',\n",
       " 'py                        1.4.32                   py36_0  ',\n",
       " 'py-xgboost                0.60            py36np112h54d5342_0  ',\n",
       " 'pyasn1                    0.2.3                    py36_0  ',\n",
       " 'pycosat                   0.6.2                    py36_0  ',\n",
       " 'pycparser                 2.17                     py36_0  ',\n",
       " 'pycrypto                  2.6.1                    py36_4  ',\n",
       " 'pycurl                    7.43.0                   py36_2  ',\n",
       " 'pyflakes                  1.5.0                    py36_0  ',\n",
       " 'pygments                  2.2.0                    py36_0  ',\n",
       " 'pylint                    1.6.4                    py36_1  ',\n",
       " 'pyopenssl                 16.2.0                   py36_0  ',\n",
       " 'pyparsing                 2.1.4                    py36_0  ',\n",
       " 'pyqt                      5.6.0                    py36_2  ',\n",
       " 'pytables                  3.3.0               np112py36_0  ',\n",
       " 'pytest                    3.0.7                    py36_0  ',\n",
       " 'python                    3.6.1                         0  ',\n",
       " 'python-dateutil           2.6.0                    py36_0  ',\n",
       " 'pytz                      2017.2                   py36_0  ',\n",
       " 'pywavelets                0.5.2               np112py36_0  ',\n",
       " 'pyyaml                    3.12                     py36_0  ',\n",
       " 'pyzmq                     16.0.2                   py36_0  ',\n",
       " 'qt                        5.6.2                         3  ',\n",
       " 'qtawesome                 0.4.4                    py36_0  ',\n",
       " 'qtconsole                 4.3.0                    py36_0  ',\n",
       " 'qtpy                      1.2.1                    py36_0  ',\n",
       " 'r                         3.3.2                  r3.3.2_0  ',\n",
       " 'r-assertthat              0.1                    r3.3.2_4    r',\n",
       " 'r-backports               1.0.4                  r3.3.2_0    r',\n",
       " 'r-base                    3.3.2                         1    r',\n",
       " 'r-base64enc               0.1_3                  r3.3.2_0    r',\n",
       " 'r-bh                      1.62.0_1               r3.3.2_0    r',\n",
       " 'r-bitops                  1.0_6                  r3.3.2_2    r',\n",
       " 'r-boot                    1.3_18                 r3.3.2_0    r',\n",
       " 'r-broom                   0.4.1                  r3.3.2_0    r',\n",
       " 'r-car                     2.1_4                  r3.3.2_0    r',\n",
       " 'r-caret                   6.0_73                 r3.3.2_0    r',\n",
       " 'r-catools                 1.17.1                 r3.3.2_2    r',\n",
       " 'r-class                   7.3_14                 r3.3.2_0    r',\n",
       " 'r-cluster                 2.0.5                  r3.3.2_0    r',\n",
       " 'r-codetools               0.2_15                 r3.3.2_0    r',\n",
       " 'r-colorspace              1.3_1                  r3.3.2_0    r',\n",
       " 'r-crayon                  1.3.2                  r3.3.2_0    r',\n",
       " 'r-curl                    2.3                    r3.3.2_0    r',\n",
       " 'r-data.table              1.10.0                 r3.3.2_0    r',\n",
       " 'r-dbi                     0.5_1                  r3.3.2_0    r',\n",
       " 'r-dichromat               2.0_0                  r3.3.2_2    r',\n",
       " 'r-digest                  0.6.10                 r3.3.2_0    r',\n",
       " 'r-dplyr                   0.5.0                  r3.3.2_0    r',\n",
       " 'r-essentials              1.5.2                  r3.3.2_0    r',\n",
       " 'r-evaluate                0.10                   r3.3.2_0    r',\n",
       " 'r-forcats                 0.1.1                  r3.3.2_0    r',\n",
       " 'r-foreach                 1.4.3                  r3.3.2_0    r',\n",
       " 'r-foreign                 0.8_67                 r3.3.2_0    r',\n",
       " 'r-formatr                 1.4                    r3.3.2_0    r',\n",
       " 'r-ggplot2                 2.2.0                  r3.3.2_0    r',\n",
       " 'r-gistr                   0.3.6                  r3.3.2_0    r',\n",
       " 'r-glmnet                  2.0_5                  r3.3.2_0    r',\n",
       " 'r-gtable                  0.2.0                  r3.3.2_0    r',\n",
       " 'r-haven                   1.0.0                  r3.3.2_0    r',\n",
       " 'r-hexbin                  1.27.1                 r3.3.2_0    r',\n",
       " 'r-highr                   0.6                    r3.3.2_0    r',\n",
       " 'r-hms                     0.3                    r3.3.2_0    r',\n",
       " 'r-htmltools               0.3.5                  r3.3.2_0    r',\n",
       " 'r-htmlwidgets             0.8                    r3.3.2_0    r',\n",
       " 'r-httpuv                  1.3.3                  r3.3.2_0    r',\n",
       " 'r-httr                    1.2.1                  r3.3.2_0    r',\n",
       " 'r-irdisplay               0.4.4                  r3.3.2_0    r',\n",
       " 'r-irkernel                0.7.1                  r3.3.2_0    r',\n",
       " 'r-iterators               1.0.8                  r3.3.2_0    r',\n",
       " 'r-jsonlite                1.1                    r3.3.2_0    r',\n",
       " 'r-kernsmooth              2.23_15                r3.3.2_0    r',\n",
       " 'r-knitr                   1.15.1                 r3.3.2_0    r',\n",
       " 'r-labeling                0.3                    r3.3.2_2    r',\n",
       " 'r-lattice                 0.20_34                r3.3.2_0    r',\n",
       " 'r-lazyeval                0.2.0                  r3.3.2_0    r',\n",
       " 'r-lme4                    1.1_12                 r3.3.2_0    r',\n",
       " 'r-lubridate               1.6.0                  r3.3.2_0    r',\n",
       " 'r-magrittr                1.5                    r3.3.2_2    r',\n",
       " 'r-maps                    3.1.1                  r3.3.2_0    r',\n",
       " 'r-markdown                0.7.7                  r3.3.2_2    r',\n",
       " 'r-mass                    7.3_45                 r3.3.2_0    r',\n",
       " 'r-matrix                  1.2_7.1                r3.3.2_0    r',\n",
       " 'r-matrixmodels            0.4_1                  r3.3.2_0    r',\n",
       " 'r-mgcv                    1.8_16                 r3.3.2_0    r',\n",
       " 'r-mime                    0.5                    r3.3.2_0    r',\n",
       " 'r-minqa                   1.2.4                  r3.3.2_2    r',\n",
       " 'r-mnormt                  1.5_5                  r3.3.2_0    r',\n",
       " 'r-modelmetrics            1.1.0                  r3.3.2_0    r',\n",
       " 'r-modelr                  0.1.0                  r3.3.2_0    r',\n",
       " 'r-munsell                 0.4.3                  r3.3.2_0    r',\n",
       " 'r-nlme                    3.1_128                r3.3.2_0    r',\n",
       " 'r-nloptr                  1.0.4                  r3.3.2_2    r',\n",
       " 'r-nnet                    7.3_12                 r3.3.2_0    r',\n",
       " 'r-openssl                 0.9.5                  r3.3.2_0    r',\n",
       " 'r-pbdzmq                  0.2_4                  r3.3.2_0    r',\n",
       " 'r-pbkrtest                0.4_6                  r3.3.2_0    r',\n",
       " 'r-plyr                    1.8.4                  r3.3.2_0    r',\n",
       " 'r-pryr                    0.1.2                  r3.3.2_0    r',\n",
       " 'r-psych                   1.6.9                  r3.3.2_0    r',\n",
       " 'r-purrr                   0.2.2                  r3.3.2_0    r',\n",
       " 'r-quantmod                0.4_7                  r3.3.2_0    r',\n",
       " 'r-quantreg                5.29                   r3.3.2_0    r',\n",
       " 'r-r6                      2.2.0                  r3.3.2_0    r',\n",
       " 'r-randomforest            4.6_12                 r3.3.2_0    r',\n",
       " 'r-rbokeh                  0.5.0                  r3.3.2_0    r',\n",
       " 'r-rcolorbrewer            1.1_2                  r3.3.2_3    r',\n",
       " 'r-rcpp                    0.12.8                 r3.3.2_0    r',\n",
       " 'r-rcppeigen               0.3.2.9.0              r3.3.2_0    r',\n",
       " 'r-readr                   1.0.0                  r3.3.2_0    r',\n",
       " 'r-readxl                  0.1.1                  r3.3.2_0    r',\n",
       " 'r-recommended             3.3.2                  r3.3.2_0    r',\n",
       " 'r-repr                    0.10                   r3.3.2_0    r',\n",
       " 'r-reshape2                1.4.2                  r3.3.2_0    r',\n",
       " 'r-rmarkdown               1.3                    r3.3.2_0    r',\n",
       " 'r-rpart                   4.1_10                 r3.3.2_0    r',\n",
       " 'r-rprojroot               1.1                    r3.3.2_0    r',\n",
       " 'r-rvest                   0.3.2                  r3.3.2_0    r',\n",
       " 'r-scales                  0.4.1                  r3.3.2_0    r',\n",
       " 'r-selectr                 0.3_0                  r3.3.2_0    r',\n",
       " 'r-shiny                   0.14.2                 r3.3.2_0    r',\n",
       " 'r-sourcetools             0.1.5                  r3.3.2_0    r',\n",
       " 'r-sparsem                 1.74                   r3.3.2_0    r',\n",
       " 'r-spatial                 7.3_11                 r3.3.2_0    r',\n",
       " 'r-stringi                 1.1.2                  r3.3.2_0    r',\n",
       " 'r-stringr                 1.1.0                  r3.3.2_0    r',\n",
       " 'r-survival                2.40_1                 r3.3.2_0    r',\n",
       " 'r-tibble                  1.2                    r3.3.2_0    r',\n",
       " 'r-tidyr                   0.6.0                  r3.3.2_0    r',\n",
       " 'r-tidyverse               1.0.0                  r3.3.2_0    r',\n",
       " 'r-ttr                     0.23_1                 r3.3.2_0    r',\n",
       " 'r-uuid                    0.1_2                  r3.3.2_0    r',\n",
       " 'r-xml2                    1.0.0                  r3.3.2_0    r',\n",
       " 'r-xtable                  1.8_2                  r3.3.2_0    r',\n",
       " 'r-xts                     0.9_7                  r3.3.2_2    r',\n",
       " 'r-yaml                    2.1.14                 r3.3.2_0    r',\n",
       " 'r-zoo                     1.7_13                 r3.3.2_0    r',\n",
       " 'readline                  6.2                           2  ',\n",
       " 'redis                     3.2.0                         0  ',\n",
       " 'redis-py                  2.10.5                   py36_0  ',\n",
       " 'requests                  2.13.0                   py36_0  ',\n",
       " 'rope                      0.9.4                    py36_1  ',\n",
       " 'rpy2                      2.8.5              py36r3.3.2_2  ',\n",
       " 'ruamel_yaml               0.11.14                  py36_1  ',\n",
       " 'scikit-image              0.13.0              np112py36_0  ',\n",
       " 'scikit-learn              0.18.1              np112py36_1  ',\n",
       " 'scipy                     0.19.0              np112py36_0  ',\n",
       " 'seaborn                   0.7.1                    py36_0  ',\n",
       " 'setuptools                27.2.0                   py36_0  ',\n",
       " 'simplegeneric             0.8.1                    py36_1  ',\n",
       " 'singledispatch            3.4.0.3                  py36_0  ',\n",
       " 'sip                       4.18                     py36_0  ',\n",
       " 'six                       1.10.0                   py36_0  ',\n",
       " 'snowballstemmer           1.2.1                    py36_0  ',\n",
       " 'sockjs-tornado            1.0.3                    py36_0  ',\n",
       " 'sphinx                    1.5.4                    py36_0  ',\n",
       " 'spyder                    3.1.3                    py36_0  ',\n",
       " 'sqlalchemy                1.1.9                    py36_0  ',\n",
       " 'sqlite                    3.13.0                        0  ',\n",
       " 'statsmodels               0.8.0               np112py36_0  ',\n",
       " 'sympy                     1.0                      py36_0  ',\n",
       " 'terminado                 0.6                      py36_0  ',\n",
       " 'testpath                  0.3                      py36_0  ',\n",
       " 'tk                        8.5.18                        0  ',\n",
       " 'toolz                     0.8.2                    py36_0  ',\n",
       " 'tornado                   4.4.2                    py36_0  ',\n",
       " 'traitlets                 4.3.2                    py36_0  ',\n",
       " 'unicodecsv                0.14.1                   py36_0  ',\n",
       " 'wcwidth                   0.1.7                    py36_0  ',\n",
       " 'werkzeug                  0.12.1                   py36_0  ',\n",
       " 'wheel                     0.29.0                   py36_0  ',\n",
       " 'widgetsnbextension        2.0.0                    py36_0  ',\n",
       " 'wrapt                     1.10.10                  py36_0  ',\n",
       " 'xgboost                   0.6a2                     <pip>',\n",
       " 'xlrd                      1.0.0                    py36_0  ',\n",
       " 'xlsxwriter                0.9.6                    py36_0  ',\n",
       " 'xlwt                      1.2.0                    py36_0  ',\n",
       " 'xz                        5.2.2                         1  ',\n",
       " 'yaml                      0.1.6                         0  ',\n",
       " 'yapf                      0.16.1                    <pip>',\n",
       " 'zeromq                    4.1.5                         0  ',\n",
       " 'zlib                      1.2.8                         3  ']"
      ]
     },
     "execution_count": 32,
     "metadata": {},
     "output_type": "execute_result"
    }
   ],
   "source": [
    "# check all packages in conda\n",
    "conda_packages = !conda list\n",
    "conda_packages"
   ]
  },
  {
   "cell_type": "code",
   "execution_count": 35,
   "metadata": {},
   "outputs": [
    {
     "data": {
      "text/plain": [
       "['alabaster==0.7.10',\n",
       " 'anaconda-client==1.6.3',\n",
       " 'anaconda-navigator==1.5.2',\n",
       " 'anaconda-project==0.4.1',\n",
       " 'astroid==1.4.9',\n",
       " 'astropy==1.3.2',\n",
       " 'Babel==2.4.0',\n",
       " 'backports.shutil-get-terminal-size==1.0.0',\n",
       " 'beautifulsoup4==4.5.3',\n",
       " 'bitarray==0.8.1',\n",
       " 'blaze==0.10.1',\n",
       " 'bleach==1.5.0',\n",
       " 'bokeh==0.12.5',\n",
       " 'boto==2.46.1',\n",
       " 'Bottleneck==1.2.0',\n",
       " 'cffi==1.9.1',\n",
       " 'chardet==3.0.2',\n",
       " 'chest==0.2.3',\n",
       " 'click==6.7',\n",
       " 'cloudpickle==0.2.2',\n",
       " 'clyent==1.2.2',\n",
       " 'colorama==0.3.7',\n",
       " 'conda==4.3.16',\n",
       " 'configobj==5.0.6',\n",
       " 'contextlib2==0.5.4',\n",
       " 'cryptography==1.7.1',\n",
       " 'cycler==0.10.0',\n",
       " 'Cython==0.25.2',\n",
       " 'cytoolz==0.8.2',\n",
       " 'dask==0.14.1',\n",
       " 'datashape==0.5.4',\n",
       " 'decorator==4.0.11',\n",
       " 'dill==0.2.6',\n",
       " 'docutils==0.13.1',\n",
       " 'entrypoints==0.2.2',\n",
       " 'et-xmlfile==1.0.1',\n",
       " 'fastcache==1.0.2',\n",
       " 'Flask==0.12.1',\n",
       " 'Flask-Cors==3.0.2',\n",
       " 'gevent==1.2.1',\n",
       " 'googletrans==2.1.2',\n",
       " 'greenlet==0.4.12',\n",
       " 'h5py==2.7.0',\n",
       " 'HeapDict==1.0.0',\n",
       " 'html5lib==0.999',\n",
       " 'idna==2.2',\n",
       " 'imagesize==0.7.1',\n",
       " 'ipykernel==4.6.1',\n",
       " 'ipython==6.0.0',\n",
       " 'ipython-genutils==0.2.0',\n",
       " 'ipywidgets==6.0.0',\n",
       " 'isort==4.2.5',\n",
       " 'itsdangerous==0.24',\n",
       " 'jdcal==1.3',\n",
       " 'jedi==0.9.0',\n",
       " 'Jinja2==2.9.6',\n",
       " 'jsonschema==2.6.0',\n",
       " 'jupyter==1.0.0',\n",
       " 'jupyter-client==5.0.1',\n",
       " 'jupyter-console==5.1.0',\n",
       " 'jupyter-contrib-core==0.3.1',\n",
       " 'jupyter-contrib-nbextensions==0.2.7',\n",
       " 'jupyter-core==4.3.0',\n",
       " 'jupyter-highlight-selected-word==0.0.11',\n",
       " 'jupyter-latex-envs==1.3.8.4',\n",
       " 'jupyter-nbextensions-configurator==0.2.4',\n",
       " 'lazy-object-proxy==1.2.2',\n",
       " 'lightgbm==0.1',\n",
       " 'llvmlite==0.17.0',\n",
       " 'locket==0.2.0',\n",
       " 'lxml==3.7.3',\n",
       " 'MarkupSafe==0.23',\n",
       " 'matplotlib==2.0.0',\n",
       " 'mistune==0.7.4',\n",
       " 'mpmath==0.19',\n",
       " 'multipledispatch==0.4.9',\n",
       " 'nbconvert==5.1.1',\n",
       " 'nbformat==4.3.0',\n",
       " 'networkx==1.11',\n",
       " 'nltk==3.2.2',\n",
       " 'nose==1.3.7',\n",
       " 'notebook==5.0.0',\n",
       " 'numba==0.32.0',\n",
       " 'numexpr==2.6.2',\n",
       " 'numpy==1.12.1',\n",
       " 'numpydoc==0.6.0',\n",
       " 'odo==0.5.0',\n",
       " 'olefile==0.44',\n",
       " 'openpyxl==2.4.1',\n",
       " 'pandas==0.19.2',\n",
       " 'pandocfilters==1.4.1',\n",
       " 'partd==0.3.7',\n",
       " 'pathlib2==2.2.1',\n",
       " 'patsy==0.4.1',\n",
       " 'pep8==1.7.0',\n",
       " 'pexpect==4.2.1',\n",
       " 'pickleshare==0.7.4',\n",
       " 'Pillow==4.1.0',\n",
       " 'plotly==1.12.9',\n",
       " 'ply==3.10',\n",
       " 'prompt-toolkit==1.0.14',\n",
       " 'psutil==5.2.2',\n",
       " 'ptyprocess==0.5.1',\n",
       " 'py==1.4.32',\n",
       " 'pyasn1==0.2.3',\n",
       " 'pycosat==0.6.2',\n",
       " 'pycparser==2.17',\n",
       " 'pycrypto==2.6.1',\n",
       " 'pycurl==7.43.0',\n",
       " 'pyflakes==1.5.0',\n",
       " 'Pygments==2.2.0',\n",
       " 'pylint==1.6.4',\n",
       " 'pyOpenSSL==16.2.0',\n",
       " 'pyparsing==2.1.4',\n",
       " 'pytest==3.0.7',\n",
       " 'python-dateutil==2.6.0',\n",
       " 'pytz==2017.2',\n",
       " 'PyWavelets==0.5.2',\n",
       " 'PyYAML==3.12',\n",
       " 'pyzmq==16.0.2',\n",
       " 'QtAwesome==0.4.4',\n",
       " 'qtconsole==4.3.0',\n",
       " 'QtPy==1.2.1',\n",
       " 'redis==2.10.5',\n",
       " 'requests==2.13.0',\n",
       " 'rope-py3k==0.9.4.post1',\n",
       " 'rpy2==2.8.5',\n",
       " 'scikit-image==0.13.0',\n",
       " 'scikit-learn==0.18.1',\n",
       " 'scipy==0.19.0',\n",
       " 'seaborn==0.7.1',\n",
       " 'simplegeneric==0.8.1',\n",
       " 'singledispatch==3.4.0.3',\n",
       " 'six==1.10.0',\n",
       " 'snowballstemmer==1.2.1',\n",
       " 'sockjs-tornado==1.0.3',\n",
       " 'Sphinx==1.5.4',\n",
       " 'spyder==3.1.3',\n",
       " 'SQLAlchemy==1.1.9',\n",
       " 'statsmodels==0.8.0',\n",
       " 'sympy==1.0',\n",
       " 'tables==3.3.0',\n",
       " 'terminado==0.6',\n",
       " 'testpath==0.3',\n",
       " 'toolz==0.8.2',\n",
       " 'tornado==4.4.2',\n",
       " 'traitlets==4.3.2',\n",
       " 'treetagger==1.0.1',\n",
       " 'unicodecsv==0.14.1',\n",
       " 'wcwidth==0.1.7',\n",
       " 'Werkzeug==0.12.1',\n",
       " 'widgetsnbextension==2.0.0',\n",
       " 'wrapt==1.10.10',\n",
       " 'xgboost==0.6a2',\n",
       " 'xlrd==1.0.0',\n",
       " 'XlsxWriter==0.9.6',\n",
       " 'xlwt==1.2.0',\n",
       " 'yapf==0.16.1']"
      ]
     },
     "execution_count": 35,
     "metadata": {},
     "output_type": "execute_result"
    }
   ],
   "source": [
    "# check packages in pip\n",
    "pip_packages = !pip freeze\n",
    "pip_packages"
   ]
  },
  {
   "cell_type": "code",
   "execution_count": 34,
   "metadata": {},
   "outputs": [
    {
     "name": "stdout",
     "output_type": "stream",
     "text": [
      "\n",
      "Please wait a moment while I gather a list of all available modules...\n",
      "\n",
      "AleUsefulFunctions  brain_qt            jupyter_highlight_selected_word scipy\n",
      "Crypto              brain_six           jupyter_nbextensions_configurator seaborn\n",
      "Cython              brain_ssl           keyword             secrets\n",
      "IPython             brain_stdlib        latex_envs          select\n",
      "OleFileIO_PL        bs4                 lazy_object_proxy   selectors\n",
      "OpenSSL             builtins            lib2to3             setuptools\n",
      "PIL                 bz2                 lightgbm            shelve\n",
      "PyQt5               cProfile            linecache           shlex\n",
      "__future__          calendar            llvmlite            shutil\n",
      "_ast                cffi                locale              signal\n",
      "_asyncio            cgi                 locket              simplegeneric\n",
      "_bisect             cgitb               logging             singledispatch\n",
      "_blake2             chardet             lxml                singledispatch_helpers\n",
      "_bootlocale         chest               lzma                sip\n",
      "_bz2                chunk               macpath             sipconfig\n",
      "_cffi_backend       click               macurl2path         sipdistutils\n",
      "_codecs             cloudpickle         mailbox             site\n",
      "_codecs_cn          clyent              mailcap             six\n",
      "_codecs_hk          cmath               markupsafe          skimage\n",
      "_codecs_iso2022     cmd                 marshal             sklearn\n",
      "_codecs_jp          code                math                smtpd\n",
      "_codecs_kr          codecs              matplotlib          smtplib\n",
      "_codecs_tw          codeop              mimetypes           sndhdr\n",
      "_collections        collections         mistune             snowballstemmer\n",
      "_collections_abc    colorama            mkl                 socket\n",
      "_compat_pickle      colorsys            mmap                socketserver\n",
      "_compression        compileall          modulefinder        sockjs\n",
      "_crypt              concurrent          mpl_toolkits        sphinx\n",
      "_csv                conda               mpmath              sphinxify\n",
      "_ctypes             conda_env           multipledispatch    spwd\n",
      "_ctypes_test        conf                multiprocessing     spyder\n",
      "_curses             configobj           nbconvert           spyder_breakpoints\n",
      "_curses_panel       configparser        nbformat            spyder_io_dcm\n",
      "_datetime           contextlib          netrc               spyder_io_hdf5\n",
      "_decimal            contextlib2         networkx            spyder_profiler\n",
      "_dummy_thread       copy                nis                 spyder_pylint\n",
      "_elementtree        copyreg             nltk                sqlalchemy\n",
      "_functools          crypt               nntplib             sqlite3\n",
      "_hashlib            cryptography        nose                sre_compile\n",
      "_heapq              csv                 notebook            sre_constants\n",
      "_imp                ctypes              ntpath              sre_parse\n",
      "_io                 curl                nturl2path          ssl\n",
      "_json               curses              numba               stat\n",
      "_license            cycler              numbers             statistics\n",
      "_locale             cython              numexpr             statsmodels\n",
      "_lsprof             cythonmagic         numpy               storemagic\n",
      "_lzma               cytoolz             numpydoc            string\n",
      "_markupbase         dask                odo                 stringprep\n",
      "_md5                datashape           olefile             struct\n",
      "_multibytecodec     datetime            opcode              subprocess\n",
      "_multiprocessing    dateutil            openpyxl            sunau\n",
      "_opcode             dbm                 operator            symbol\n",
      "_operator           decimal             optparse            sympy\n",
      "_osx_support        decorator           os                  sympyprinting\n",
      "_pickle             difflib             ossaudiodev         symtable\n",
      "_posixsubprocess    dill                pandas              sys\n",
      "_pydecimal          dis                 pandocfilters       sysconfig\n",
      "_pyio               distutils           parser              syslog\n",
      "_pytest             doctest             partd               tables\n",
      "_random             docutils            path                tabnanny\n",
      "_sha1               dummy_threading     pathlib             tarfile\n",
      "_sha256             easy_install        pathlib2            telnetlib\n",
      "_sha3               email               patsy               tempfile\n",
      "_sha512             encodings           pdb                 terminado\n",
      "_signal             entrypoints         pep8                termios\n",
      "_sitebuiltins       enum                pexpect             test_path\n",
      "_socket             errno               pickle              test_pycosat\n",
      "_sqlite3            et_xmlfile          pickleshare         testpath\n",
      "_sre                fastcache           pickletools         tests\n",
      "_ssl                faulthandler        pip                 textwrap\n",
      "_stat               fcntl               pipes               this\n",
      "_string             filecmp             pkg_resources       threading\n",
      "_strptime           fileinput           pkgutil             time\n",
      "_struct             flask               platform            timeit\n",
      "_symtable           flask_cors          plistlib            tkinter\n",
      "_sysconfigdata_m_linux_x86_64-linux-gnu fnmatch             plot_cluster_comparison tlz\n",
      "_testbuffer         formatter           plotly              token\n",
      "_testcapi           fractions           ply                 tokenize\n",
      "_testimportmultiple ftplib              poplib              toolz\n",
      "_testmultiphase     functools           posix               tornado\n",
      "_thread             gc                  posixpath           trace\n",
      "_threading_local    genericpath         pprint              traceback\n",
      "_tkinter            getopt              profile             tracemalloc\n",
      "_tracemalloc        getpass             prompt_toolkit      traitlets\n",
      "_version            gettext             pstats              treetagger\n",
      "_warnings           gevent              psutil              tty\n",
      "_weakref            glob                pty                 turtle\n",
      "_weakrefset         googletrans         ptyprocess          turtledemo\n",
      "_yaml               greenlet            pwd                 types\n",
      "abc                 grp                 py                  typing\n",
      "aifc                gzip                py_compile          unicodecsv\n",
      "alabaster           h5py                pyasn1              unicodedata\n",
      "anaconda_navigator  hashlib             pyclbr              unittest\n",
      "anaconda_project    heapdict            pycosat             urllib\n",
      "antigravity         heapq               pycparser           uu\n",
      "argparse            hmac                pycurl              uuid\n",
      "array               html                pydoc               validate\n",
      "ast                 html5lib            pydoc_data          venv\n",
      "astroid             http                pyexpat             warnings\n",
      "astropy             idlelib             pyflakes            wave\n",
      "asynchat            idna                pygments            wcwidth\n",
      "asyncio             imagesize           pylab               weakref\n",
      "asyncore            imaplib             pylint              webbrowser\n",
      "atexit              imghdr              pyparsing           werkzeug\n",
      "audioop             imp                 pytest              wheel\n",
      "autoreload          importlib           pytz                widgetsnbextension\n",
      "babel               inspect             pywt                wrapt\n",
      "backports           io                  pyximport           wsgiref\n",
      "base64              ipaddress           qtawesome           xdrlib\n",
      "bdb                 ipykernel           qtconsole           xgboost\n",
      "binascii            ipykernel_launcher  qtpy                xlrd\n",
      "binhex              ipython_genutils    queue               xlsxwriter\n",
      "binstar_client      ipywidgets          quopri              xlwt\n",
      "bisect              isort               random              xml\n",
      "bitarray            itertools           re                  xmlrpc\n",
      "blaze               itsdangerous        readline            xxlimited\n",
      "bleach              jdcal               redis               xxsubtype\n",
      "bokeh               jedi                reprlib             yaml\n",
      "boto                jinja2              requests            yapf\n",
      "bottleneck          json                resource            yapftests\n",
      "brain_builtin_inference jsonschema          rlcompleter         zipapp\n",
      "brain_dateutil      jupyter             rmagic              zipfile\n",
      "brain_gi            jupyter_client      rope                zipimport\n",
      "brain_mechanize     jupyter_console     rpy2                zlib\n",
      "brain_nose          jupyter_contrib_core ruamel_yaml         zmq\n",
      "brain_numpy         jupyter_contrib_nbextensions runpy               \n",
      "brain_pytest        jupyter_core        sched               \n",
      "\n",
      "Enter any module name to get more help.  Or, type \"modules spam\" to search\n",
      "for modules whose name or summary contain the string \"spam\".\n",
      "\n"
     ]
    }
   ],
   "source": [
    "## check which module are in python\n",
    "help('modules')"
   ]
  },
  {
   "cell_type": "markdown",
   "metadata": {
    "collapsed": true
   },
   "source": [
    "### change jupyter-theme\n",
    "- https://github.com/dunovank/jupyter-themes"
   ]
  },
  {
   "cell_type": "code",
   "execution_count": 9,
   "metadata": {
    "scrolled": true
   },
   "outputs": [
    {
     "name": "stdout",
     "output_type": "stream",
     "text": [
      "Collecting jupyterthemes\n",
      "  Downloading jupyterthemes-0.16.4-py2.py3-none-any.whl (6.0MB)\n",
      "\u001b[K    100% |████████████████████████████████| 6.0MB 191kB/s ta 0:00:01\n",
      "\u001b[?25hCollecting lesscpy>=0.12.0 (from jupyterthemes)\n",
      "  Downloading lesscpy-0.12.0-py2.py3-none-any.whl (48kB)\n",
      "\u001b[K    100% |████████████████████████████████| 51kB 171kB/s ta 0:00:01\n",
      "\u001b[?25hRequirement already up-to-date: jupyter-core in /home/ale/anaconda3/lib/python3.6/site-packages (from jupyterthemes)\n",
      "Requirement already up-to-date: seaborn in /home/ale/anaconda3/lib/python3.6/site-packages (from jupyterthemes)\n",
      "Requirement already up-to-date: jupyter in /home/ale/anaconda3/lib/python3.6/site-packages (from jupyterthemes)\n",
      "Collecting ipython<6.0 (from jupyterthemes)\n",
      "  Downloading ipython-5.4.1-py3-none-any.whl (757kB)\n",
      "\u001b[K    100% |████████████████████████████████| 757kB 234kB/s ta 0:00:01\n",
      "\u001b[?25hRequirement already up-to-date: ply in /home/ale/anaconda3/lib/python3.6/site-packages (from lesscpy>=0.12.0->jupyterthemes)\n",
      "Requirement already up-to-date: six in /home/ale/anaconda3/lib/python3.6/site-packages (from lesscpy>=0.12.0->jupyterthemes)\n",
      "Requirement already up-to-date: pexpect; sys_platform != \"win32\" in /home/ale/anaconda3/lib/python3.6/site-packages (from ipython<6.0->jupyterthemes)\n",
      "Requirement already up-to-date: traitlets>=4.2 in /home/ale/anaconda3/lib/python3.6/site-packages (from ipython<6.0->jupyterthemes)\n",
      "Requirement already up-to-date: decorator in /home/ale/anaconda3/lib/python3.6/site-packages (from ipython<6.0->jupyterthemes)\n",
      "Requirement already up-to-date: prompt-toolkit<2.0.0,>=1.0.4 in /home/ale/anaconda3/lib/python3.6/site-packages (from ipython<6.0->jupyterthemes)\n",
      "Requirement already up-to-date: pickleshare in /home/ale/anaconda3/lib/python3.6/site-packages (from ipython<6.0->jupyterthemes)\n",
      "Collecting setuptools>=18.5 (from ipython<6.0->jupyterthemes)\n",
      "  Downloading setuptools-36.0.1-py2.py3-none-any.whl (476kB)\n",
      "\u001b[K    100% |████████████████████████████████| 481kB 205kB/s ta 0:00:01\n",
      "\u001b[?25hRequirement already up-to-date: simplegeneric>0.8 in /home/ale/anaconda3/lib/python3.6/site-packages (from ipython<6.0->jupyterthemes)\n",
      "Requirement already up-to-date: pygments in /home/ale/anaconda3/lib/python3.6/site-packages (from ipython<6.0->jupyterthemes)\n",
      "Requirement already up-to-date: wcwidth in /home/ale/anaconda3/lib/python3.6/site-packages (from prompt-toolkit<2.0.0,>=1.0.4->ipython<6.0->jupyterthemes)\n",
      "Installing collected packages: lesscpy, setuptools, ipython, jupyterthemes\n",
      "  Found existing installation: setuptools 27.2.0\n",
      "    Uninstalling setuptools-27.2.0:\n",
      "      Successfully uninstalled setuptools-27.2.0\n",
      "  Found existing installation: ipython 5.3.0\n",
      "\u001b[31m    DEPRECATION: Uninstalling a distutils installed project (ipython) has been deprecated and will be removed in a future version. This is due to the fact that uninstalling a distutils project will only partially uninstall the project.\u001b[0m\n",
      "    Uninstalling ipython-5.3.0:\n",
      "      Successfully uninstalled ipython-5.3.0\n",
      "Successfully installed ipython-5.4.1 jupyterthemes-0.16.4 lesscpy-0.12.0 setuptools-36.0.1\n",
      "Traceback (most recent call last):\n",
      "  File \"/home/ale/anaconda3/bin/pip\", line 6, in <module>\n",
      "    sys.exit(pip.main())\n",
      "  File \"/home/ale/anaconda3/lib/python3.6/site-packages/pip/__init__.py\", line 249, in main\n",
      "    return command.main(cmd_args)\n",
      "  File \"/home/ale/anaconda3/lib/python3.6/site-packages/pip/basecommand.py\", line 252, in main\n",
      "    pip_version_check(session)\n",
      "  File \"/home/ale/anaconda3/lib/python3.6/site-packages/pip/utils/outdated.py\", line 102, in pip_version_check\n",
      "    installed_version = get_installed_version(\"pip\")\n",
      "  File \"/home/ale/anaconda3/lib/python3.6/site-packages/pip/utils/__init__.py\", line 838, in get_installed_version\n",
      "    working_set = pkg_resources.WorkingSet()\n",
      "  File \"/home/ale/anaconda3/lib/python3.6/site-packages/pip/_vendor/pkg_resources/__init__.py\", line 644, in __init__\n",
      "    self.add_entry(entry)\n",
      "  File \"/home/ale/anaconda3/lib/python3.6/site-packages/pip/_vendor/pkg_resources/__init__.py\", line 700, in add_entry\n",
      "    for dist in find_distributions(entry, True):\n",
      "  File \"/home/ale/anaconda3/lib/python3.6/site-packages/pip/_vendor/pkg_resources/__init__.py\", line 1949, in find_eggs_in_zip\n",
      "    if metadata.has_metadata('PKG-INFO'):\n",
      "  File \"/home/ale/anaconda3/lib/python3.6/site-packages/pip/_vendor/pkg_resources/__init__.py\", line 1463, in has_metadata\n",
      "    return self.egg_info and self._has(self._fn(self.egg_info, name))\n",
      "  File \"/home/ale/anaconda3/lib/python3.6/site-packages/pip/_vendor/pkg_resources/__init__.py\", line 1823, in _has\n",
      "    return zip_path in self.zipinfo or zip_path in self._index()\n",
      "  File \"/home/ale/anaconda3/lib/python3.6/site-packages/pip/_vendor/pkg_resources/__init__.py\", line 1703, in zipinfo\n",
      "    return self._zip_manifests.load(self.loader.archive)\n",
      "  File \"/home/ale/anaconda3/lib/python3.6/site-packages/pip/_vendor/pkg_resources/__init__.py\", line 1643, in load\n",
      "    mtime = os.stat(path).st_mtime\n",
      "FileNotFoundError: [Errno 2] No such file or directory: '/home/ale/anaconda3/lib/python3.6/site-packages/setuptools-27.2.0-py3.6.egg'\n"
     ]
    }
   ],
   "source": [
    "!pip install --upgrade jupyterthemes"
   ]
  },
  {
   "cell_type": "code",
   "execution_count": 10,
   "metadata": {},
   "outputs": [
    {
     "name": "stdout",
     "output_type": "stream",
     "text": [
      "Available Themes: \r\n",
      "   chesterish\r\n",
      "   grade3\r\n",
      "   monokai\r\n",
      "   oceans16\r\n",
      "   onedork\r\n",
      "   solarizedd\r\n",
      "   solarizedl\r\n"
     ]
    }
   ],
   "source": [
    "!jt -l  # list all theme you can access"
   ]
  },
  {
   "cell_type": "code",
   "execution_count": 11,
   "metadata": {
    "collapsed": true
   },
   "outputs": [],
   "source": [
    "!jt -t oceans16 # set a theme"
   ]
  },
  {
   "cell_type": "code",
   "execution_count": null,
   "metadata": {
    "collapsed": true
   },
   "outputs": [],
   "source": [
    "!jt -t grade3"
   ]
  },
  {
   "cell_type": "code",
   "execution_count": 2,
   "metadata": {
    "ExecuteTime": {
     "end_time": "2017-07-04T21:03:28.630124Z",
     "start_time": "2017-07-04T21:03:28.053111Z"
    }
   },
   "outputs": [
    {
     "name": "stdout",
     "output_type": "stream",
     "text": [
      "Reset css and font defaults in:\r\n",
      "/home/ale/.jupyter/custom &\r\n",
      "/home/ale/.local/share/jupyter/nbextensions\r\n"
     ]
    }
   ],
   "source": [
    "!jt -r # restore previous theme"
   ]
  },
  {
   "cell_type": "code",
   "execution_count": null,
   "metadata": {
    "collapsed": true
   },
   "outputs": [],
   "source": []
  },
  {
   "cell_type": "code",
   "execution_count": 3,
   "metadata": {
    "ExecuteTime": {
     "end_time": "2017-07-04T21:03:44.629796Z",
     "start_time": "2017-07-04T21:03:44.285280Z"
    }
   },
   "outputs": [
    {
     "data": {
      "image/jpeg": "[encoded data removed]",
      "text/html": [
       "\n",
       "        <iframe\n",
       "            width=\"400\"\n",
       "            height=\"300\"\n",
       "            src=\"https://www.youtube.com/embed/yH-7XWLm_Po\"\n",
       "            frameborder=\"0\"\n",
       "            allowfullscreen\n",
       "        ></iframe>\n",
       "        "
      ],
      "text/plain": [
       "<IPython.lib.display.YouTubeVideo at 0x7f429f27e908>"
      ]
     },
     "execution_count": 3,
     "metadata": {},
     "output_type": "execute_result"
    }
   ],
   "source": [
    "from IPython.display import YouTubeVideo, display\n",
    "YouTubeVideo(\"yH-7XWLm_Po\")\n",
    "# vid = YouTubeVideo(\"yH-7XWLm_Po\")\n",
    "# display(vid)"
   ]
  },
  {
   "cell_type": "code",
   "execution_count": null,
   "metadata": {
    "collapsed": true
   },
   "outputs": [],
   "source": []
  }
 ],
 "metadata": {
  "kernelspec": {
   "display_name": "Python 3",
   "language": "python",
   "name": "python3"
  },
  "language_info": {
   "codemirror_mode": {
    "name": "ipython",
    "version": 3
   },
   "file_extension": ".py",
   "mimetype": "text/x-python",
   "name": "python",
   "nbconvert_exporter": "python",
   "pygments_lexer": "ipython3",
   "version": "3.6.1"
  },
  "toc": {
   "colors": {
    "hover_highlight": "#DAA520",
    "navigate_num": "#000000",
    "navigate_text": "#333333",
    "running_highlight": "#FF0000",
    "selected_highlight": "#FFD700",
    "sidebar_border": "#EEEEEE",
    "wrapper_background": "#FFFFFF"
   },
   "moveMenuLeft": true,
   "nav_menu": {
    "height": "115px",
    "width": "254px"
   },
   "navigate_menu": true,
   "number_sections": true,
   "sideBar": true,
   "threshold": 4,
   "toc_cell": true,
   "toc_position": {
    "height": "806px",
    "left": "0px",
    "right": "20px",
    "top": "72px",
    "width": "212px"
   },
   "toc_section_display": "block",
   "toc_window_display": true,
   "widenNotebook": false
  }
 },
 "nbformat": 4,
 "nbformat_minor": 2
}
