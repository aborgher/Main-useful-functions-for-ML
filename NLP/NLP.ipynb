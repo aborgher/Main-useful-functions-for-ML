{
 "cells": [
  {
   "cell_type": "markdown",
   "metadata": {
    "toc": "true"
   },
   "source": [
    "# Table of Contents\n",
    " <p><div class=\"lev1 toc-item\"><a href=\"#Correction-with-enchant\" data-toc-modified-id=\"Correction-with-enchant-1\"><span class=\"toc-item-num\">1&nbsp;&nbsp;</span>Correction with enchant</a></div><div class=\"lev2 toc-item\"><a href=\"#Add-your-own-dictionary\" data-toc-modified-id=\"Add-your-own-dictionary-11\"><span class=\"toc-item-num\">1.1&nbsp;&nbsp;</span>Add your own dictionary</a></div><div class=\"lev2 toc-item\"><a href=\"#check-entire-phrase\" data-toc-modified-id=\"check-entire-phrase-12\"><span class=\"toc-item-num\">1.2&nbsp;&nbsp;</span>check entire phrase</a></div><div class=\"lev2 toc-item\"><a href=\"#tokenization\" data-toc-modified-id=\"tokenization-13\"><span class=\"toc-item-num\">1.3&nbsp;&nbsp;</span>tokenization</a></div><div class=\"lev1 toc-item\"><a href=\"#Word2vec\" data-toc-modified-id=\"Word2vec-2\"><span class=\"toc-item-num\">2&nbsp;&nbsp;</span>Word2vec</a></div><div class=\"lev1 toc-item\"><a href=\"#Translate-using-google-translate\" data-toc-modified-id=\"Translate-using-google-translate-3\"><span class=\"toc-item-num\">3&nbsp;&nbsp;</span>Translate using google translate</a></div><div class=\"lev1 toc-item\"><a href=\"#TreeTagger-usage-to-tag-an-italian-(or-other-languages)-sentence\" data-toc-modified-id=\"TreeTagger-usage-to-tag-an-italian-(or-other-languages)-sentence-4\"><span class=\"toc-item-num\">4&nbsp;&nbsp;</span>TreeTagger usage to tag an italian (or other languages) sentence</a></div>"
   ]
  },
  {
   "cell_type": "markdown",
   "metadata": {},
   "source": [
    "# Correction with enchant\n",
    "- install via pip install pyenchant\n",
    "- add ita dictionary: sudo apt-get install myspell-it myspell-es\n",
    "- Tutorial at: http://pythonhosted.org/pyenchant/tutorial.html"
   ]
  },
  {
   "cell_type": "code",
   "execution_count": 4,
   "metadata": {
    "ExecuteTime": {
     "end_time": "2017-09-10T17:48:25.181556Z",
     "start_time": "2017-09-10T17:48:25.176205Z"
    },
    "collapsed": true
   },
   "outputs": [],
   "source": [
    "import enchant"
   ]
  },
  {
   "cell_type": "code",
   "execution_count": 5,
   "metadata": {
    "ExecuteTime": {
     "end_time": "2017-09-10T17:48:25.414030Z",
     "start_time": "2017-09-10T17:48:25.394781Z"
    }
   },
   "outputs": [
    {
     "name": "stdout",
     "output_type": "stream",
     "text": [
      "[<Enchant: Aspell Provider>, <Enchant: Ispell Provider>, <Enchant: Hspell Provider>, <Enchant: Myspell Provider>]\n"
     ]
    },
    {
     "data": {
      "text/plain": [
       "[('en', <Enchant: Aspell Provider>),\n",
       " ('en_CA', <Enchant: Aspell Provider>),\n",
       " ('en_GB', <Enchant: Aspell Provider>),\n",
       " ('en_US', <Enchant: Aspell Provider>),\n",
       " ('es_MX', <Enchant: Myspell Provider>),\n",
       " ('es_BO', <Enchant: Myspell Provider>),\n",
       " ('es_CO', <Enchant: Myspell Provider>),\n",
       " ('es_VE', <Enchant: Myspell Provider>),\n",
       " ('es_UY', <Enchant: Myspell Provider>),\n",
       " ('es_PR', <Enchant: Myspell Provider>),\n",
       " ('es_EC', <Enchant: Myspell Provider>),\n",
       " ('es_CU', <Enchant: Myspell Provider>),\n",
       " ('es_ES', <Enchant: Myspell Provider>),\n",
       " ('es_PA', <Enchant: Myspell Provider>),\n",
       " ('es_NI', <Enchant: Myspell Provider>),\n",
       " ('es_CR', <Enchant: Myspell Provider>),\n",
       " ('es_PE', <Enchant: Myspell Provider>),\n",
       " ('it_CH', <Enchant: Myspell Provider>),\n",
       " ('es_GT', <Enchant: Myspell Provider>),\n",
       " ('es_PY', <Enchant: Myspell Provider>),\n",
       " ('es_SV', <Enchant: Myspell Provider>),\n",
       " ('it_IT', <Enchant: Myspell Provider>),\n",
       " ('es_HN', <Enchant: Myspell Provider>),\n",
       " ('es_CL', <Enchant: Myspell Provider>),\n",
       " ('es', <Enchant: Myspell Provider>),\n",
       " ('es_DO', <Enchant: Myspell Provider>),\n",
       " ('es_AR', <Enchant: Myspell Provider>)]"
      ]
     },
     "execution_count": 5,
     "metadata": {},
     "output_type": "execute_result"
    }
   ],
   "source": [
    "# The underlying programming model provided by the Enchant library is based on the notion of Providers. \n",
    "# A provider is a piece of code that provides spell-checking services which Enchant can use to perform its work. \n",
    "# Different providers exist for performing spellchecking using different frameworks - \n",
    "# for example there is an aspell provider and a MySpell provider.\n",
    "## no need to check brokers while running enchant, this is just a simple check if all is installed\n",
    "b = enchant.Broker()\n",
    "print(b.describe())\n",
    "b.list_dicts()"
   ]
  },
  {
   "cell_type": "code",
   "execution_count": 6,
   "metadata": {
    "ExecuteTime": {
     "end_time": "2017-09-10T17:48:25.637512Z",
     "start_time": "2017-09-10T17:48:25.632151Z"
    }
   },
   "outputs": [
    {
     "data": {
      "text/plain": [
       "['en',\n",
       " 'en_CA',\n",
       " 'en_GB',\n",
       " 'en_US',\n",
       " 'es_MX',\n",
       " 'es_BO',\n",
       " 'es_CO',\n",
       " 'es_VE',\n",
       " 'es_UY',\n",
       " 'es_PR',\n",
       " 'es_EC',\n",
       " 'es_CU',\n",
       " 'es_ES',\n",
       " 'es_PA',\n",
       " 'es_NI',\n",
       " 'es_CR',\n",
       " 'es_PE',\n",
       " 'it_CH',\n",
       " 'es_GT',\n",
       " 'es_PY',\n",
       " 'es_SV',\n",
       " 'it_IT',\n",
       " 'es_HN',\n",
       " 'es_CL',\n",
       " 'es',\n",
       " 'es_DO',\n",
       " 'es_AR']"
      ]
     },
     "execution_count": 6,
     "metadata": {},
     "output_type": "execute_result"
    }
   ],
   "source": [
    "enchant.list_languages()"
   ]
  },
  {
   "cell_type": "code",
   "execution_count": 7,
   "metadata": {
    "ExecuteTime": {
     "end_time": "2017-09-10T17:48:25.940169Z",
     "start_time": "2017-09-10T17:48:25.889089Z"
    },
    "collapsed": true
   },
   "outputs": [],
   "source": [
    "d = enchant.Dict(\"it_IT\")"
   ]
  },
  {
   "cell_type": "code",
   "execution_count": 8,
   "metadata": {
    "ExecuteTime": {
     "end_time": "2017-09-10T17:48:26.218189Z",
     "start_time": "2017-09-10T17:48:26.211713Z"
    }
   },
   "outputs": [
    {
     "data": {
      "text/plain": [
       "(True, False)"
      ]
     },
     "execution_count": 8,
     "metadata": {},
     "output_type": "execute_result"
    }
   ],
   "source": [
    "d.check('Giulia'), d.check('pappapero')"
   ]
  },
  {
   "cell_type": "code",
   "execution_count": 9,
   "metadata": {
    "ExecuteTime": {
     "end_time": "2017-09-10T17:48:27.494775Z",
     "start_time": "2017-09-10T17:48:26.786285Z"
    }
   },
   "outputs": [
    {
     "name": "stdout",
     "output_type": "stream",
     "text": [
      "['potrei ma', 'potrei-ma', 'potrei', 'impomatare']\n",
      "['marame', 'marea', 'maremma', 'Carema', 'ma rema', 'ma-rema', 'mare ma', 'mare-ma', 'Maremma', 'remare', 'remar', 'mare']\n",
      "[]\n",
      "['vanno', 'vano']\n",
      "['duellatole']\n"
     ]
    }
   ],
   "source": [
    "print( d.suggest(\"potreima\") )\n",
    "print( d.suggest(\"marema\") )\n",
    "print( d.suggest(\"se metto troppe parole lo impallo\") )\n",
    "print( d.suggest(\"van no\") )\n",
    "print( d.suggest(\"due parole\") )"
   ]
  },
  {
   "cell_type": "markdown",
   "metadata": {},
   "source": [
    "## Add your own dictionary"
   ]
  },
  {
   "cell_type": "code",
   "execution_count": 10,
   "metadata": {
    "ExecuteTime": {
     "end_time": "2017-09-10T17:48:29.255316Z",
     "start_time": "2017-09-10T17:48:29.250484Z"
    }
   },
   "outputs": [],
   "source": [
    "# Dict objects can also be used to check words against a custom list of correctly-spelled words \n",
    "# known as a Personal Word List. This is simply a file listing the words to be considered, one word per line. \n",
    "# The following example creates a Dict object for the personal word list stored in “mywords.txt”:\n",
    "pwl = enchant.request_pwl_dict(\"../../Data_nlp/mywords.txt\")"
   ]
  },
  {
   "cell_type": "code",
   "execution_count": 11,
   "metadata": {
    "ExecuteTime": {
     "end_time": "2017-09-10T17:48:30.376967Z",
     "start_time": "2017-09-10T17:48:30.370225Z"
    }
   },
   "outputs": [
    {
     "data": {
      "text/plain": [
       "(False, [], False)"
      ]
     },
     "execution_count": 11,
     "metadata": {},
     "output_type": "execute_result"
    }
   ],
   "source": [
    "pwl.check('pappapero'), pwl.suggest('cittin'), pwl.check('altro')"
   ]
  },
  {
   "cell_type": "code",
   "execution_count": 12,
   "metadata": {
    "ExecuteTime": {
     "end_time": "2017-09-10T17:48:34.480974Z",
     "start_time": "2017-09-10T17:48:34.474728Z"
    },
    "collapsed": true
   },
   "outputs": [],
   "source": [
    "# PyEnchant also provides the class DictWithPWL which can be used to combine a language dictionary \n",
    "# and a personal word list file:\n",
    "d2 = enchant.DictWithPWL(\"it_IT\", \"../../Data_nlp/mywords.txt\")"
   ]
  },
  {
   "cell_type": "code",
   "execution_count": 13,
   "metadata": {
    "ExecuteTime": {
     "end_time": "2017-09-10T17:48:35.012848Z",
     "start_time": "2017-09-10T17:48:34.967940Z"
    }
   },
   "outputs": [
    {
     "data": {
      "text/plain": [
       "(False, ['cittadino'])"
      ]
     },
     "execution_count": 13,
     "metadata": {},
     "output_type": "execute_result"
    }
   ],
   "source": [
    "d2.check('altro') & d2.check('pappapero'), d2.suggest('cittin')"
   ]
  },
  {
   "cell_type": "code",
   "execution_count": 14,
   "metadata": {
    "ExecuteTime": {
     "end_time": "2017-09-10T17:48:36.259445Z",
     "start_time": "2017-09-10T17:48:35.282700Z"
    }
   },
   "outputs": [
    {
     "name": "stdout",
     "output_type": "stream",
     "text": [
      "10 loops, best of 3: 22.6 ms per loop\n"
     ]
    }
   ],
   "source": [
    "%%timeit\n",
    "d2.suggest('poliza')"
   ]
  },
  {
   "cell_type": "markdown",
   "metadata": {},
   "source": [
    "## check entire phrase"
   ]
  },
  {
   "cell_type": "code",
   "execution_count": 15,
   "metadata": {
    "ExecuteTime": {
     "end_time": "2017-09-10T17:48:37.304258Z",
     "start_time": "2017-09-10T17:48:37.300409Z"
    },
    "collapsed": true
   },
   "outputs": [],
   "source": [
    "from enchant.checker import SpellChecker\n",
    "chkr = SpellChecker(\"it_IT\")"
   ]
  },
  {
   "cell_type": "code",
   "execution_count": 16,
   "metadata": {
    "ExecuteTime": {
     "end_time": "2017-09-10T17:48:37.812318Z",
     "start_time": "2017-09-10T17:48:37.736452Z"
    }
   },
   "outputs": [
    {
     "name": "stdout",
     "output_type": "stream",
     "text": [
      "picclo\n",
      "['picco', 'piccolo', 'picciolo', 'epiciclo', 'ciclopico']\n",
      "esmpio\n",
      "['espio', 'empio', 'esempio']\n"
     ]
    }
   ],
   "source": [
    "chkr.set_text(\"questo è un picclo esmpio per dire cm funziona\")\n",
    "for err in chkr:\n",
    "    print(err.word)\n",
    "    print(chkr.suggest(err.word))"
   ]
  },
  {
   "cell_type": "code",
   "execution_count": 17,
   "metadata": {
    "ExecuteTime": {
     "end_time": "2017-09-10T17:48:38.270196Z",
     "start_time": "2017-09-10T17:48:38.263875Z"
    }
   },
   "outputs": [
    {
     "name": "stdout",
     "output_type": "stream",
     "text": [
      "esmpio 19\n"
     ]
    }
   ],
   "source": [
    "print(chkr.word, chkr.wordpos)"
   ]
  },
  {
   "cell_type": "code",
   "execution_count": 18,
   "metadata": {
    "ExecuteTime": {
     "end_time": "2017-09-10T17:48:38.992186Z",
     "start_time": "2017-09-10T17:48:38.984314Z"
    }
   },
   "outputs": [
    {
     "data": {
      "text/plain": [
       "'questo è un picclo pippo per dire cm funziona'"
      ]
     },
     "execution_count": 18,
     "metadata": {},
     "output_type": "execute_result"
    }
   ],
   "source": [
    "chkr.replace('pippo')\n",
    "chkr.get_text()"
   ]
  },
  {
   "cell_type": "markdown",
   "metadata": {},
   "source": [
    "## tokenization\n",
    "As explained above, the module enchant.tokenize provides the ability to split text into its component words. The current implementation is based only on the rules for the English language, and so might not be completely suitable for your language of choice. Fortunately, it is straightforward to extend the functionality of this module.\n",
    "\n",
    "To implement a new tokenization routine for the language TAG, simply create a class/function “tokenize” within the module “enchant.tokenize.TAG”. This function will automatically be detected by the module’s get_tokenizer function and used when appropriate. The easiest way to accomplish this is to copy the module “enchant.tokenize.en” and modify it to suit your needs."
   ]
  },
  {
   "cell_type": "code",
   "execution_count": 19,
   "metadata": {
    "ExecuteTime": {
     "end_time": "2017-09-10T17:48:40.488304Z",
     "start_time": "2017-09-10T17:48:40.484465Z"
    }
   },
   "outputs": [
    {
     "data": {
      "text/plain": [
       "[('this', 0), ('is', 5), ('some', 8), ('simple', 13), ('text', 20)]"
      ]
     },
     "execution_count": 19,
     "metadata": {},
     "output_type": "execute_result"
    }
   ],
   "source": [
    "from enchant.tokenize import get_tokenizer\n",
    "tknzr = get_tokenizer(\"en_US\") # not tak for it_IT up to now\n",
    "[w for w in tknzr(\"this is some simple text\")]"
   ]
  },
  {
   "cell_type": "code",
   "execution_count": 20,
   "metadata": {
    "ExecuteTime": {
     "end_time": "2017-09-10T17:48:40.853482Z",
     "start_time": "2017-09-10T17:48:40.843168Z"
    }
   },
   "outputs": [
    {
     "data": {
      "text/plain": [
       "[('this', 0),\n",
       " ('is', 5),\n",
       " ('span', 9),\n",
       " ('class', 14),\n",
       " ('important', 21),\n",
       " ('really', 32),\n",
       " ('important', 39),\n",
       " ('span', 50),\n",
       " ('text', 56)]"
      ]
     },
     "execution_count": 20,
     "metadata": {},
     "output_type": "execute_result"
    }
   ],
   "source": [
    "from enchant.tokenize import get_tokenizer, HTMLChunker\n",
    "tknzr = get_tokenizer(\"en_US\")\n",
    "[w for w in tknzr(\"this is <span class='important'>really important</span> text\")]"
   ]
  },
  {
   "cell_type": "code",
   "execution_count": 28,
   "metadata": {
    "ExecuteTime": {
     "end_time": "2017-09-10T12:50:57.403831Z",
     "start_time": "2017-09-10T12:50:57.399961Z"
    }
   },
   "outputs": [
    {
     "data": {
      "text/plain": [
       "[('this', 0), ('is', 5), ('really', 32), ('important', 39), ('text', 56)]"
      ]
     },
     "execution_count": 28,
     "metadata": {},
     "output_type": "execute_result"
    }
   ],
   "source": [
    "tknzr = get_tokenizer(\"en_US\",chunkers=(HTMLChunker,))\n",
    "[w for w in tknzr(\"this is <span class='important'>really important</span> text\")]"
   ]
  },
  {
   "cell_type": "code",
   "execution_count": 21,
   "metadata": {
    "ExecuteTime": {
     "end_time": "2017-09-10T17:48:42.088249Z",
     "start_time": "2017-09-10T17:48:42.084411Z"
    }
   },
   "outputs": [
    {
     "data": {
      "text/plain": [
       "[('send', 0),\n",
       " ('an', 5),\n",
       " ('email', 8),\n",
       " ('to', 14),\n",
       " ('fake', 17),\n",
       " ('example', 22),\n",
       " ('com', 30),\n",
       " ('please', 34)]"
      ]
     },
     "execution_count": 21,
     "metadata": {},
     "output_type": "execute_result"
    }
   ],
   "source": [
    "from enchant.tokenize import get_tokenizer, EmailFilter\n",
    "tknzr = get_tokenizer(\"en_US\")\n",
    "[w for w in tknzr(\"send an email to fake@example.com please\")]"
   ]
  },
  {
   "cell_type": "code",
   "execution_count": 22,
   "metadata": {
    "ExecuteTime": {
     "end_time": "2017-09-10T17:48:42.531541Z",
     "start_time": "2017-09-10T17:48:42.520173Z"
    }
   },
   "outputs": [
    {
     "data": {
      "text/plain": [
       "[('send', 0), ('an', 5), ('email', 8), ('to', 14), ('please', 34)]"
      ]
     },
     "execution_count": 22,
     "metadata": {},
     "output_type": "execute_result"
    }
   ],
   "source": [
    "tknzr = get_tokenizer(\"en_US\", filters = [EmailFilter])\n",
    "[w for w in tknzr(\"send an email to fake@example.com please\")]"
   ]
  },
  {
   "cell_type": "markdown",
   "metadata": {},
   "source": [
    "Other modules:\n",
    "- CmdLineChecker\n",
    "\n",
    "The module enchant.checker.CmdLineChecker provides the class CmdLineChecker which can be used to interactively check the spelling of some text. It uses standard input and standard output to interact with the user through a command-line interface. The code below shows how to create and use this class from within a python application, along with a short sample checking session:\n",
    "\n",
    "- wxSpellCheckerDialog\n",
    "\n",
    "The module enchant.checker.wxSpellCheckerDialog provides the class wxSpellCheckerDialog which can be used to interactively check the spelling of some text. The code below shows how to create and use such a dialog from within a wxPython application."
   ]
  },
  {
   "cell_type": "markdown",
   "metadata": {},
   "source": [
    "# Word2vec\n",
    "- pip install gensim\n",
    "- pip install pyemd\n",
    "- https://radimrehurek.com/gensim/models/word2vec.html"
   ]
  },
  {
   "cell_type": "code",
   "execution_count": 23,
   "metadata": {
    "ExecuteTime": {
     "end_time": "2017-09-10T17:48:45.249456Z",
     "start_time": "2017-09-10T17:48:44.868878Z"
    },
    "collapsed": true
   },
   "outputs": [],
   "source": [
    "import gensim, logging\n",
    "from  gensim.models import Word2Vec"
   ]
  },
  {
   "cell_type": "code",
   "execution_count": 32,
   "metadata": {
    "ExecuteTime": {
     "end_time": "2017-09-10T12:54:12.165301Z",
     "start_time": "2017-09-10T12:52:30.863143Z"
    },
    "collapsed": true
   },
   "outputs": [],
   "source": [
    "model = gensim.models.KeyedVectors.load_word2vec_format(\n",
    "    '../../Data_nlp/GoogleNews-vectors-negative300.bin.gz', binary=True)"
   ]
  },
  {
   "cell_type": "code",
   "execution_count": 33,
   "metadata": {
    "ExecuteTime": {
     "end_time": "2017-09-10T12:54:14.052138Z",
     "start_time": "2017-09-10T12:54:12.166233Z"
    }
   },
   "outputs": [
    {
     "data": {
      "text/plain": [
       "'brian'"
      ]
     },
     "execution_count": 33,
     "metadata": {},
     "output_type": "execute_result"
    }
   ],
   "source": [
    "model.doesnt_match(\"breakfast brian dinner lunch\".split())"
   ]
  },
  {
   "cell_type": "code",
   "execution_count": 35,
   "metadata": {
    "ExecuteTime": {
     "end_time": "2017-09-10T12:56:19.105300Z",
     "start_time": "2017-09-10T12:56:19.098142Z"
    },
    "collapsed": true
   },
   "outputs": [
    {
     "ename": "TypeError",
     "evalue": "evaluate_word_pairs() missing 1 required positional argument: 'pairs'",
     "output_type": "error",
     "traceback": [
      "\u001b[0;31m---------------------------------------------------------------------------\u001b[0m",
      "\u001b[0;31mTypeError\u001b[0m                                 Traceback (most recent call last)",
      "\u001b[0;32m<ipython-input-35-8fd5a98fc876>\u001b[0m in \u001b[0;36m<module>\u001b[0;34m()\u001b[0m\n\u001b[1;32m      1\u001b[0m \u001b[0;31m# give text with w1 w2 your_distance to check if model and w1-w2 have give the same distance\u001b[0m\u001b[0;34m\u001b[0m\u001b[0;34m\u001b[0m\u001b[0m\n\u001b[0;32m----> 2\u001b[0;31m \u001b[0mmodel\u001b[0m\u001b[0;34m.\u001b[0m\u001b[0mevaluate_word_pairs\u001b[0m\u001b[0;34m(\u001b[0m\u001b[0;34m)\u001b[0m\u001b[0;34m\u001b[0m\u001b[0m\n\u001b[0m",
      "\u001b[0;31mTypeError\u001b[0m: evaluate_word_pairs() missing 1 required positional argument: 'pairs'"
     ]
    }
   ],
   "source": [
    "# give text with w1 w2 your_distance to check if model and w1-w2 have give the same distance\n",
    "model.evaluate_word_pairs() "
   ]
  },
  {
   "cell_type": "code",
   "execution_count": 36,
   "metadata": {
    "ExecuteTime": {
     "end_time": "2017-09-10T12:56:27.887161Z",
     "start_time": "2017-09-10T12:56:27.884606Z"
    }
   },
   "outputs": [
    {
     "data": {
      "text/plain": [
       "3000000"
      ]
     },
     "execution_count": 36,
     "metadata": {},
     "output_type": "execute_result"
    }
   ],
   "source": [
    "len(model.index2word)"
   ]
  },
  {
   "cell_type": "code",
   "execution_count": 37,
   "metadata": {
    "ExecuteTime": {
     "end_time": "2017-09-10T12:57:34.190063Z",
     "start_time": "2017-09-10T12:56:28.138790Z"
    },
    "collapsed": true
   },
   "outputs": [],
   "source": [
    "# check accuracy against a premade grouped words\n",
    "questions_words = model.accuracy('../../Data_nlp/word2vec/trunk/questions-words.txt')\n",
    "phrases_words = model.accuracy('../../Data_nlp/word2vec/trunk/questions-phrases.txt')"
   ]
  },
  {
   "cell_type": "code",
   "execution_count": 38,
   "metadata": {
    "ExecuteTime": {
     "end_time": "2017-09-10T12:57:34.200556Z",
     "start_time": "2017-09-10T12:57:34.191292Z"
    }
   },
   "outputs": [
    {
     "data": {
      "text/plain": [
       "[('BOY', 'GIRL', 'STEPFATHER', 'STEPMOTHER'),\n",
       " ('BROTHER', 'SISTER', 'STEPFATHER', 'STEPMOTHER'),\n",
       " ('BROTHERS', 'SISTERS', 'STEPFATHER', 'STEPMOTHER'),\n",
       " ('DAD', 'MOM', 'HUSBAND', 'WIFE'),\n",
       " ('DAD', 'MOM', 'STEPFATHER', 'STEPMOTHER'),\n",
       " ('GRANDFATHER', 'GRANDMOTHER', 'HUSBAND', 'WIFE'),\n",
       " ('GRANDFATHER', 'GRANDMOTHER', 'STEPFATHER', 'STEPMOTHER'),\n",
       " ('GRANDSON', 'GRANDDAUGHTER', 'STEPFATHER', 'STEPMOTHER'),\n",
       " ('GROOM', 'BRIDE', 'NEPHEW', 'NIECE'),\n",
       " ('GROOM', 'BRIDE', 'STEPFATHER', 'STEPMOTHER'),\n",
       " ('GROOM', 'BRIDE', 'UNCLE', 'AUNT'),\n",
       " ('GROOM', 'BRIDE', 'BROTHER', 'SISTER'),\n",
       " ('GROOM', 'BRIDE', 'BROTHERS', 'SISTERS'),\n",
       " ('HE', 'SHE', 'HUSBAND', 'WIFE'),\n",
       " ('HE', 'SHE', 'STEPFATHER', 'STEPMOTHER'),\n",
       " ('HIS', 'HER', 'HUSBAND', 'WIFE'),\n",
       " ('HIS', 'HER', 'STEPFATHER', 'STEPMOTHER'),\n",
       " ('HUSBAND', 'WIFE', 'BROTHER', 'SISTER'),\n",
       " ('HUSBAND', 'WIFE', 'DAD', 'MOM'),\n",
       " ('HUSBAND', 'WIFE', 'FATHER', 'MOTHER'),\n",
       " ('HUSBAND', 'WIFE', 'GRANDFATHER', 'GRANDMOTHER'),\n",
       " ('HUSBAND', 'WIFE', 'HE', 'SHE'),\n",
       " ('HUSBAND', 'WIFE', 'HIS', 'HER'),\n",
       " ('KING', 'QUEEN', 'STEPFATHER', 'STEPMOTHER'),\n",
       " ('MAN', 'WOMAN', 'STEPFATHER', 'STEPMOTHER'),\n",
       " ('MAN', 'WOMAN', 'HUSBAND', 'WIFE'),\n",
       " ('NEPHEW', 'NIECE', 'STEPFATHER', 'STEPMOTHER'),\n",
       " ('PRINCE', 'PRINCESS', 'STEPFATHER', 'STEPMOTHER'),\n",
       " ('PRINCE', 'PRINCESS', 'DAD', 'MOM'),\n",
       " ('PRINCE', 'PRINCESS', 'HUSBAND', 'WIFE'),\n",
       " ('SON', 'DAUGHTER', 'STEPFATHER', 'STEPMOTHER'),\n",
       " ('SONS', 'DAUGHTERS', 'STEPFATHER', 'STEPMOTHER'),\n",
       " ('STEPFATHER', 'STEPMOTHER', 'GRANDFATHER', 'GRANDMOTHER'),\n",
       " ('UNCLE', 'AUNT', 'STEPFATHER', 'STEPMOTHER')]"
      ]
     },
     "execution_count": 38,
     "metadata": {},
     "output_type": "execute_result"
    }
   ],
   "source": [
    "questions_words[4]['incorrect']"
   ]
  },
  {
   "cell_type": "code",
   "execution_count": 39,
   "metadata": {
    "ExecuteTime": {
     "end_time": "2017-09-10T12:57:34.209759Z",
     "start_time": "2017-09-10T12:57:34.204123Z"
    }
   },
   "outputs": [
    {
     "name": "stdout",
     "output_type": "stream",
     "text": [
      "0.660332138317\n",
      "0.458195260447\n",
      "0.177056094484\n",
      "0.760945708978\n"
     ]
    }
   ],
   "source": [
    "print( model.n_similarity(['pasta'], ['spaghetti']) )\n",
    "print( model.n_similarity(['pasta'], ['tomato']) )\n",
    "print( model.n_similarity(['pasta'], ['car']) )\n",
    "print( model.n_similarity(['cat'], ['dog']) )"
   ]
  },
  {
   "cell_type": "code",
   "execution_count": 40,
   "metadata": {
    "ExecuteTime": {
     "end_time": "2017-09-10T12:57:34.481775Z",
     "start_time": "2017-09-10T12:57:34.213291Z"
    }
   },
   "outputs": [
    {
     "data": {
      "text/plain": [
       "[('welcome', 1.0),\n",
       " ('welcomed', 0.7077772617340088),\n",
       " ('welcoming', 0.7071465849876404),\n",
       " ('welcomes', 0.6647579669952393),\n",
       " ('warmly_welcomed', 0.6219103336334229),\n",
       " ('warmly_welcome', 0.5892778038978577),\n",
       " ('Welcoming', 0.5658251047134399),\n",
       " ('greatly_appreciated', 0.5299198627471924),\n",
       " ('warmly_welcomes', 0.521955132484436),\n",
       " ('invite', 0.5170012712478638)]"
      ]
     },
     "execution_count": 40,
     "metadata": {},
     "output_type": "execute_result"
    }
   ],
   "source": [
    "model.similar_by_vector( model.word_vec('welcome') )"
   ]
  },
  {
   "cell_type": "code",
   "execution_count": 41,
   "metadata": {
    "ExecuteTime": {
     "end_time": "2017-09-10T12:57:34.739154Z",
     "start_time": "2017-09-10T12:57:34.485640Z"
    }
   },
   "outputs": [
    {
     "data": {
      "text/plain": [
       "[('welcomed', 0.7077772617340088),\n",
       " ('welcoming', 0.7071465849876404),\n",
       " ('welcomes', 0.6647579669952393),\n",
       " ('warmly_welcomed', 0.6219103336334229),\n",
       " ('warmly_welcome', 0.5892777442932129),\n",
       " ('Welcoming', 0.5658251047134399),\n",
       " ('greatly_appreciated', 0.5299198627471924),\n",
       " ('warmly_welcomes', 0.521955132484436),\n",
       " ('invite', 0.517001211643219),\n",
       " ('delighted', 0.5136862397193909)]"
      ]
     },
     "execution_count": 41,
     "metadata": {},
     "output_type": "execute_result"
    }
   ],
   "source": [
    "model.similar_by_word('welcome')"
   ]
  },
  {
   "cell_type": "code",
   "execution_count": 42,
   "metadata": {
    "ExecuteTime": {
     "end_time": "2017-09-10T12:57:34.762615Z",
     "start_time": "2017-09-10T12:57:34.744872Z"
    }
   },
   "outputs": [
    {
     "data": {
      "text/plain": [
       "array([ 0.00704956, -0.07324219,  0.171875  ,  0.02258301, -0.1328125 ,\n",
       "        0.19824219,  0.11279297, -0.10791016,  0.07177734,  0.02087402,\n",
       "       -0.12304688, -0.05908203,  0.10107422,  0.01074219,  0.14355469,\n",
       "        0.25976562, -0.03637695,  0.18554688, -0.07861328, -0.02270508,\n",
       "       -0.12060547,  0.17773438,  0.04956055,  0.01721191,  0.07958984,\n",
       "       -0.0456543 , -0.18847656,  0.18945312, -0.02319336,  0.06298828,\n",
       "        0.09765625, -0.01904297, -0.07910156,  0.15234375,  0.17382812,\n",
       "        0.1015625 , -0.16308594,  0.11474609,  0.10058594, -0.09277344,\n",
       "        0.109375  ,  0.05883789, -0.02160645,  0.06347656,  0.04199219,\n",
       "       -0.0088501 ,  0.03222656,  0.10644531,  0.06445312, -0.11865234,\n",
       "        0.03051758,  0.06689453,  0.12207031, -0.08300781,  0.171875  ,\n",
       "        0.07861328,  0.09521484, -0.00778198,  0.02319336,  0.0234375 ,\n",
       "       -0.0168457 ,  0.15527344, -0.10986328, -0.17675781, -0.11621094,\n",
       "        0.0234375 , -0.01062012,  0.05273438, -0.13378906,  0.07958984,\n",
       "        0.07373047,  0.04394531,  0.11523438, -0.02062988,  0.07470703,\n",
       "       -0.01153564,  0.08056641,  0.04174805,  0.08007812,  0.3515625 ,\n",
       "        0.09667969, -0.21289062,  0.16503906, -0.078125  ,  0.06982422,\n",
       "       -0.00139618, -0.09130859,  0.12988281,  0.25195312, -0.01611328,\n",
       "        0.09326172, -0.14648438, -0.00151062, -0.15136719, -0.02685547,\n",
       "       -0.15722656,  0.02636719,  0.0859375 ,  0.07177734,  0.07714844,\n",
       "       -0.0390625 ,  0.05444336, -0.12792969,  0.09130859, -0.18457031,\n",
       "       -0.03759766, -0.0279541 , -0.08984375, -0.11669922, -0.09863281,\n",
       "        0.0480957 , -0.16210938, -0.10888672,  0.08496094, -0.0456543 ,\n",
       "        0.15820312, -0.03808594, -0.08203125,  0.203125  ,  0.08642578,\n",
       "        0.06933594,  0.03222656, -0.16015625,  0.09472656, -0.0246582 ,\n",
       "        0.05419922,  0.0279541 ,  0.04492188,  0.16992188,  0.07275391,\n",
       "       -0.03637695, -0.01025391, -0.01708984, -0.10742188, -0.0007019 ,\n",
       "       -0.07373047,  0.25390625,  0.05664062,  0.03515625, -0.00860596,\n",
       "        0.18554688,  0.02148438,  0.26367188, -0.02380371, -0.09912109,\n",
       "       -0.04125977, -0.06933594, -0.11376953,  0.05004883, -0.05883789,\n",
       "        0.04614258,  0.08740234,  0.10546875,  0.10644531,  0.0279541 ,\n",
       "        0.09472656,  0.11621094, -0.17285156, -0.03491211, -0.20800781,\n",
       "        0.05957031,  0.10400391, -0.00179291,  0.05859375, -0.02978516,\n",
       "       -0.03759766,  0.04858398, -0.06396484,  0.07958984,  0.06933594,\n",
       "       -0.10498047, -0.14453125,  0.04345703, -0.06884766, -0.03564453,\n",
       "       -0.01171875,  0.01367188, -0.06591797,  0.11914062,  0.03125   ,\n",
       "       -0.04638672, -0.00196838,  0.00735474, -0.05664062,  0.02783203,\n",
       "        0.08251953, -0.01348877,  0.07177734,  0.14453125,  0.12792969,\n",
       "        0.04223633,  0.14160156, -0.01806641,  0.02160645, -0.09179688,\n",
       "        0.13378906, -0.1953125 , -0.05029297, -0.0378418 , -0.09619141,\n",
       "        0.10302734, -0.10693359, -0.14746094,  0.09960938, -0.23046875,\n",
       "        0.22753906, -0.07519531,  0.06494141,  0.09179688,  0.046875  ,\n",
       "        0.06298828,  0.06982422,  0.04614258,  0.09716797, -0.20214844,\n",
       "        0.19921875,  0.18652344, -0.11962891, -0.14257812,  0.15039062,\n",
       "       -0.03369141, -0.14550781, -0.00069046, -0.07324219,  0.13378906,\n",
       "        0.03564453, -0.02294922,  0.02770996, -0.07910156,  0.20703125,\n",
       "       -0.08349609, -0.04956055,  0.03149414,  0.1484375 ,  0.05566406,\n",
       "       -0.04492188, -0.07958984,  0.00476074, -0.02075195,  0.06005859,\n",
       "        0.00476074,  0.01116943,  0.17285156, -0.13476562,  0.03076172,\n",
       "       -0.07958984,  0.09033203,  0.06103516,  0.07714844, -0.05029297,\n",
       "       -0.09228516, -0.26757812,  0.10791016,  0.0859375 ,  0.06298828,\n",
       "        0.10791016, -0.0267334 ,  0.10205078, -0.12060547,  0.05297852,\n",
       "        0.09472656, -0.16503906,  0.04418945,  0.07226562,  0.04125977,\n",
       "        0.42578125, -0.10302734, -0.16015625, -0.09033203, -0.06396484,\n",
       "       -0.0480957 ,  0.14453125,  0.06542969,  0.04931641,  0.05419922,\n",
       "        0.13574219, -0.01928711, -0.21582031, -0.07421875, -0.14648438,\n",
       "        0.01147461, -0.16503906, -0.10498047,  0.00320435,  0.13476562,\n",
       "       -0.00396729, -0.10351562, -0.13964844,  0.10449219, -0.01257324,\n",
       "       -0.23339844, -0.03637695, -0.09375   ,  0.18261719,  0.02709961,\n",
       "        0.12792969, -0.02478027,  0.01123047,  0.1640625 ,  0.10693359], dtype=float32)"
      ]
     },
     "execution_count": 42,
     "metadata": {},
     "output_type": "execute_result"
    }
   ],
   "source": [
    "model.syn0[4,]"
   ]
  },
  {
   "cell_type": "code",
   "execution_count": 43,
   "metadata": {
    "ExecuteTime": {
     "end_time": "2017-09-10T12:57:34.775518Z",
     "start_time": "2017-09-10T12:57:34.766603Z"
    }
   },
   "outputs": [
    {
     "data": {
      "text/plain": [
       "'is'"
      ]
     },
     "execution_count": 43,
     "metadata": {},
     "output_type": "execute_result"
    }
   ],
   "source": [
    "model.index2word[4]"
   ]
  },
  {
   "cell_type": "code",
   "execution_count": 44,
   "metadata": {
    "ExecuteTime": {
     "end_time": "2017-09-10T12:57:34.803979Z",
     "start_time": "2017-09-10T12:57:34.781263Z"
    }
   },
   "outputs": [
    {
     "data": {
      "text/plain": [
       "array([ 0.00704956, -0.07324219,  0.171875  ,  0.02258301, -0.1328125 ,\n",
       "        0.19824219,  0.11279297, -0.10791016,  0.07177734,  0.02087402,\n",
       "       -0.12304688, -0.05908203,  0.10107422,  0.01074219,  0.14355469,\n",
       "        0.25976562, -0.03637695,  0.18554688, -0.07861328, -0.02270508,\n",
       "       -0.12060547,  0.17773438,  0.04956055,  0.01721191,  0.07958984,\n",
       "       -0.0456543 , -0.18847656,  0.18945312, -0.02319336,  0.06298828,\n",
       "        0.09765625, -0.01904297, -0.07910156,  0.15234375,  0.17382812,\n",
       "        0.1015625 , -0.16308594,  0.11474609,  0.10058594, -0.09277344,\n",
       "        0.109375  ,  0.05883789, -0.02160645,  0.06347656,  0.04199219,\n",
       "       -0.0088501 ,  0.03222656,  0.10644531,  0.06445312, -0.11865234,\n",
       "        0.03051758,  0.06689453,  0.12207031, -0.08300781,  0.171875  ,\n",
       "        0.07861328,  0.09521484, -0.00778198,  0.02319336,  0.0234375 ,\n",
       "       -0.0168457 ,  0.15527344, -0.10986328, -0.17675781, -0.11621094,\n",
       "        0.0234375 , -0.01062012,  0.05273438, -0.13378906,  0.07958984,\n",
       "        0.07373047,  0.04394531,  0.11523438, -0.02062988,  0.07470703,\n",
       "       -0.01153564,  0.08056641,  0.04174805,  0.08007812,  0.3515625 ,\n",
       "        0.09667969, -0.21289062,  0.16503906, -0.078125  ,  0.06982422,\n",
       "       -0.00139618, -0.09130859,  0.12988281,  0.25195312, -0.01611328,\n",
       "        0.09326172, -0.14648438, -0.00151062, -0.15136719, -0.02685547,\n",
       "       -0.15722656,  0.02636719,  0.0859375 ,  0.07177734,  0.07714844,\n",
       "       -0.0390625 ,  0.05444336, -0.12792969,  0.09130859, -0.18457031,\n",
       "       -0.03759766, -0.0279541 , -0.08984375, -0.11669922, -0.09863281,\n",
       "        0.0480957 , -0.16210938, -0.10888672,  0.08496094, -0.0456543 ,\n",
       "        0.15820312, -0.03808594, -0.08203125,  0.203125  ,  0.08642578,\n",
       "        0.06933594,  0.03222656, -0.16015625,  0.09472656, -0.0246582 ,\n",
       "        0.05419922,  0.0279541 ,  0.04492188,  0.16992188,  0.07275391,\n",
       "       -0.03637695, -0.01025391, -0.01708984, -0.10742188, -0.0007019 ,\n",
       "       -0.07373047,  0.25390625,  0.05664062,  0.03515625, -0.00860596,\n",
       "        0.18554688,  0.02148438,  0.26367188, -0.02380371, -0.09912109,\n",
       "       -0.04125977, -0.06933594, -0.11376953,  0.05004883, -0.05883789,\n",
       "        0.04614258,  0.08740234,  0.10546875,  0.10644531,  0.0279541 ,\n",
       "        0.09472656,  0.11621094, -0.17285156, -0.03491211, -0.20800781,\n",
       "        0.05957031,  0.10400391, -0.00179291,  0.05859375, -0.02978516,\n",
       "       -0.03759766,  0.04858398, -0.06396484,  0.07958984,  0.06933594,\n",
       "       -0.10498047, -0.14453125,  0.04345703, -0.06884766, -0.03564453,\n",
       "       -0.01171875,  0.01367188, -0.06591797,  0.11914062,  0.03125   ,\n",
       "       -0.04638672, -0.00196838,  0.00735474, -0.05664062,  0.02783203,\n",
       "        0.08251953, -0.01348877,  0.07177734,  0.14453125,  0.12792969,\n",
       "        0.04223633,  0.14160156, -0.01806641,  0.02160645, -0.09179688,\n",
       "        0.13378906, -0.1953125 , -0.05029297, -0.0378418 , -0.09619141,\n",
       "        0.10302734, -0.10693359, -0.14746094,  0.09960938, -0.23046875,\n",
       "        0.22753906, -0.07519531,  0.06494141,  0.09179688,  0.046875  ,\n",
       "        0.06298828,  0.06982422,  0.04614258,  0.09716797, -0.20214844,\n",
       "        0.19921875,  0.18652344, -0.11962891, -0.14257812,  0.15039062,\n",
       "       -0.03369141, -0.14550781, -0.00069046, -0.07324219,  0.13378906,\n",
       "        0.03564453, -0.02294922,  0.02770996, -0.07910156,  0.20703125,\n",
       "       -0.08349609, -0.04956055,  0.03149414,  0.1484375 ,  0.05566406,\n",
       "       -0.04492188, -0.07958984,  0.00476074, -0.02075195,  0.06005859,\n",
       "        0.00476074,  0.01116943,  0.17285156, -0.13476562,  0.03076172,\n",
       "       -0.07958984,  0.09033203,  0.06103516,  0.07714844, -0.05029297,\n",
       "       -0.09228516, -0.26757812,  0.10791016,  0.0859375 ,  0.06298828,\n",
       "        0.10791016, -0.0267334 ,  0.10205078, -0.12060547,  0.05297852,\n",
       "        0.09472656, -0.16503906,  0.04418945,  0.07226562,  0.04125977,\n",
       "        0.42578125, -0.10302734, -0.16015625, -0.09033203, -0.06396484,\n",
       "       -0.0480957 ,  0.14453125,  0.06542969,  0.04931641,  0.05419922,\n",
       "        0.13574219, -0.01928711, -0.21582031, -0.07421875, -0.14648438,\n",
       "        0.01147461, -0.16503906, -0.10498047,  0.00320435,  0.13476562,\n",
       "       -0.00396729, -0.10351562, -0.13964844,  0.10449219, -0.01257324,\n",
       "       -0.23339844, -0.03637695, -0.09375   ,  0.18261719,  0.02709961,\n",
       "        0.12792969, -0.02478027,  0.01123047,  0.1640625 ,  0.10693359], dtype=float32)"
      ]
     },
     "execution_count": 44,
     "metadata": {},
     "output_type": "execute_result"
    }
   ],
   "source": [
    "model.word_vec('is')"
   ]
  },
  {
   "cell_type": "code",
   "execution_count": 45,
   "metadata": {
    "ExecuteTime": {
     "end_time": "2017-09-10T12:57:34.821734Z",
     "start_time": "2017-09-10T12:57:34.809618Z"
    }
   },
   "outputs": [
    {
     "data": {
      "text/plain": [
       "array([ 0.00374603, -0.03891977,  0.09133173,  0.01200026, -0.07057451,\n",
       "        0.10534285,  0.05993645, -0.0573418 ,  0.03814138,  0.01109213,\n",
       "       -0.06538521, -0.03139528,  0.05370928,  0.00570823,  0.07628275,\n",
       "        0.13803546, -0.01933015,  0.09859675, -0.04177389, -0.01206513,\n",
       "       -0.06408789,  0.09444531,  0.02633571,  0.00914615,  0.04229282,\n",
       "       -0.02425999, -0.10015354,  0.10067248, -0.01232459,  0.033471  ,\n",
       "        0.05189303, -0.01011914, -0.04203335,  0.08095312,  0.09236959,\n",
       "        0.05396875, -0.08666135,  0.06097431,  0.05344982, -0.04929838,\n",
       "        0.05812019,  0.03126555, -0.01148133,  0.03373047,  0.022314  ,\n",
       "       -0.00470281,  0.0171247 ,  0.0565634 ,  0.0342494 , -0.06305003,\n",
       "        0.01621657,  0.03554672,  0.06486628, -0.04410907,  0.09133173,\n",
       "        0.04177389,  0.0505957 , -0.00413523,  0.01232459,  0.01245433,\n",
       "       -0.00895155,  0.08250991, -0.05837966, -0.09392638, -0.0617527 ,\n",
       "        0.01245433, -0.00564337,  0.02802224, -0.07109345,  0.04229282,\n",
       "        0.03917924,  0.02335186,  0.06123377, -0.0109624 ,  0.03969816,\n",
       "       -0.00612986,  0.04281175,  0.02218427,  0.04255228,  0.1868149 ,\n",
       "        0.0513741 , -0.1131268 ,  0.08769922, -0.04151442,  0.03710352,\n",
       "       -0.00074191, -0.04851998,  0.06901773,  0.13388401, -0.00856235,\n",
       "        0.04955784, -0.07783955, -0.00080272, -0.0804342 , -0.01427058,\n",
       "       -0.08354778,  0.01401112,  0.04566586,  0.03814138,  0.04099549,\n",
       "       -0.02075721,  0.02893036, -0.06797986,  0.04851998, -0.09807783,\n",
       "       -0.01997882, -0.01485438, -0.04774158, -0.06201217, -0.05241196,\n",
       "        0.02555732, -0.08614243, -0.05786072,  0.04514693, -0.02425999,\n",
       "        0.0840667 , -0.02023828, -0.04359014,  0.1079375 ,  0.04592533,\n",
       "        0.03684405,  0.0171247 , -0.08510457,  0.05033624, -0.01310299,\n",
       "        0.02880063,  0.01485438,  0.02387079,  0.09029387,  0.03866031,\n",
       "       -0.01933015, -0.00544877, -0.00908128, -0.05708233, -0.00037298,\n",
       "       -0.03917924,  0.13492188,  0.03009796,  0.01868149, -0.00457307,\n",
       "        0.09859675,  0.01141647,  0.14011118, -0.01264893, -0.05267143,\n",
       "       -0.0219248 , -0.03684405, -0.06045538,  0.02659518, -0.03126555,\n",
       "        0.02451946,  0.04644426,  0.05604447,  0.0565634 ,  0.01485438,\n",
       "        0.05033624,  0.0617527 , -0.09185066, -0.01855176, -0.11053215,\n",
       "        0.03165475,  0.05526607, -0.00095272,  0.03113582, -0.01582737,\n",
       "       -0.01997882,  0.02581678, -0.03398993,  0.04229282,  0.03684405,\n",
       "       -0.055785  , -0.07680168,  0.0230924 , -0.03658459, -0.01894096,\n",
       "       -0.00622716,  0.00726502, -0.03502779,  0.06330949,  0.01660577,\n",
       "       -0.02464919, -0.00104597,  0.00390819, -0.03009796,  0.01478951,\n",
       "        0.04384961, -0.00716772,  0.03814138,  0.07680168,  0.06797986,\n",
       "        0.02244373,  0.07524489, -0.00960021,  0.01148133, -0.04877945,\n",
       "        0.07109345, -0.10378606, -0.02672491, -0.02010855, -0.05111463,\n",
       "        0.05474715, -0.05682287, -0.07835847,  0.05293089, -0.12246755,\n",
       "        0.12091076, -0.03995763,  0.03450887,  0.04877945,  0.02490865,\n",
       "        0.033471  ,  0.03710352,  0.02451946,  0.05163356, -0.10741857,\n",
       "        0.10586178,  0.09911568, -0.06356896, -0.07576382,  0.07991526,\n",
       "       -0.0179031 , -0.07732061, -0.0003669 , -0.03891977,  0.07109345,\n",
       "        0.01894096, -0.01219486,  0.01472465, -0.04203335,  0.11001322,\n",
       "       -0.04436854, -0.02633571,  0.0167355 ,  0.0788774 ,  0.02957903,\n",
       "       -0.02387079, -0.04229282,  0.00252979, -0.01102727,  0.03191421,\n",
       "        0.00252979,  0.00593527,  0.09185066, -0.07161238,  0.0163463 ,\n",
       "       -0.04229282,  0.04800105,  0.03243314,  0.04099549, -0.02672491,\n",
       "       -0.04903891, -0.1421869 ,  0.0573418 ,  0.04566586,  0.033471  ,\n",
       "        0.0573418 , -0.01420572,  0.05422821, -0.06408789,  0.02815197,\n",
       "        0.05033624, -0.08769922,  0.02348159,  0.03840084,  0.0219248 ,\n",
       "        0.2262536 , -0.05474715, -0.08510457, -0.04800105, -0.03398993,\n",
       "       -0.02555732,  0.07680168,  0.03476833,  0.02620598,  0.02880063,\n",
       "        0.07213131, -0.01024887, -0.11468359, -0.0394387 , -0.07783955,\n",
       "        0.00609743, -0.08769922, -0.055785  ,  0.00170274,  0.07161238,\n",
       "       -0.00210815, -0.05500661, -0.07420703,  0.05552554, -0.00668123,\n",
       "       -0.12402434, -0.01933015, -0.04981731,  0.09703996,  0.01440032,\n",
       "        0.06797986, -0.01316786,  0.0059677 ,  0.08718029,  0.05682287], dtype=float32)"
      ]
     },
     "execution_count": 45,
     "metadata": {},
     "output_type": "execute_result"
    }
   ],
   "source": [
    "model.syn0norm[4,]"
   ]
  },
  {
   "cell_type": "code",
   "execution_count": 46,
   "metadata": {
    "ExecuteTime": {
     "end_time": "2017-09-10T12:57:34.831845Z",
     "start_time": "2017-09-10T12:57:34.826363Z"
    }
   },
   "outputs": [
    {
     "data": {
      "text/plain": [
       "300"
      ]
     },
     "execution_count": 46,
     "metadata": {},
     "output_type": "execute_result"
    }
   ],
   "source": [
    "model.vector_size"
   ]
  },
  {
   "cell_type": "code",
   "execution_count": 47,
   "metadata": {
    "ExecuteTime": {
     "end_time": "2017-09-10T12:57:35.079426Z",
     "start_time": "2017-09-10T12:57:34.836351Z"
    }
   },
   "outputs": [
    {
     "data": {
      "text/plain": [
       "[('Goofy', 0.796820342540741),\n",
       " ('Minni', 0.7049012184143066),\n",
       " ('Mickey_Minnie_Goofy', 0.5468583703041077),\n",
       " ('Mickey_Goofy', 0.5395780205726624),\n",
       " ('Pluto_Goofy', 0.5347572565078735),\n",
       " ('Mickey_Minnie', 0.5343326330184937),\n",
       " ('Daisy_Duck', 0.5236194729804993),\n",
       " ('Sora_Donald', 0.5230178236961365),\n",
       " ('Mickey_Mouse_Goofy', 0.5048299431800842),\n",
       " ('nephews_Huey_Dewey', 0.5034050345420837)]"
      ]
     },
     "execution_count": 47,
     "metadata": {},
     "output_type": "execute_result"
    }
   ],
   "source": [
    "import numpy as np\n",
    "model.similar_by_vector( (model.word_vec('Goofy') + model.word_vec('Minni'))/2 )"
   ]
  },
  {
   "cell_type": "code",
   "execution_count": 48,
   "metadata": {
    "ExecuteTime": {
     "end_time": "2017-09-10T12:57:35.402374Z",
     "start_time": "2017-09-10T12:57:35.083676Z"
    }
   },
   "outputs": [
    {
     "name": "stdout",
     "output_type": "stream",
     "text": [
      "3.3741233214730024\n"
     ]
    }
   ],
   "source": [
    "import pyemd\n",
    "# This method only works if `pyemd` is installed (can be installed via pip, but requires a C compiler).\n",
    "\n",
    "sentence_obama = 'Obama speaks to the media in Illinois'.lower().split()\n",
    "sentence_president = 'The president greets the press in Chicago'.lower().split()\n",
    "\n",
    "# Remove their stopwords.\n",
    "import nltk\n",
    "stopwords = nltk.corpus.stopwords.words('english')\n",
    "sentence_obama = [w for w in sentence_obama if w not in stopwords]\n",
    "sentence_president = [w for w in sentence_president if w not in stopwords]\n",
    "\n",
    "# Compute WMD.\n",
    "distance = model.wmdistance(sentence_obama, sentence_president)\n",
    "print(distance)"
   ]
  },
  {
   "cell_type": "code",
   "execution_count": 49,
   "metadata": {
    "ExecuteTime": {
     "end_time": "2017-09-10T12:57:35.411055Z",
     "start_time": "2017-09-10T12:57:35.403743Z"
    },
    "collapsed": true
   },
   "outputs": [],
   "source": [
    "import nltk\n",
    "stopwords = nltk.corpus.stopwords.words('english')\n",
    "\n",
    "def sentence_distance(s1, s2):\n",
    "    sentence_obama = [w for w in s1.split() if w not in stopwords]\n",
    "    sentence_president = [w for w in s2.split() if w not in stopwords]\n",
    "    print(sentence_obama, sentence_president, sep='\\t')\n",
    "    print(model.wmdistance(sentence_obama, sentence_president), end='\\n\\n')"
   ]
  },
  {
   "cell_type": "code",
   "execution_count": 50,
   "metadata": {
    "ExecuteTime": {
     "end_time": "2017-09-10T12:57:35.425796Z",
     "start_time": "2017-09-10T12:57:35.412421Z"
    }
   },
   "outputs": [
    {
     "name": "stdout",
     "output_type": "stream",
     "text": [
      "['I', 'run', 'every', 'day', 'morning']\t['I', 'like', 'football']\n",
      "2.3376889762187165\n",
      "\n",
      "['I', 'run', 'every', 'day', 'morning']\t['I', 'run', 'since', 'I', 'born']\n",
      "1.820895138922882\n",
      "\n",
      "['I', 'run', 'every', 'day', 'morning']\t['idiot']\n",
      "3.3750919594666007\n",
      "\n",
      "['I', 'run', 'every', 'day', 'morning']\t['Are', 'idiot?']\n",
      "3.976704031329918\n",
      "\n",
      "['I', 'run', 'every', 'day', 'morning']\t['Is', 'possible', 'die?']\n",
      "3.1081644990045545\n",
      "\n",
      "['I', 'run', 'every', 'day', 'morning']\t['Is', 'possible', 'die']\n",
      "3.1858849239788394\n",
      "\n",
      "['I', 'run', 'every', 'day', 'morning']\t['I', 'run', 'every', 'day']\n",
      "0.5563409008898735\n",
      "\n",
      "['I', 'run', 'every', 'day', 'morning']\t['I', 'eat', 'every', 'day']\n",
      "1.2005782773353697\n",
      "\n",
      "['I', 'run', 'every', 'day', 'morning']\t['I', 'breakfast', 'morning']\n",
      "1.711929159530717\n",
      "\n",
      "['I', 'run', 'every', 'day', 'morning']\t['I', 'breakfast', 'every', 'day', 'morning']\n",
      "0.6631782969713211\n",
      "\n",
      "['I', 'run', 'every', 'day', 'morning']\t['Each', 'day', 'I', 'run']\n",
      "1.1626442679190636\n",
      "\n",
      "['I', 'run', 'every', 'day', 'morning']\t['I', 'run', 'every', 'day', 'morning']\n",
      "0.0\n",
      "\n"
     ]
    }
   ],
   "source": [
    "sentence_distance('I run every day in the morning', 'I like football')\n",
    "sentence_distance('I run every day in the morning', 'I run since I was born')\n",
    "sentence_distance('I run every day in the morning', 'you are idiot')\n",
    "sentence_distance('I run every day in the morning', 'Are you idiot?')\n",
    "sentence_distance('I run every day in the morning', 'Is it possible to die?')\n",
    "sentence_distance('I run every day in the morning', 'Is it possible to die')\n",
    "sentence_distance('I run every day in the morning', 'I run every day')\n",
    "sentence_distance('I run every day in the morning', 'I eat every day')\n",
    "sentence_distance('I run every day in the morning', 'I have breakfast in the morning')\n",
    "sentence_distance('I run every day in the morning', 'I have breakfast every day in the morning')\n",
    "sentence_distance('I run every day in the morning', 'Each day I run')\n",
    "sentence_distance('I run every day in the morning', 'I run every day in the morning')"
   ]
  },
  {
   "cell_type": "code",
   "execution_count": 51,
   "metadata": {
    "ExecuteTime": {
     "end_time": "2017-09-10T12:57:35.435685Z",
     "start_time": "2017-09-10T12:57:35.426717Z"
    }
   },
   "outputs": [
    {
     "name": "stdout",
     "output_type": "stream",
     "text": [
      "['I', 'run', 'every', 'day', 'morning']\t['Each', 'day', 'I', 'run']\n",
      "1.1626442679190636\n",
      "\n",
      "['I', 'run', 'every', 'day', 'morning']\t['Each', 'I', 'run']\n",
      "1.804157856150221\n",
      "\n",
      "['I', 'run', 'every', 'day', 'morning']\t['Each', 'day', 'run']\n",
      "1.7262934209024152\n",
      "\n",
      "['I', 'run', 'every', 'day', 'morning']\t['Each', 'day', 'I']\n",
      "1.716070718874115\n",
      "\n",
      "['I', 'every', 'day', 'morning']\t['Each', 'day', 'I', 'run']\n",
      "1.4545022893238069\n",
      "\n",
      "['I', 'run', 'day', 'morning']\t['Each', 'day', 'I', 'run']\n",
      "1.0145831108093262\n",
      "\n",
      "['I', 'run', 'every', 'morning']\t['Each', 'day', 'I', 'run']\n",
      "1.1818685887026787\n",
      "\n",
      "['I', 'run', 'every']\t['Each', 'day', 'I', 'run']\n",
      "1.3422707755860321\n",
      "\n"
     ]
    }
   ],
   "source": [
    "sentence_distance('I run every day in the morning', 'Each day I run')\n",
    "sentence_distance('I run every day in the morning', 'Each I run')\n",
    "sentence_distance('I run every day in the morning', 'Each day run')\n",
    "sentence_distance('I run every day in the morning', 'Each day I')\n",
    "sentence_distance('I every day in the morning', 'Each day I run')\n",
    "sentence_distance('I run day in the morning', 'Each day I run')\n",
    "sentence_distance('I run every in morning', 'Each day I run')\n",
    "sentence_distance('I run every in', 'Each day I run')"
   ]
  },
  {
   "cell_type": "code",
   "execution_count": 52,
   "metadata": {
    "ExecuteTime": {
     "end_time": "2017-09-10T12:57:35.448516Z",
     "start_time": "2017-09-10T12:57:35.436914Z"
    },
    "collapsed": true
   },
   "outputs": [],
   "source": [
    "def get_vect(w):\n",
    "    try:\n",
    "        return model.word_vec(w)\n",
    "    except KeyError:\n",
    "        return np.zeros(model.vector_size)\n",
    "    \n",
    "def calc_avg(s):\n",
    "    ws = [get_vect(w) for w in s.split() if w not in stopwords]\n",
    "    avg_vect = sum(ws)/len(ws)\n",
    "    return avg_vect\n",
    "\n",
    "\n",
    "from scipy.spatial import distance\n",
    "def get_euclidean(s1, s2):\n",
    "    return distance.euclidean(calc_avg(s1), calc_avg(s2))"
   ]
  },
  {
   "cell_type": "code",
   "execution_count": 53,
   "metadata": {
    "ExecuteTime": {
     "end_time": "2017-09-10T12:57:35.455703Z",
     "start_time": "2017-09-10T12:57:35.450671Z"
    }
   },
   "outputs": [
    {
     "name": "stdout",
     "output_type": "stream",
     "text": [
      "['Astrology:', 'I', 'Capricorn', 'Sun', 'Cap', 'moon', 'cap', 'rising...what', 'say', 'me?']\t[\"I'm\", 'triple', 'Capricorn', '(Sun,', 'Moon', 'ascendant', 'Capricorn)', 'What', 'say', 'me?']\n",
      "2.49434997539555\n",
      "\n",
      "0.8109230127174104\n"
     ]
    }
   ],
   "source": [
    "# same questions\n",
    "s1 = 'Astrology: I am a Capricorn Sun Cap moon and cap rising...what does that say about me?'\n",
    "s2 = \"I'm a triple Capricorn (Sun, Moon and ascendant in Capricorn) What does this say about me?\"\n",
    "sentence_distance(s1, s2)\n",
    "print(get_euclidean(s1, s2))"
   ]
  },
  {
   "cell_type": "code",
   "execution_count": 54,
   "metadata": {
    "ExecuteTime": {
     "end_time": "2017-09-10T12:57:35.466581Z",
     "start_time": "2017-09-10T12:57:35.456745Z"
    }
   },
   "outputs": [
    {
     "name": "stdout",
     "output_type": "stream",
     "text": [
      "['Astrology', 'I', 'Capricorn', 'Sun', 'Cap', 'moon', 'cap', 'rising', 'say']\t['I', 'triple', 'Capricorn', 'Sun', 'Moon', 'ascendant', 'Capricorn', 'What', 'say']\n",
      "2.0696045677228887\n",
      "\n",
      "0.9102963209152222\n"
     ]
    }
   ],
   "source": [
    "# same questions as above without punctuations\n",
    "s1 = 'Astrology I am a Capricorn Sun Cap moon and cap rising what does that say about me'\n",
    "s2 = \"I am a triple Capricorn Sun Moon and ascendant in Capricorn What does this say about me\"\n",
    "sentence_distance(s1, s2)\n",
    "print(get_euclidean(s1, s2))"
   ]
  },
  {
   "cell_type": "code",
   "execution_count": 55,
   "metadata": {
    "ExecuteTime": {
     "end_time": "2017-09-10T12:57:35.473424Z",
     "start_time": "2017-09-10T12:57:35.467803Z"
    }
   },
   "outputs": [
    {
     "name": "stdout",
     "output_type": "stream",
     "text": [
      "['What', 'best', 'way', 'make', 'money', 'online']\t['What', 'best', 'way', 'ask', 'money', 'online?']\n",
      "0.9525941046914722\n",
      "\n",
      "0.5846541179497374\n"
     ]
    }
   ],
   "source": [
    "# same questions\n",
    "s1 = 'What is best way to make money online'\n",
    "s2 = 'What is best way to ask for money online?'\n",
    "sentence_distance(s1,s2)\n",
    "print(get_euclidean(s1, s2))"
   ]
  },
  {
   "cell_type": "code",
   "execution_count": 56,
   "metadata": {
    "ExecuteTime": {
     "end_time": "2017-09-10T12:57:35.480354Z",
     "start_time": "2017-09-10T12:57:35.474342Z"
    }
   },
   "outputs": [
    {
     "name": "stdout",
     "output_type": "stream",
     "text": [
      "['How', 'Darth', 'Vader', 'fought', 'Darth', 'Maul', 'Star', 'Wars', 'Legends?']\t['Does', 'Quora', 'character', 'limit', 'profile', 'descriptions?']\n",
      "4.066483587027646\n",
      "\n",
      "1.7708145158159805\n"
     ]
    }
   ],
   "source": [
    "# different questions\n",
    "s1 = 'How did Darth Vader fought Darth Maul in Star Wars Legends?'\n",
    "s2 = 'Does Quora have a character limit for profile descriptions?'\n",
    "sentence_distance(s1,s2)\n",
    "print(get_euclidean(s1, s2))"
   ]
  },
  {
   "cell_type": "code",
   "execution_count": 57,
   "metadata": {
    "ExecuteTime": {
     "end_time": "2017-09-10T12:57:35.490536Z",
     "start_time": "2017-09-10T12:57:35.481434Z"
    }
   },
   "outputs": [
    {
     "name": "stdout",
     "output_type": "stream",
     "text": [
      "4.066483587027646\n",
      "4.066483587027646\n",
      "4.066483587027646\n",
      "4.066483587027646\n"
     ]
    }
   ],
   "source": [
    "# the order of the words doesn't change the distanace bewteeen the two phrases\n",
    "s1ws = [w for w in s1.split() if w not in stopwords]\n",
    "s2ws = [w for w in s2.split() if w not in stopwords]\n",
    "print(model.wmdistance(s1ws, s2ws) )\n",
    "print(model.wmdistance(s1ws[::-1], s2ws) )\n",
    "print(model.wmdistance(s1ws, s2ws[::-1]) )\n",
    "print(model.wmdistance(s1ws[3:]+s1ws[0:3], s2ws[::-1]) )"
   ]
  },
  {
   "cell_type": "markdown",
   "metadata": {},
   "source": [
    "conclusion:\n",
    "- distance work well\n",
    "- the order of the words is not taken into account"
   ]
  },
  {
   "cell_type": "markdown",
   "metadata": {},
   "source": [
    "# Translate using google translate\n",
    "- https://github.com/ssut/py-googletrans\n",
    "- should be free and unlimted, interned connection required\n",
    "- pip install googletrans"
   ]
  },
  {
   "cell_type": "code",
   "execution_count": 60,
   "metadata": {
    "ExecuteTime": {
     "end_time": "2017-09-10T13:24:04.307396Z",
     "start_time": "2017-09-10T13:24:04.300177Z"
    },
    "collapsed": true
   },
   "outputs": [],
   "source": [
    "from googletrans import Translator"
   ]
  },
  {
   "cell_type": "code",
   "execution_count": 61,
   "metadata": {
    "ExecuteTime": {
     "end_time": "2017-09-10T13:24:20.243136Z",
     "start_time": "2017-09-10T13:24:20.236702Z"
    },
    "collapsed": true
   },
   "outputs": [],
   "source": [
    "o = open(\"../../AliceNelPaeseDelleMeraviglie.txt\")\n",
    "all = ''\n",
    "for l in o: all += l"
   ]
  },
  {
   "cell_type": "code",
   "execution_count": 62,
   "metadata": {
    "ExecuteTime": {
     "end_time": "2017-09-10T13:24:28.331327Z",
     "start_time": "2017-09-10T13:24:28.328841Z"
    },
    "collapsed": true
   },
   "outputs": [],
   "source": [
    "translator = Translator()"
   ]
  },
  {
   "cell_type": "code",
   "execution_count": 63,
   "metadata": {
    "ExecuteTime": {
     "end_time": "2017-09-10T13:24:30.379798Z",
     "start_time": "2017-09-10T13:24:28.968707Z"
    },
    "collapsed": true
   },
   "outputs": [
    {
     "name": "stdout",
     "output_type": "stream",
     "text": [
      " ranuncolo e facendosi vento con\n",
      "una delle sue foglie. - Oh, avrei voluto insegnargli dei giuochi se... se fossi stata d'una statura adatta!\n",
      "Poveretta me! avevo dimenticato che avevo bisogno di crescere ancora! Vediamo, come debbo fare?\n",
      "Forse dovrei mangiare o bere qualche cosa; ma che cosa?\n",
      "Il problema era questo: che cosa? Alice guardò intorno fra i fiori e i fili d'erba; ma non poté veder\n",
      "nulla che le sembrasse adatto a mangiare o a bere per l'occasione. C'era però un grosso fungo vicino\n",
      "a lei, press'a poco alto quanto lei; e dopo che l'ebbe esaminato di sotto, ai lati e di dietro, le parve\n",
      "cosa naturale di vedere che ci fosse di sopra. \n",
      "Alzandosi in punta dei piedi, si affacciò all'orlo del fungo, e gli occhi suoi s'incontrarono con quelli\n",
      "d'un grosso Bruco turchino che se ne stava seduto nel centro con le braccia conserte, fumando\n",
      "tranquillamente una lunga pipa, e non facendo la minima attenzione ne a lei, né ad altro.\n",
      "\n",
      "\n",
      "\n",
      "\n",
      "CONSIGLI DEL BRUCO\n",
      "Il Bruco e Alice si guardarono a vicend\n",
      "\n",
      "ranch and getting wind with\n",
      "one of her leaves. \"Oh, I wanted to teach him some jokes if ... if I had been of a suitable stature!\n",
      "Poverty me! I had forgotten that I needed to grow again! Let's see how do I do it?\n",
      "Maybe I should eat or drink something; but what?\n",
      "The problem was this: what? Alice looked around in the flowers and grass roots; but could not see it\n",
      "nothing that seems fit to eat or drink for the occasion. There was, however, a big fungus near\n",
      "to her, she pressed as high as her; and after looking at it below, at the sides and behind, it seemed to her\n",
      "natural thing to see that it was above.\n",
      "Standing to the tip of his feet, he sprang to the brim of the fungus, and his eyes met with those\n",
      "a big turquoise Bruco sitting in the center with his arms folded, smoking\n",
      "quietly a long pipe, and not paying the least attention to her, or to anything else.\n",
      "\n",
      "\n",
      "\n",
      "\n",
      "BRUCO ADVICE\n",
      "Bruco and Alice looked at each other\n"
     ]
    }
   ],
   "source": [
    "for i in range(42, 43, 1):\n",
    "    print(all[i * 1000:i * 1000 + 1000], end='\\n\\n')\n",
    "    print(translator.translate(all[i * 1000:i * 1000 + 1000], dest='en').text)"
   ]
  },
  {
   "cell_type": "code",
   "execution_count": 64,
   "metadata": {
    "ExecuteTime": {
     "end_time": "2017-09-10T13:24:45.955157Z",
     "start_time": "2017-09-10T13:24:45.593413Z"
    }
   },
   "outputs": [
    {
     "name": "stdout",
     "output_type": "stream",
     "text": [
      "Languge: it  with confidence: 0.21400356\n"
     ]
    }
   ],
   "source": [
    "## if language is not passed it is guessed, so it can detect a language\n",
    "frase = \"Ciao Giulia, ti va un gelato?\"\n",
    "det = translator.detect(frase)\n",
    "print(\"Languge:\", det.lang, \" with confidence:\", det.confidence)"
   ]
  },
  {
   "cell_type": "code",
   "execution_count": 65,
   "metadata": {
    "ExecuteTime": {
     "end_time": "2017-09-10T13:24:49.682076Z",
     "start_time": "2017-09-10T13:24:48.959670Z"
    }
   },
   "outputs": [
    {
     "name": "stdout",
     "output_type": "stream",
     "text": [
      "[la] veritas lux mea\r\n",
      "    ->\r\n",
      "[en] The truth is my light\r\n",
      "[pron.] The truth is my light\r\n"
     ]
    }
   ],
   "source": [
    "# command line usage, but it seems to don't work to me\n",
    "!translate \"veritas lux mea\" -s la -d en"
   ]
  },
  {
   "cell_type": "code",
   "execution_count": 66,
   "metadata": {
    "ExecuteTime": {
     "end_time": "2017-09-10T13:24:55.594612Z",
     "start_time": "2017-09-10T13:24:54.604695Z"
    }
   },
   "outputs": [
    {
     "name": "stdout",
     "output_type": "stream",
     "text": [
      "The quick brown fox  ->  빠른 갈색 여우\n",
      "jumps over  ->  점프하다\n",
      "the lazy dog  ->  게으른 개\n"
     ]
    }
   ],
   "source": [
    "translations = translator.translate(\n",
    "    ['The quick brown fox', 'jumps over', 'the lazy dog'], dest='ko')\n",
    "for translation in translations:\n",
    "    print(translation.origin, ' -> ', translation.text)"
   ]
  },
  {
   "cell_type": "code",
   "execution_count": 67,
   "metadata": {
    "ExecuteTime": {
     "end_time": "2017-09-10T13:24:58.701988Z",
     "start_time": "2017-09-10T13:24:58.612950Z"
    }
   },
   "outputs": [
    {
     "data": {
      "text/plain": [
       "('Ciao Giulia, ti va un gelato?',\n",
       " 'Hi Giulia, do you go ice cream?',\n",
       " 'it',\n",
       " 'Hi Giulia, do you go ice cream?',\n",
       " 'en')"
      ]
     },
     "execution_count": 67,
     "metadata": {},
     "output_type": "execute_result"
    }
   ],
   "source": [
    "phrase = translator.translate(frase, 'en')\n",
    "phrase.origin, phrase.text, phrase.src, phrase.pronunciation, phrase.dest"
   ]
  },
  {
   "cell_type": "markdown",
   "metadata": {},
   "source": [
    "# TreeTagger usage to tag an italian (or other languages) sentence\n",
    "How To install:\n",
    "- nltk need to be already installed and working\n",
    "- follow the instruction from http://www.cis.uni-muenchen.de/~schmid/tools/TreeTagger/ \n",
    "- run TreeTagger on terminal (echo 'Ciao Giulia come stai?' | tree-tagger-italian) to see if everything is working\n",
    "- download the github to get the python support from: https://github.com/miotto/treetagger-python\n",
    "- run /home/ale/anaconda3/bin/python setup.py install and everything should work (note that you need to specify which python you want, the default is python2)\n",
    "\n",
    "Infos:\n",
    "- The maximum character limit on a single text is 15k.\n",
    "- this API does not guarantee that the library would work properly at all times\n",
    "- for a more stability API use the non-free https://cloud.google.com/translate/docs/\n",
    "- If you get HTTP 5xx error or errors like #6, it's probably because Google has banned your client IP address"
   ]
  },
  {
   "cell_type": "code",
   "execution_count": 70,
   "metadata": {
    "ExecuteTime": {
     "end_time": "2017-09-10T13:25:29.915440Z",
     "start_time": "2017-09-10T13:25:29.675724Z"
    }
   },
   "outputs": [
    {
     "data": {
      "text/plain": [
       "[['What', 'WP', 'what'],\n",
       " ['is', 'VBZ', 'be'],\n",
       " ['the', 'DT', 'the'],\n",
       " ['airspeed', 'NN', 'airspeed'],\n",
       " ['of', 'IN', 'of'],\n",
       " ['an', 'DT', 'an'],\n",
       " ['unladen', 'JJ', '<unknown>'],\n",
       " ['swallow', 'NN', 'swallow'],\n",
       " ['?', 'SENT', '?']]"
      ]
     },
     "execution_count": 70,
     "metadata": {},
     "output_type": "execute_result"
    }
   ],
   "source": [
    "from treetagger import TreeTagger\n",
    "tt = TreeTagger(language='english')\n",
    "tt.tag('What is the airspeed of an unladen swallow?')"
   ]
  },
  {
   "cell_type": "code",
   "execution_count": 71,
   "metadata": {
    "ExecuteTime": {
     "end_time": "2017-09-10T13:25:30.963426Z",
     "start_time": "2017-09-10T13:25:30.420851Z"
    }
   },
   "outputs": [
    {
     "data": {
      "text/plain": [
       "[['Proviamo', 'VER:pres', 'provare'],\n",
       " ['a', 'PRE', 'a'],\n",
       " ['vedere', 'VER:infi', 'vedere'],\n",
       " ['un', 'DET:indef', 'un'],\n",
       " ['pò', 'ADV', 'pò'],\n",
       " ['se', 'PRO:refl', 'se'],\n",
       " ['funziona', 'VER:pres', 'funzionare'],\n",
       " ['bene', 'ADV', 'bene'],\n",
       " ['questo', 'PRO:demo', 'questo'],\n",
       " ['tagger', 'VER:infi', '<unknown>']]"
      ]
     },
     "execution_count": 71,
     "metadata": {},
     "output_type": "execute_result"
    }
   ],
   "source": [
    "tt = TreeTagger(language='italian')\n",
    "tt.tag('Proviamo a vedere un pò se funziona bene questo tagger')"
   ]
  },
  {
   "cell_type": "code",
   "execution_count": null,
   "metadata": {
    "collapsed": true
   },
   "outputs": [],
   "source": []
  },
  {
   "cell_type": "code",
   "execution_count": null,
   "metadata": {
    "collapsed": true
   },
   "outputs": [],
   "source": []
  },
  {
   "cell_type": "code",
   "execution_count": null,
   "metadata": {
    "collapsed": true
   },
   "outputs": [],
   "source": []
  }
 ],
 "metadata": {
  "kernelspec": {
   "display_name": "Python 3",
   "language": "python",
   "name": "python3"
  },
  "language_info": {
   "codemirror_mode": {
    "name": "ipython",
    "version": 3
   },
   "file_extension": ".py",
   "mimetype": "text/x-python",
   "name": "python",
   "nbconvert_exporter": "python",
   "pygments_lexer": "ipython3",
   "version": "3.6.1"
  },
  "toc": {
   "colors": {
    "hover_highlight": "#DAA520",
    "navigate_num": "#000000",
    "navigate_text": "#333333",
    "running_highlight": "#FF0000",
    "selected_highlight": "#FFD700",
    "sidebar_border": "#EEEEEE",
    "wrapper_background": "#FFFFFF"
   },
   "moveMenuLeft": true,
   "nav_menu": {
    "height": "153px",
    "width": "252px"
   },
   "navigate_menu": true,
   "number_sections": true,
   "sideBar": true,
   "threshold": 4,
   "toc_cell": true,
   "toc_section_display": "block",
   "toc_window_display": true,
   "widenNotebook": false
  }
 },
 "nbformat": 4,
 "nbformat_minor": 2
}
